{
 "cells": [
  {
   "cell_type": "code",
   "execution_count": 3,
   "metadata": {},
   "outputs": [],
   "source": [
    "from astroquery.mast import Catalogs"
   ]
  },
  {
   "cell_type": "code",
   "execution_count": 4,
   "metadata": {},
   "outputs": [
    {
     "data": {
      "text/plain": [
       "\u001b[1;31mSignature:\u001b[0m \u001b[0mCatalogs\u001b[0m\u001b[1;33m.\u001b[0m\u001b[0mquery_hsc_matchid\u001b[0m\u001b[1;33m(\u001b[0m\u001b[0mself\u001b[0m\u001b[1;33m,\u001b[0m \u001b[1;33m*\u001b[0m\u001b[0margs\u001b[0m\u001b[1;33m,\u001b[0m \u001b[1;33m**\u001b[0m\u001b[0mkwargs\u001b[0m\u001b[1;33m)\u001b[0m\u001b[1;33m\u001b[0m\u001b[1;33m\u001b[0m\u001b[0m\n",
       "\u001b[1;31mDocstring:\u001b[0m\n",
       "Queries the service and returns a table object.\n",
       "\n",
       "Returns all the matches for a given Hubble Source Catalog MatchID.\n",
       "\n",
       "Parameters\n",
       "----------\n",
       "match : int or `~astropy.table.Row`\n",
       "    The matchID or HSC entry to return matches for.\n",
       "version : int, optional\n",
       "    The HSC version to match against. Default is v3.\n",
       "pagesize : int, optional\n",
       "    Can be used to override the default pagesize.\n",
       "    E.g. when using a slow internet connection.\n",
       "page : int, optional\n",
       "    Can be used to override the default behavior of all results being returned to obtain\n",
       "    one sepcific page of results.\n",
       "\n",
       "Returns\n",
       "-------\n",
       "table : A `~astropy.table.Table` object.\n",
       "\u001b[1;31mSource:\u001b[0m   \n",
       "        \u001b[1;33m@\u001b[0m\u001b[0mclass_or_instance\u001b[0m\u001b[1;33m\n",
       "\u001b[0m        \u001b[1;32mdef\u001b[0m \u001b[0mnewmethod\u001b[0m\u001b[1;33m(\u001b[0m\u001b[0mself\u001b[0m\u001b[1;33m,\u001b[0m \u001b[1;33m*\u001b[0m\u001b[0margs\u001b[0m\u001b[1;33m,\u001b[0m \u001b[1;33m**\u001b[0m\u001b[0mkwargs\u001b[0m\u001b[1;33m)\u001b[0m\u001b[1;33m:\u001b[0m\u001b[1;33m\n",
       "\u001b[0m            \u001b[0mverbose\u001b[0m \u001b[1;33m=\u001b[0m \u001b[0mkwargs\u001b[0m\u001b[1;33m.\u001b[0m\u001b[0mpop\u001b[0m\u001b[1;33m(\u001b[0m\u001b[1;34m'verbose'\u001b[0m\u001b[1;33m,\u001b[0m \u001b[1;32mFalse\u001b[0m\u001b[1;33m)\u001b[0m\u001b[1;33m\n",
       "\u001b[0m\u001b[1;33m\n",
       "\u001b[0m            \u001b[0mresponse\u001b[0m \u001b[1;33m=\u001b[0m \u001b[0mgetattr\u001b[0m\u001b[1;33m(\u001b[0m\u001b[0mself\u001b[0m\u001b[1;33m,\u001b[0m \u001b[0masync_method_name\u001b[0m\u001b[1;33m)\u001b[0m\u001b[1;33m(\u001b[0m\u001b[1;33m*\u001b[0m\u001b[0margs\u001b[0m\u001b[1;33m,\u001b[0m \u001b[1;33m**\u001b[0m\u001b[0mkwargs\u001b[0m\u001b[1;33m)\u001b[0m\u001b[1;33m\n",
       "\u001b[0m            \u001b[1;32mif\u001b[0m \u001b[0mkwargs\u001b[0m\u001b[1;33m.\u001b[0m\u001b[0mget\u001b[0m\u001b[1;33m(\u001b[0m\u001b[1;34m'get_query_payload'\u001b[0m\u001b[1;33m)\u001b[0m \u001b[1;32mor\u001b[0m \u001b[0mkwargs\u001b[0m\u001b[1;33m.\u001b[0m\u001b[0mget\u001b[0m\u001b[1;33m(\u001b[0m\u001b[1;34m'field_help'\u001b[0m\u001b[1;33m)\u001b[0m\u001b[1;33m:\u001b[0m\u001b[1;33m\n",
       "\u001b[0m                \u001b[1;32mreturn\u001b[0m \u001b[0mresponse\u001b[0m\u001b[1;33m\n",
       "\u001b[0m            \u001b[0mresult\u001b[0m \u001b[1;33m=\u001b[0m \u001b[0mself\u001b[0m\u001b[1;33m.\u001b[0m\u001b[0m_parse_result\u001b[0m\u001b[1;33m(\u001b[0m\u001b[0mresponse\u001b[0m\u001b[1;33m,\u001b[0m \u001b[0mverbose\u001b[0m\u001b[1;33m=\u001b[0m\u001b[0mverbose\u001b[0m\u001b[1;33m)\u001b[0m\u001b[1;33m\n",
       "\u001b[0m            \u001b[0mself\u001b[0m\u001b[1;33m.\u001b[0m\u001b[0mtable\u001b[0m \u001b[1;33m=\u001b[0m \u001b[0mresult\u001b[0m\u001b[1;33m\n",
       "\u001b[0m            \u001b[1;32mreturn\u001b[0m \u001b[0mresult\u001b[0m\u001b[1;33m\u001b[0m\u001b[1;33m\u001b[0m\u001b[0m\n",
       "\u001b[1;31mFile:\u001b[0m      c:\\users\\oryan\\appdata\\local\\continuum\\anaconda3\\lib\\site-packages\\astroquery\\utils\\process_asyncs.py\n",
       "\u001b[1;31mType:\u001b[0m      function\n"
      ]
     },
     "metadata": {},
     "output_type": "display_data"
    }
   ],
   "source": [
    "Catalogs.query_hsc_matchid??"
   ]
  },
  {
   "cell_type": "code",
   "execution_count": 28,
   "metadata": {},
   "outputs": [
    {
     "data": {
      "text/html": [
       "<div><i>Table masked=True length=3</i>\n",
       "<table id=\"table1565496630600\" class=\"table-striped table-bordered table-condensed\">\n",
       "<thead><tr><th>CatID</th><th>MatchID</th><th>MemID</th><th>SourceID</th><th>ImageID</th><th>Det</th><th>MatchRA</th><th>MatchDec</th><th>SourceRA</th><th>SourceDec</th><th>D</th><th>DSigma</th><th>AbsCorr</th><th>XImage</th><th>YImage</th><th>ImageName</th><th>Instrument</th><th>Mode</th><th>Detector</th><th>Aperture</th><th>ExposureTime</th><th>StartTime</th><th>StopTime</th><th>StartMJD</th><th>StopMJD</th><th>WaveLength</th><th>Filter</th><th>TargetName</th><th>FluxAper2</th><th>MagAper2</th><th>MagAuto</th><th>PropID</th><th>CI</th><th>KronRadius</th><th>Flags</th><th>naxis</th><th>crpix</th><th>crval</th><th>cd_matrix</th></tr></thead>\n",
       "<thead><tr><th>str9</th><th>str8</th><th>int64</th><th>str13</th><th>str7</th><th>str1</th><th>float64</th><th>float64</th><th>float64</th><th>float64</th><th>float64</th><th>float64</th><th>str1</th><th>float64</th><th>float64</th><th>str26</th><th>str3</th><th>str5</th><th>str7</th><th>str3</th><th>float64</th><th>str21</th><th>str21</th><th>float64</th><th>float64</th><th>float64</th><th>str5</th><th>str9</th><th>float64</th><th>float64</th><th>float64</th><th>int64</th><th>float64</th><th>float64</th><th>int64</th><th>str9</th><th>str15</th><th>str24</th><th>str52</th></tr></thead>\n",
       "<tr><td>277603294</td><td>90000000</td><td>1</td><td>4001257566567</td><td>1076264</td><td>Y</td><td>27.774479731942932</td><td>-44.43708895315168</td><td>27.774483265289152</td><td>-44.43709026872385</td><td>10.243025496460902</td><td>24.19639805374459</td><td>Y</td><td>2868.547119140625</td><td>3385.986083984375</td><td>hst_14734_37_acs_wfc_f814w</td><td>ACS</td><td>ACCUM</td><td>ACS/WFC</td><td>WFC</td><td>4744.0</td><td>/Date(1489469221820)/</td><td>/Date(1489476733873)/</td><td>57826.227104365826</td><td>57826.31404943764</td><td>8044.9941</td><td>F814W</td><td>PHOENIX-I</td><td>0.8466929793357849</td><td>26.12459945678711</td><td>25.920700073242188</td><td>14734</td><td>0.914166646975058</td><td>0.26250001788139343</td><td>0</td><td>5969 5972</td><td>2985.00 2986.50</td><td>27.77221810 -44.44263876</td><td>-1.38889e-005 1.1422e-010 1.1422e-010 1.38889e-005</td></tr>\n",
       "<tr><td>276899542</td><td>90000000</td><td>2</td><td>4001255633909</td><td>1075232</td><td>Y</td><td>27.774479731942932</td><td>-44.43708895315168</td><td>27.774486303663647</td><td>-44.43709020733559</td><td>17.485407254869372</td><td>24.19639805374459</td><td>Y</td><td>2876.444091796875</td><td>3378.781982421875</td><td>hst_14734_34_acs_wfc_f606w</td><td>ACS</td><td>ACCUM</td><td>ACS/WFC</td><td>WFC</td><td>4603.0</td><td>/Date(1489789193837)/</td><td>/Date(1489807289893)/</td><td>57829.93048417615</td><td>57830.13992929412</td><td>5921.9521</td><td>F606W</td><td>PHOENIX-I</td><td>1.4125699996948242</td><td>26.122299194335938</td><td>25.984699249267578</td><td>14734</td><td>0.9838889042536417</td><td>0.23599998652935028</td><td>0</td><td>5969 5971</td><td>2985.00 2986.00</td><td>27.77237142 -44.44254468</td><td>-1.38889e-005 6.69196e-009 6.69196e-009 1.38889e-005</td></tr>\n",
       "<tr><td>277095506</td><td>90000000</td><td>3</td><td>4001256673126</td><td>1075886</td><td>Y</td><td>27.774479731942932</td><td>-44.43708895315168</td><td>27.774469626876694</td><td>-44.43708638339493</td><td>27.57303609254381</td><td>24.19639805374459</td><td>Y</td><td>2869.447998046875</td><td>3385.319091796875</td><td>hst_14734_36_acs_wfc_f606w</td><td>ACS</td><td>ACCUM</td><td>ACS/WFC</td><td>WFC</td><td>4744.0</td><td>/Date(1489457037820)/</td><td>/Date(1489465277873)/</td><td>57826.08608586574</td><td>57826.1814568541</td><td>5921.9521</td><td>F606W</td><td>PHOENIX-I</td><td>1.3646999597549438</td><td>26.159799575805664</td><td>26.0403995513916</td><td>14734</td><td>1.109444432788425</td><td>0.2970000207424164</td><td>0</td><td>5969 5971</td><td>2985.00 2986.00</td><td>27.77221838 -44.44263145</td><td>-1.38889e-005 6.34179e-009 6.34179e-009 1.38889e-005</td></tr>\n",
       "</table></div>"
      ],
      "text/plain": [
       "<Table masked=True length=3>\n",
       "  CatID   MatchID  ...                      cd_matrix                      \n",
       "   str9     str8   ...                        str52                        \n",
       "--------- -------- ... ----------------------------------------------------\n",
       "277603294 90000000 ...   -1.38889e-005 1.1422e-010 1.1422e-010 1.38889e-005\n",
       "276899542 90000000 ... -1.38889e-005 6.69196e-009 6.69196e-009 1.38889e-005\n",
       "277095506 90000000 ... -1.38889e-005 6.34179e-009 6.34179e-009 1.38889e-005"
      ]
     },
     "execution_count": 28,
     "metadata": {},
     "output_type": "execute_result"
    }
   ],
   "source": [
    "Catalogs.query_hsc_matchid(9e7)"
   ]
  },
  {
   "cell_type": "code",
   "execution_count": null,
   "metadata": {},
   "outputs": [],
   "source": []
  }
 ],
 "metadata": {
  "kernelspec": {
   "display_name": "Python 3",
   "language": "python",
   "name": "python3"
  },
  "language_info": {
   "codemirror_mode": {
    "name": "ipython",
    "version": 3
   },
   "file_extension": ".py",
   "mimetype": "text/x-python",
   "name": "python",
   "nbconvert_exporter": "python",
   "pygments_lexer": "ipython3",
   "version": "3.7.4"
  }
 },
 "nbformat": 4,
 "nbformat_minor": 4
}
