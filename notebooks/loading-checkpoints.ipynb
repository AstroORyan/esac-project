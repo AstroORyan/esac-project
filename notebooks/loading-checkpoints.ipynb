{
 "cells": [
  {
   "cell_type": "markdown",
   "metadata": {},
   "source": [
    "## Testing Loading Checkpoints"
   ]
  },
  {
   "cell_type": "code",
   "execution_count": 32,
   "metadata": {},
   "outputs": [],
   "source": [
    "from zoobot.tensorflow.estimators import define_model, preprocess\n",
    "import tensorflow as tf\n",
    "from tensorflow.keras import layers"
   ]
  },
  {
   "cell_type": "code",
   "execution_count": 12,
   "metadata": {},
   "outputs": [],
   "source": [
    "finetuned_location = 'C:/Users/oryan/Documents/zoobot_new/model-logs/2022-05-05-HEC-all-unfrozen-0.89/finetuned/checkpoint' # - Doesn't work\n",
    "# finetuned_location = 'C:/Users/oryan/Documents/zoobot_tests/model/checkpoint' # - Works\n",
    "# finetuned_location = r'C:\\Users\\oryan\\Documents\\esac-project\\logs\\top_block7_block6_unfrozen\\trained-head\\checkpoint' # Doesn't work. Not even trained head works..."
   ]
  },
  {
   "cell_type": "code",
   "execution_count": 29,
   "metadata": {},
   "outputs": [],
   "source": [
    "folder = 'C:/Users/oryan/Documents/zoobot_new/pretrained-models'\n",
    "pretrained_checkpoint = f'{folder}/replicated_train_only_greyscale_tf/replicated_train_only_greyscale_tf/checkpoint'"
   ]
  },
  {
   "cell_type": "code",
   "execution_count": 30,
   "metadata": {},
   "outputs": [],
   "source": [
    "requested_img_size = 300\n",
    "crop_size = int(0.75 * requested_img_size)\n",
    "resize_size = 224"
   ]
  },
  {
   "cell_type": "code",
   "execution_count": 33,
   "metadata": {},
   "outputs": [
    {
     "name": "stderr",
     "output_type": "stream",
     "text": [
      "WARNING:root:Crop size and final size are similar: skipping resizing and cropping directly to resize_size (ignoring crop_size)\n"
     ]
    }
   ],
   "source": [
    "base_model = define_model.load_model(\n",
    "    pretrained_checkpoint,\n",
    "    include_top=False,\n",
    "    input_size = requested_img_size,\n",
    "    crop_size = crop_size,\n",
    "    resize_size = resize_size,\n",
    "    output_dim=None,\n",
    "    channels=1,\n",
    "    expect_partial=True\n",
    ")\n",
    "\n",
    "base_model.trainable = False\n",
    "\n",
    "para_relu = layers.PReLU()\n",
    "\n",
    "new_head = tf.keras.Sequential([\n",
    "    layers.InputLayer(input_shape=(7,7,1280)),\n",
    "    layers.GlobalAveragePooling2D(),\n",
    "    layers.Dense(64,activation=para_relu),\n",
    "    #layers.Dropout(0.75),\n",
    "    layers.Dense(64,activation='elu'),\n",
    "    layers.Dropout(0.25),\n",
    "    layers.Dense(64,activation='relu'),\n",
    "    layers.Dropout(0.25),\n",
    "    layers.Dense(64,activation='relu'),\n",
    "    layers.Dropout(0.25),\n",
    "    layers.Dense(64,activation = para_relu),\n",
    "    layers.Dropout(0.25),\n",
    "    layers.Dense(1,activation='sigmoid',name='sigmoid_output')\n",
    "])\n",
    "\n",
    "model = tf.keras.Sequential([\n",
    "    tf.keras.layers.InputLayer(input_shape=(requested_img_size, requested_img_size,1)),\n",
    "    base_model,\n",
    "    new_head\n",
    "])"
   ]
  },
  {
   "cell_type": "code",
   "execution_count": 39,
   "metadata": {},
   "outputs": [
    {
     "data": {
      "text/plain": [
       "<tensorflow.python.training.tracking.util.CheckpointLoadStatus at 0x161f5e75808>"
      ]
     },
     "execution_count": 39,
     "metadata": {},
     "output_type": "execute_result"
    }
   ],
   "source": [
    "model.load_weights(finetuned_location).expect_partial()"
   ]
  },
  {
   "cell_type": "code",
   "execution_count": null,
   "metadata": {},
   "outputs": [],
   "source": []
  }
 ],
 "metadata": {
  "kernelspec": {
   "display_name": "Python 3",
   "language": "python",
   "name": "python3"
  },
  "language_info": {
   "codemirror_mode": {
    "name": "ipython",
    "version": 3
   },
   "file_extension": ".py",
   "mimetype": "text/x-python",
   "name": "python",
   "nbconvert_exporter": "python",
   "pygments_lexer": "ipython3",
   "version": "3.7.4"
  }
 },
 "nbformat": 4,
 "nbformat_minor": 4
}
