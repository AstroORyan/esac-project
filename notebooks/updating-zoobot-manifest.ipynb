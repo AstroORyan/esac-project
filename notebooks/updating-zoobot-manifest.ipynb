{
 "cells": [
  {
   "cell_type": "code",
   "execution_count": 6,
   "metadata": {},
   "outputs": [],
   "source": [
    "import pandas as pd\n",
    "import os"
   ]
  },
  {
   "cell_type": "code",
   "execution_count": 2,
   "metadata": {},
   "outputs": [],
   "source": [
    "folder = 'C:/Users/oryan/Documents/zoobot_new'"
   ]
  },
  {
   "cell_type": "code",
   "execution_count": 3,
   "metadata": {},
   "outputs": [],
   "source": [
    "manifest = pd.read_csv(f'{folder}/cutouts/hubble-training-300-300-rgb/hubble-thumb-manifest-checked.csv',index_col = 0).reset_index().rename(columns={'index':'id'})"
   ]
  },
  {
   "cell_type": "code",
   "execution_count": 10,
   "metadata": {},
   "outputs": [],
   "source": [
    "manifest_names = (\n",
    "    manifest\n",
    "    .assign(names = manifest.thumbnail_path.apply(lambda x: os.path.basename(x).replace('_4','_3')))\n",
    "    .drop(columns='thumbnail_path')\n",
    ")"
   ]
  },
  {
   "cell_type": "code",
   "execution_count": 16,
   "metadata": {},
   "outputs": [],
   "source": [
    "manifest_export = (\n",
    "    manifest_names\n",
    "    .assign(thumbnail_path = manifest_names.names.apply(lambda x: f'/mmfs1/storage/users/oryan/hubble-cutouts/{x}'))\n",
    "    .drop(columns='names')\n",
    ")"
   ]
  },
  {
   "cell_type": "code",
   "execution_count": 17,
   "metadata": {},
   "outputs": [],
   "source": [
    "manifest_export.to_csv(f'{folder}/cutouts/hubble-training-300-300-rgb/hubble-thumb-manifest-checked.csv')"
   ]
  },
  {
   "cell_type": "code",
   "execution_count": null,
   "metadata": {},
   "outputs": [],
   "source": []
  }
 ],
 "metadata": {
  "kernelspec": {
   "display_name": "Python 3",
   "language": "python",
   "name": "python3"
  },
  "language_info": {
   "codemirror_mode": {
    "name": "ipython",
    "version": 3
   },
   "file_extension": ".py",
   "mimetype": "text/x-python",
   "name": "python",
   "nbconvert_exporter": "python",
   "pygments_lexer": "ipython3",
   "version": "3.7.4"
  }
 },
 "nbformat": 4,
 "nbformat_minor": 4
}
