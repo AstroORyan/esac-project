{
 "cells": [
  {
   "cell_type": "code",
   "execution_count": 37,
   "metadata": {},
   "outputs": [],
   "source": [
    "import pandas as pd\n",
    "import numpy as np\n",
    "from sklearn.utils import shuffle\n",
    "import os"
   ]
  },
  {
   "cell_type": "code",
   "execution_count": 2,
   "metadata": {},
   "outputs": [],
   "source": [
    "large_dataset_df = (\n",
    "    pd.read_csv('C:/Users/oryan/Documents/esac-project/manifests/large-training-set-labelled.csv',index_col = 0)\n",
    ")"
   ]
  },
  {
   "cell_type": "code",
   "execution_count": 3,
   "metadata": {},
   "outputs": [
    {
     "data": {
      "text/html": [
       "<div>\n",
       "<style scoped>\n",
       "    .dataframe tbody tr th:only-of-type {\n",
       "        vertical-align: middle;\n",
       "    }\n",
       "\n",
       "    .dataframe tbody tr th {\n",
       "        vertical-align: top;\n",
       "    }\n",
       "\n",
       "    .dataframe thead th {\n",
       "        text-align: right;\n",
       "    }\n",
       "</style>\n",
       "<table border=\"1\" class=\"dataframe\">\n",
       "  <thead>\n",
       "    <tr style=\"text-align: right;\">\n",
       "      <th></th>\n",
       "      <th>zooniverse_id</th>\n",
       "      <th>thumbnail_path</th>\n",
       "      <th>interaction</th>\n",
       "    </tr>\n",
       "  </thead>\n",
       "  <tbody>\n",
       "    <tr>\n",
       "      <th>0</th>\n",
       "      <td>AHZ2001cnu</td>\n",
       "      <td>/mmfs1/scratch/hpc/60/oryan/thumbnails/AHZ2001...</td>\n",
       "      <td>0</td>\n",
       "    </tr>\n",
       "    <tr>\n",
       "      <th>1</th>\n",
       "      <td>AHZ200067f</td>\n",
       "      <td>/mmfs1/scratch/hpc/60/oryan/thumbnails/AHZ2000...</td>\n",
       "      <td>0</td>\n",
       "    </tr>\n",
       "    <tr>\n",
       "      <th>2</th>\n",
       "      <td>AHZ400034x</td>\n",
       "      <td>/mmfs1/scratch/hpc/60/oryan/thumbnails/AHZ4000...</td>\n",
       "      <td>0</td>\n",
       "    </tr>\n",
       "    <tr>\n",
       "      <th>3</th>\n",
       "      <td>AHZ100022b</td>\n",
       "      <td>/mmfs1/scratch/hpc/60/oryan/thumbnails/AHZ1000...</td>\n",
       "      <td>0</td>\n",
       "    </tr>\n",
       "    <tr>\n",
       "      <th>4</th>\n",
       "      <td>AHZ2001ik8</td>\n",
       "      <td>/mmfs1/scratch/hpc/60/oryan/thumbnails/AHZ2001...</td>\n",
       "      <td>0</td>\n",
       "    </tr>\n",
       "    <tr>\n",
       "      <th>...</th>\n",
       "      <td>...</td>\n",
       "      <td>...</td>\n",
       "      <td>...</td>\n",
       "    </tr>\n",
       "    <tr>\n",
       "      <th>6563</th>\n",
       "      <td>AHZ2000x6a</td>\n",
       "      <td>/mmfs1/scratch/hpc/60/oryan/thumbnails/AHZ2000...</td>\n",
       "      <td>1</td>\n",
       "    </tr>\n",
       "    <tr>\n",
       "      <th>6564</th>\n",
       "      <td>AHZ2000ybi</td>\n",
       "      <td>/mmfs1/scratch/hpc/60/oryan/thumbnails/AHZ2000...</td>\n",
       "      <td>1</td>\n",
       "    </tr>\n",
       "    <tr>\n",
       "      <th>6565</th>\n",
       "      <td>AHZ2000vix</td>\n",
       "      <td>/mmfs1/scratch/hpc/60/oryan/thumbnails/AHZ2000...</td>\n",
       "      <td>0</td>\n",
       "    </tr>\n",
       "    <tr>\n",
       "      <th>6566</th>\n",
       "      <td>AHZ2000k4m</td>\n",
       "      <td>/mmfs1/scratch/hpc/60/oryan/thumbnails/AHZ2000...</td>\n",
       "      <td>0</td>\n",
       "    </tr>\n",
       "    <tr>\n",
       "      <th>6567</th>\n",
       "      <td>AHZ20000fa</td>\n",
       "      <td>/mmfs1/scratch/hpc/60/oryan/thumbnails/AHZ2000...</td>\n",
       "      <td>0</td>\n",
       "    </tr>\n",
       "  </tbody>\n",
       "</table>\n",
       "<p>6568 rows × 3 columns</p>\n",
       "</div>"
      ],
      "text/plain": [
       "     zooniverse_id                                     thumbnail_path  \\\n",
       "0       AHZ2001cnu  /mmfs1/scratch/hpc/60/oryan/thumbnails/AHZ2001...   \n",
       "1       AHZ200067f  /mmfs1/scratch/hpc/60/oryan/thumbnails/AHZ2000...   \n",
       "2       AHZ400034x  /mmfs1/scratch/hpc/60/oryan/thumbnails/AHZ4000...   \n",
       "3       AHZ100022b  /mmfs1/scratch/hpc/60/oryan/thumbnails/AHZ1000...   \n",
       "4       AHZ2001ik8  /mmfs1/scratch/hpc/60/oryan/thumbnails/AHZ2001...   \n",
       "...            ...                                                ...   \n",
       "6563    AHZ2000x6a  /mmfs1/scratch/hpc/60/oryan/thumbnails/AHZ2000...   \n",
       "6564    AHZ2000ybi  /mmfs1/scratch/hpc/60/oryan/thumbnails/AHZ2000...   \n",
       "6565    AHZ2000vix  /mmfs1/scratch/hpc/60/oryan/thumbnails/AHZ2000...   \n",
       "6566    AHZ2000k4m  /mmfs1/scratch/hpc/60/oryan/thumbnails/AHZ2000...   \n",
       "6567    AHZ20000fa  /mmfs1/scratch/hpc/60/oryan/thumbnails/AHZ2000...   \n",
       "\n",
       "      interaction  \n",
       "0               0  \n",
       "1               0  \n",
       "2               0  \n",
       "3               0  \n",
       "4               0  \n",
       "...           ...  \n",
       "6563            1  \n",
       "6564            1  \n",
       "6565            0  \n",
       "6566            0  \n",
       "6567            0  \n",
       "\n",
       "[6568 rows x 3 columns]"
      ]
     },
     "execution_count": 3,
     "metadata": {},
     "output_type": "execute_result"
    }
   ],
   "source": [
    "large_dataset_df"
   ]
  },
  {
   "cell_type": "code",
   "execution_count": 5,
   "metadata": {},
   "outputs": [],
   "source": [
    "validation_dataset_df = pd.read_csv(r'C:/Users/oryan/Documents/esac-project/manifests/validation_set_manifest.csv', index_col = 0)"
   ]
  },
  {
   "cell_type": "code",
   "execution_count": 14,
   "metadata": {},
   "outputs": [],
   "source": [
    "matching_indices = list(large_dataset_df.merge(validation_dataset_df,on='zooniverse_id',how='right').dropna().index)"
   ]
  },
  {
   "cell_type": "code",
   "execution_count": 20,
   "metadata": {},
   "outputs": [],
   "source": [
    "mask = np.full(len(validation_dataset_df), True, dtype=bool)"
   ]
  },
  {
   "cell_type": "code",
   "execution_count": 22,
   "metadata": {},
   "outputs": [],
   "source": [
    "mask[matching_indices] = False"
   ]
  },
  {
   "cell_type": "code",
   "execution_count": 26,
   "metadata": {},
   "outputs": [],
   "source": [
    "masked_valid_df = validation_dataset_df[mask]"
   ]
  },
  {
   "cell_type": "code",
   "execution_count": 28,
   "metadata": {},
   "outputs": [],
   "source": [
    "shuffle_valid_df = (\n",
    "    shuffle(masked_valid_df)\n",
    "    .reset_index()\n",
    "    .drop(columns='index')\n",
    ")"
   ]
  },
  {
   "cell_type": "code",
   "execution_count": 29,
   "metadata": {},
   "outputs": [
    {
     "data": {
      "text/html": [
       "<div>\n",
       "<style scoped>\n",
       "    .dataframe tbody tr th:only-of-type {\n",
       "        vertical-align: middle;\n",
       "    }\n",
       "\n",
       "    .dataframe tbody tr th {\n",
       "        vertical-align: top;\n",
       "    }\n",
       "\n",
       "    .dataframe thead th {\n",
       "        text-align: right;\n",
       "    }\n",
       "</style>\n",
       "<table border=\"1\" class=\"dataframe\">\n",
       "  <thead>\n",
       "    <tr style=\"text-align: right;\">\n",
       "      <th></th>\n",
       "      <th>zooniverse_id</th>\n",
       "      <th>RA</th>\n",
       "      <th>DEC</th>\n",
       "      <th>interaction</th>\n",
       "    </tr>\n",
       "  </thead>\n",
       "  <tbody>\n",
       "    <tr>\n",
       "      <th>0</th>\n",
       "      <td>AHZ2001nyt</td>\n",
       "      <td>150.420640</td>\n",
       "      <td>2.397025</td>\n",
       "      <td>0</td>\n",
       "    </tr>\n",
       "    <tr>\n",
       "      <th>1</th>\n",
       "      <td>AHZ20007p5</td>\n",
       "      <td>149.505153</td>\n",
       "      <td>1.790612</td>\n",
       "      <td>0</td>\n",
       "    </tr>\n",
       "    <tr>\n",
       "      <th>2</th>\n",
       "      <td>AHZ2001k19</td>\n",
       "      <td>149.537093</td>\n",
       "      <td>2.722033</td>\n",
       "      <td>0</td>\n",
       "    </tr>\n",
       "    <tr>\n",
       "      <th>3</th>\n",
       "      <td>AHZ20014y0</td>\n",
       "      <td>150.617792</td>\n",
       "      <td>2.533808</td>\n",
       "      <td>0</td>\n",
       "    </tr>\n",
       "    <tr>\n",
       "      <th>4</th>\n",
       "      <td>AHZ20008pa</td>\n",
       "      <td>150.584606</td>\n",
       "      <td>1.922963</td>\n",
       "      <td>0</td>\n",
       "    </tr>\n",
       "    <tr>\n",
       "      <th>...</th>\n",
       "      <td>...</td>\n",
       "      <td>...</td>\n",
       "      <td>...</td>\n",
       "      <td>...</td>\n",
       "    </tr>\n",
       "    <tr>\n",
       "      <th>326</th>\n",
       "      <td>AHZ2001gyi</td>\n",
       "      <td>150.063157</td>\n",
       "      <td>2.649346</td>\n",
       "      <td>0</td>\n",
       "    </tr>\n",
       "    <tr>\n",
       "      <th>327</th>\n",
       "      <td>AHZ2001fii</td>\n",
       "      <td>150.341710</td>\n",
       "      <td>2.679582</td>\n",
       "      <td>0</td>\n",
       "    </tr>\n",
       "    <tr>\n",
       "      <th>328</th>\n",
       "      <td>AHZ2001rxe</td>\n",
       "      <td>149.962447</td>\n",
       "      <td>2.457763</td>\n",
       "      <td>1</td>\n",
       "    </tr>\n",
       "    <tr>\n",
       "      <th>329</th>\n",
       "      <td>AHZ2001c2g</td>\n",
       "      <td>149.466786</td>\n",
       "      <td>2.544444</td>\n",
       "      <td>0</td>\n",
       "    </tr>\n",
       "    <tr>\n",
       "      <th>330</th>\n",
       "      <td>AHZ20017kg</td>\n",
       "      <td>150.199855</td>\n",
       "      <td>2.552535</td>\n",
       "      <td>0</td>\n",
       "    </tr>\n",
       "  </tbody>\n",
       "</table>\n",
       "<p>331 rows × 4 columns</p>\n",
       "</div>"
      ],
      "text/plain": [
       "    zooniverse_id          RA       DEC  interaction\n",
       "0      AHZ2001nyt  150.420640  2.397025            0\n",
       "1      AHZ20007p5  149.505153  1.790612            0\n",
       "2      AHZ2001k19  149.537093  2.722033            0\n",
       "3      AHZ20014y0  150.617792  2.533808            0\n",
       "4      AHZ20008pa  150.584606  1.922963            0\n",
       "..            ...         ...       ...          ...\n",
       "326    AHZ2001gyi  150.063157  2.649346            0\n",
       "327    AHZ2001fii  150.341710  2.679582            0\n",
       "328    AHZ2001rxe  149.962447  2.457763            1\n",
       "329    AHZ2001c2g  149.466786  2.544444            0\n",
       "330    AHZ20017kg  150.199855  2.552535            0\n",
       "\n",
       "[331 rows x 4 columns]"
      ]
     },
     "execution_count": 29,
     "metadata": {},
     "output_type": "execute_result"
    }
   ],
   "source": [
    "shuffle_valid_df"
   ]
  },
  {
   "cell_type": "code",
   "execution_count": 30,
   "metadata": {},
   "outputs": [
    {
     "data": {
      "text/plain": [
       "0    292\n",
       "1     39\n",
       "Name: interaction, dtype: int64"
      ]
     },
     "execution_count": 30,
     "metadata": {},
     "output_type": "execute_result"
    }
   ],
   "source": [
    "shuffle_valid_df.interaction.value_counts()"
   ]
  },
  {
   "cell_type": "code",
   "execution_count": 35,
   "metadata": {},
   "outputs": [],
   "source": [
    "local_paths_df = (\n",
    "    shuffle_valid_df\n",
    "    .assign(filepath = shuffle_valid_df.zooniverse_id.apply(lambda x: '/mmfs1/scratch/hpc/60/oryan/validation-set-mixed/' + str(x) + '_300_300_3.png'))\n",
    "    .assign(filepath_local = shuffle_valid_df.zooniverse_id.apply(lambda x: 'C:/Users/oryan/Documents/esac-project/cutouts/hubble-training-100-valid/' + str(x) + '_300_300_3.png'))\n",
    ")"
   ]
  },
  {
   "cell_type": "code",
   "execution_count": 47,
   "metadata": {},
   "outputs": [],
   "source": [
    "local_paths_checked = (\n",
    "    local_paths_df\n",
    "    .assign(exists = local_paths_df.filepath_local.apply(lambda x: 1 if os.path.exists(x) else np.nan))\n",
    "    .dropna()\n",
    "    .drop(columns='filepath_local')\n",
    ")"
   ]
  },
  {
   "cell_type": "code",
   "execution_count": 49,
   "metadata": {},
   "outputs": [],
   "source": [
    "local_paths_export = local_paths_checked.drop(columns='exists')"
   ]
  },
  {
   "cell_type": "code",
   "execution_count": 52,
   "metadata": {},
   "outputs": [
    {
     "data": {
      "text/plain": [
       "0    275\n",
       "1     37\n",
       "Name: interaction, dtype: int64"
      ]
     },
     "execution_count": 52,
     "metadata": {},
     "output_type": "execute_result"
    }
   ],
   "source": [
    "local_paths_export.interaction.value_counts()"
   ]
  },
  {
   "cell_type": "code",
   "execution_count": 50,
   "metadata": {},
   "outputs": [],
   "source": [
    "local_paths_export.to_csv('C:/Users/oryan/Documents/esac-project/manifests/validation-set-manifest-checked.csv')"
   ]
  },
  {
   "cell_type": "code",
   "execution_count": null,
   "metadata": {},
   "outputs": [],
   "source": []
  }
 ],
 "metadata": {
  "kernelspec": {
   "display_name": "Python 3",
   "language": "python",
   "name": "python3"
  },
  "language_info": {
   "codemirror_mode": {
    "name": "ipython",
    "version": 3
   },
   "file_extension": ".py",
   "mimetype": "text/x-python",
   "name": "python",
   "nbconvert_exporter": "python",
   "pygments_lexer": "ipython3",
   "version": "3.7.4"
  }
 },
 "nbformat": 4,
 "nbformat_minor": 4
}
