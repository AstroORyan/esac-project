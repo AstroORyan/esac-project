{
 "cells": [
  {
   "cell_type": "code",
   "execution_count": 145,
   "metadata": {},
   "outputs": [],
   "source": [
    "import pandas as pd\n",
    "from sklearn.utils import shuffle\n",
    "import os\n",
    "from PIL import Image\n",
    "import tensorflow as tf\n",
    "from tensorflow.keras import layers\n",
    "import ast\n",
    "from sklearn.metrics import confusion_matrix, roc_curve, precision_recall_curve, PrecisionRecallDisplay, precision_score\n",
    "import seaborn as sns\n",
    "import matplotlib.pyplot as plt\n",
    "import numpy as np\n",
    "\n",
    "from zoobot.tensorflow.data_utils import image_datasets\n",
    "from zoobot.tensorflow.estimators import define_model, preprocess\n",
    "from zoobot.tensorflow.predictions import predict_on_dataset"
   ]
  },
  {
   "cell_type": "code",
   "execution_count": 17,
   "metadata": {},
   "outputs": [],
   "source": [
    "df = shuffle(pd.read_csv('C:/Users/oryan/Documents/esac-project/cutouts/hubble-training-100-valid/hubble-valid-manifest-checked.csv',index_col = 0).reset_index())"
   ]
  },
  {
   "cell_type": "code",
   "execution_count": 18,
   "metadata": {},
   "outputs": [
    {
     "data": {
      "text/plain": [
       "394"
      ]
     },
     "execution_count": 18,
     "metadata": {},
     "output_type": "execute_result"
    }
   ],
   "source": [
    "len(df)"
   ]
  },
  {
   "cell_type": "code",
   "execution_count": 19,
   "metadata": {},
   "outputs": [
    {
     "data": {
      "text/html": [
       "<div>\n",
       "<style scoped>\n",
       "    .dataframe tbody tr th:only-of-type {\n",
       "        vertical-align: middle;\n",
       "    }\n",
       "\n",
       "    .dataframe tbody tr th {\n",
       "        vertical-align: top;\n",
       "    }\n",
       "\n",
       "    .dataframe thead th {\n",
       "        text-align: right;\n",
       "    }\n",
       "</style>\n",
       "<table border=\"1\" class=\"dataframe\">\n",
       "  <thead>\n",
       "    <tr style=\"text-align: right;\">\n",
       "      <th></th>\n",
       "      <th>index</th>\n",
       "      <th>thumbnail_path</th>\n",
       "      <th>RA</th>\n",
       "      <th>DEC</th>\n",
       "      <th>interacting</th>\n",
       "    </tr>\n",
       "  </thead>\n",
       "  <tbody>\n",
       "    <tr>\n",
       "      <th>115</th>\n",
       "      <td>AHZ2001jou</td>\n",
       "      <td>/mmfs1/scratch/hpc/60/oryan/fromMAST/thumbnail...</td>\n",
       "      <td>149.681054</td>\n",
       "      <td>2.695037</td>\n",
       "      <td>0</td>\n",
       "    </tr>\n",
       "    <tr>\n",
       "      <th>236</th>\n",
       "      <td>AHZ20007kr</td>\n",
       "      <td>/mmfs1/scratch/hpc/60/oryan/fromMAST/thumbnail...</td>\n",
       "      <td>149.633946</td>\n",
       "      <td>1.625473</td>\n",
       "      <td>0</td>\n",
       "    </tr>\n",
       "    <tr>\n",
       "      <th>331</th>\n",
       "      <td>AHZ2001pvo</td>\n",
       "      <td>/mmfs1/scratch/hpc/60/oryan/fromMAST/thumbnail...</td>\n",
       "      <td>150.346317</td>\n",
       "      <td>2.003955</td>\n",
       "      <td>1</td>\n",
       "    </tr>\n",
       "    <tr>\n",
       "      <th>348</th>\n",
       "      <td>AHZ2001r16</td>\n",
       "      <td>/mmfs1/scratch/hpc/60/oryan/fromMAST/thumbnail...</td>\n",
       "      <td>150.273939</td>\n",
       "      <td>2.456319</td>\n",
       "      <td>1</td>\n",
       "    </tr>\n",
       "    <tr>\n",
       "      <th>143</th>\n",
       "      <td>AHZ2000ha4</td>\n",
       "      <td>/mmfs1/scratch/hpc/60/oryan/fromMAST/thumbnail...</td>\n",
       "      <td>150.557320</td>\n",
       "      <td>1.984174</td>\n",
       "      <td>0</td>\n",
       "    </tr>\n",
       "    <tr>\n",
       "      <th>...</th>\n",
       "      <td>...</td>\n",
       "      <td>...</td>\n",
       "      <td>...</td>\n",
       "      <td>...</td>\n",
       "      <td>...</td>\n",
       "    </tr>\n",
       "    <tr>\n",
       "      <th>156</th>\n",
       "      <td>AHZ40000mn</td>\n",
       "      <td>/mmfs1/scratch/hpc/60/oryan/fromMAST/thumbnail...</td>\n",
       "      <td>53.282673</td>\n",
       "      <td>-28.057021</td>\n",
       "      <td>0</td>\n",
       "    </tr>\n",
       "    <tr>\n",
       "      <th>18</th>\n",
       "      <td>AHZ2000e7l</td>\n",
       "      <td>/mmfs1/scratch/hpc/60/oryan/fromMAST/thumbnail...</td>\n",
       "      <td>149.614079</td>\n",
       "      <td>1.916379</td>\n",
       "      <td>0</td>\n",
       "    </tr>\n",
       "    <tr>\n",
       "      <th>78</th>\n",
       "      <td>AHZ200135i</td>\n",
       "      <td>/mmfs1/scratch/hpc/60/oryan/fromMAST/thumbnail...</td>\n",
       "      <td>149.598577</td>\n",
       "      <td>2.310079</td>\n",
       "      <td>0</td>\n",
       "    </tr>\n",
       "    <tr>\n",
       "      <th>353</th>\n",
       "      <td>AHZ2001rap</td>\n",
       "      <td>/mmfs1/scratch/hpc/60/oryan/fromMAST/thumbnail...</td>\n",
       "      <td>149.881551</td>\n",
       "      <td>2.340114</td>\n",
       "      <td>1</td>\n",
       "    </tr>\n",
       "    <tr>\n",
       "      <th>52</th>\n",
       "      <td>AHZ2000r4k</td>\n",
       "      <td>/mmfs1/scratch/hpc/60/oryan/fromMAST/thumbnail...</td>\n",
       "      <td>150.125340</td>\n",
       "      <td>2.149747</td>\n",
       "      <td>0</td>\n",
       "    </tr>\n",
       "  </tbody>\n",
       "</table>\n",
       "<p>394 rows × 5 columns</p>\n",
       "</div>"
      ],
      "text/plain": [
       "          index                                     thumbnail_path  \\\n",
       "115  AHZ2001jou  /mmfs1/scratch/hpc/60/oryan/fromMAST/thumbnail...   \n",
       "236  AHZ20007kr  /mmfs1/scratch/hpc/60/oryan/fromMAST/thumbnail...   \n",
       "331  AHZ2001pvo  /mmfs1/scratch/hpc/60/oryan/fromMAST/thumbnail...   \n",
       "348  AHZ2001r16  /mmfs1/scratch/hpc/60/oryan/fromMAST/thumbnail...   \n",
       "143  AHZ2000ha4  /mmfs1/scratch/hpc/60/oryan/fromMAST/thumbnail...   \n",
       "..          ...                                                ...   \n",
       "156  AHZ40000mn  /mmfs1/scratch/hpc/60/oryan/fromMAST/thumbnail...   \n",
       "18   AHZ2000e7l  /mmfs1/scratch/hpc/60/oryan/fromMAST/thumbnail...   \n",
       "78   AHZ200135i  /mmfs1/scratch/hpc/60/oryan/fromMAST/thumbnail...   \n",
       "353  AHZ2001rap  /mmfs1/scratch/hpc/60/oryan/fromMAST/thumbnail...   \n",
       "52   AHZ2000r4k  /mmfs1/scratch/hpc/60/oryan/fromMAST/thumbnail...   \n",
       "\n",
       "             RA        DEC  interacting  \n",
       "115  149.681054   2.695037            0  \n",
       "236  149.633946   1.625473            0  \n",
       "331  150.346317   2.003955            1  \n",
       "348  150.273939   2.456319            1  \n",
       "143  150.557320   1.984174            0  \n",
       "..          ...        ...          ...  \n",
       "156   53.282673 -28.057021            0  \n",
       "18   149.614079   1.916379            0  \n",
       "78   149.598577   2.310079            0  \n",
       "353  149.881551   2.340114            1  \n",
       "52   150.125340   2.149747            0  \n",
       "\n",
       "[394 rows x 5 columns]"
      ]
     },
     "execution_count": 19,
     "metadata": {},
     "output_type": "execute_result"
    }
   ],
   "source": [
    "df"
   ]
  },
  {
   "cell_type": "code",
   "execution_count": 25,
   "metadata": {},
   "outputs": [],
   "source": [
    "df_local = (\n",
    "    df.assign(file_loc = df.thumbnail_path.apply(lambda x: 'C:/Users/oryan/Documents/esac-project/cutouts/hubble-training-100-valid/' + os.path.basename(x)))\n",
    ")"
   ]
  },
  {
   "cell_type": "markdown",
   "metadata": {},
   "source": [
    "### Making Predictions"
   ]
  },
  {
   "cell_type": "markdown",
   "metadata": {},
   "source": [
    "#### Loading the Model"
   ]
  },
  {
   "cell_type": "code",
   "execution_count": 27,
   "metadata": {},
   "outputs": [],
   "source": [
    "model_loc = 'C:/Users/oryan/Documents/zoobot_new/pretrained-models/replicated_train_only_greyscale_tf/replicated_train_only_greyscale_tf/checkpoint'\n",
    "finetune_loc = 'C:/Users/oryan/Documents/zoobot_new/model-logs/2022-05-05-HEC-all-unfrozen-0.89/finetuned/checkpoint'"
   ]
  },
  {
   "cell_type": "code",
   "execution_count": 29,
   "metadata": {},
   "outputs": [],
   "source": [
    "input_size = 300\n",
    "crop_size = int(0.75 * input_size)\n",
    "resize_size = 224"
   ]
  },
  {
   "cell_type": "code",
   "execution_count": 30,
   "metadata": {},
   "outputs": [
    {
     "name": "stderr",
     "output_type": "stream",
     "text": [
      "WARNING:root:Crop size and final size are similar: skipping resizing and cropping directly to resize_size (ignoring crop_size)\n"
     ]
    }
   ],
   "source": [
    "base_model = define_model.load_model(\n",
    "    checkpoint_loc = model_loc,\n",
    "    include_top = False,\n",
    "    input_size = input_size,\n",
    "    crop_size = crop_size,\n",
    "    resize_size = resize_size,\n",
    "    expect_partial = True\n",
    ")"
   ]
  },
  {
   "cell_type": "code",
   "execution_count": 33,
   "metadata": {},
   "outputs": [],
   "source": [
    "para_relu = layers.PReLU()"
   ]
  },
  {
   "cell_type": "code",
   "execution_count": 34,
   "metadata": {},
   "outputs": [],
   "source": [
    "new_head = tf.keras.Sequential([\n",
    "        layers.InputLayer(input_shape=(7,7,1280)),\n",
    "        layers.GlobalAveragePooling2D(),\n",
    "        layers.Dense(64,activation=para_relu),\n",
    "        #layers.Dropout(0.75),\n",
    "        layers.Dense(64,activation='elu'),\n",
    "        layers.Dropout(0.25),\n",
    "        layers.Dense(64,activation='relu'),\n",
    "        layers.Dropout(0.25),\n",
    "        layers.Dense(64,activation='relu'),\n",
    "        layers.Dropout(0.25),\n",
    "        layers.Dense(64,activation = para_relu),\n",
    "        layers.Dropout(0.25),\n",
    "        layers.Dense(1,activation='sigmoid',name='sigmoid_output')\n",
    "    ])"
   ]
  },
  {
   "cell_type": "code",
   "execution_count": 36,
   "metadata": {},
   "outputs": [],
   "source": [
    "model = tf.keras.Sequential([\n",
    "        tf.keras.layers.InputLayer(input_shape=(input_size, input_size,1)),\n",
    "        base_model,\n",
    "        new_head\n",
    "    ])"
   ]
  },
  {
   "cell_type": "code",
   "execution_count": 37,
   "metadata": {},
   "outputs": [
    {
     "data": {
      "text/plain": [
       "<tensorflow.python.training.tracking.util.CheckpointLoadStatus at 0x1e0aaf2ffc8>"
      ]
     },
     "execution_count": 37,
     "metadata": {},
     "output_type": "execute_result"
    }
   ],
   "source": [
    "model.load_weights(finetune_loc).expect_partial()"
   ]
  },
  {
   "cell_type": "markdown",
   "metadata": {},
   "source": [
    "#### Process Data"
   ]
  },
  {
   "cell_type": "code",
   "execution_count": 40,
   "metadata": {},
   "outputs": [],
   "source": [
    "image_paths = list(df_local.file_loc)"
   ]
  },
  {
   "cell_type": "code",
   "execution_count": 41,
   "metadata": {},
   "outputs": [],
   "source": [
    "file_format = 'png'\n",
    "batch_size = 64"
   ]
  },
  {
   "cell_type": "code",
   "execution_count": 42,
   "metadata": {},
   "outputs": [],
   "source": [
    "raw_image_ds = image_datasets.get_image_dataset([str(x) for x in image_paths], file_format, input_size, batch_size)"
   ]
  },
  {
   "cell_type": "code",
   "execution_count": 43,
   "metadata": {},
   "outputs": [],
   "source": [
    "preprocessing_config = preprocess.PreprocessingConfig(\n",
    "    label_cols = [],\n",
    "    input_size = input_size,\n",
    "    make_greyscale = True,\n",
    "    normalise_from_uint8 = True\n",
    ")"
   ]
  },
  {
   "cell_type": "code",
   "execution_count": 45,
   "metadata": {},
   "outputs": [
    {
     "name": "stdout",
     "output_type": "stream",
     "text": [
      "WARNING:tensorflow:AutoGraph could not transform <bound method Socket.send of <zmq.sugar.socket.Socket object at 0x000001E0FF2964A8>> and will run it as-is.\n",
      "Please report this to the TensorFlow team. When filing the bug, set the verbosity to 10 (on Linux, `export AUTOGRAPH_VERBOSITY=10`) and attach the full output.\n",
      "Cause: module, class, method, function, traceback, frame, or code object was expected, got cython_function_or_method\n",
      "To silence this warning, decorate the function with @tf.autograph.experimental.do_not_convert\n"
     ]
    },
    {
     "name": "stderr",
     "output_type": "stream",
     "text": [
      "WARNING:root:No labels requested, returning id_str as labels\n",
      "WARNING:tensorflow:AutoGraph could not transform <bound method Socket.send of <zmq.sugar.socket.Socket object at 0x000001E0FF2964A8>> and will run it as-is.\n",
      "Please report this to the TensorFlow team. When filing the bug, set the verbosity to 10 (on Linux, `export AUTOGRAPH_VERBOSITY=10`) and attach the full output.\n",
      "Cause: module, class, method, function, traceback, frame, or code object was expected, got cython_function_or_method\n",
      "To silence this warning, decorate the function with @tf.autograph.experimental.do_not_convert\n"
     ]
    },
    {
     "name": "stdout",
     "output_type": "stream",
     "text": [
      "WARNING: AutoGraph could not transform <bound method Socket.send of <zmq.sugar.socket.Socket object at 0x000001E0FF2964A8>> and will run it as-is.\n",
      "Please report this to the TensorFlow team. When filing the bug, set the verbosity to 10 (on Linux, `export AUTOGRAPH_VERBOSITY=10`) and attach the full output.\n",
      "Cause: module, class, method, function, traceback, frame, or code object was expected, got cython_function_or_method\n",
      "To silence this warning, decorate the function with @tf.autograph.experimental.do_not_convert\n"
     ]
    }
   ],
   "source": [
    "image_ds = preprocess.preprocess_dataset(raw_image_ds, preprocessing_config)"
   ]
  },
  {
   "cell_type": "code",
   "execution_count": 48,
   "metadata": {},
   "outputs": [],
   "source": [
    "save_loc = f'C:/Users/oryan/Documents/esac-project/predictions/predictions-{len(image_paths)}.csv'"
   ]
  },
  {
   "cell_type": "code",
   "execution_count": 49,
   "metadata": {},
   "outputs": [
    {
     "data": {
      "text/plain": [
       "'C:/Users/oryan/Documents/esac-project/predictions/predictions-394.csv'"
      ]
     },
     "execution_count": 49,
     "metadata": {},
     "output_type": "execute_result"
    }
   ],
   "source": [
    "save_loc"
   ]
  },
  {
   "cell_type": "code",
   "execution_count": 51,
   "metadata": {},
   "outputs": [],
   "source": [
    "n_samples = 1\n",
    "label_cols = ['interacting']"
   ]
  },
  {
   "cell_type": "code",
   "execution_count": 52,
   "metadata": {},
   "outputs": [],
   "source": [
    "predict_on_dataset.predict(image_ds, model, n_samples, label_cols, save_loc)"
   ]
  },
  {
   "cell_type": "markdown",
   "metadata": {},
   "source": [
    "### Conducting Diagnostics"
   ]
  },
  {
   "cell_type": "markdown",
   "metadata": {},
   "source": [
    "#### Prepping Data"
   ]
  },
  {
   "cell_type": "code",
   "execution_count": 55,
   "metadata": {},
   "outputs": [],
   "source": [
    "predictions = pd.read_csv(save_loc,index_col = 0).reset_index()"
   ]
  },
  {
   "cell_type": "code",
   "execution_count": 60,
   "metadata": {},
   "outputs": [],
   "source": [
    "predictions_df = (\n",
    "    predictions.assign(index = predictions.id_str.apply(lambda x: os.path.basename(x).replace('_300_300_3.png','')))\n",
    ")"
   ]
  },
  {
   "cell_type": "code",
   "execution_count": 70,
   "metadata": {},
   "outputs": [],
   "source": [
    "merged_pred = (\n",
    "    predictions_df.merge(df, on='index',how='left')\n",
    "    .drop(columns = ['id_str', 'thumbnail_path','RA','DEC'])\n",
    "    .rename(columns={'interacting_pred':'prediction_list', 'interacting':'label'})\n",
    ")"
   ]
  },
  {
   "cell_type": "code",
   "execution_count": 75,
   "metadata": {},
   "outputs": [],
   "source": [
    "readable_pred = merged_pred.assign(prediction = merged_pred.prediction_list.apply(lambda x: ast.literal_eval(x)[0])).drop(columns='prediction_list')"
   ]
  },
  {
   "cell_type": "code",
   "execution_count": 76,
   "metadata": {},
   "outputs": [
    {
     "data": {
      "text/html": [
       "<div>\n",
       "<style scoped>\n",
       "    .dataframe tbody tr th:only-of-type {\n",
       "        vertical-align: middle;\n",
       "    }\n",
       "\n",
       "    .dataframe tbody tr th {\n",
       "        vertical-align: top;\n",
       "    }\n",
       "\n",
       "    .dataframe thead th {\n",
       "        text-align: right;\n",
       "    }\n",
       "</style>\n",
       "<table border=\"1\" class=\"dataframe\">\n",
       "  <thead>\n",
       "    <tr style=\"text-align: right;\">\n",
       "      <th></th>\n",
       "      <th>index</th>\n",
       "      <th>label</th>\n",
       "      <th>prediction</th>\n",
       "    </tr>\n",
       "  </thead>\n",
       "  <tbody>\n",
       "    <tr>\n",
       "      <th>0</th>\n",
       "      <td>AHZ2001jou</td>\n",
       "      <td>0</td>\n",
       "      <td>0.057006</td>\n",
       "    </tr>\n",
       "    <tr>\n",
       "      <th>1</th>\n",
       "      <td>AHZ20007kr</td>\n",
       "      <td>0</td>\n",
       "      <td>0.010994</td>\n",
       "    </tr>\n",
       "    <tr>\n",
       "      <th>2</th>\n",
       "      <td>AHZ2001pvo</td>\n",
       "      <td>1</td>\n",
       "      <td>0.997417</td>\n",
       "    </tr>\n",
       "    <tr>\n",
       "      <th>3</th>\n",
       "      <td>AHZ2001r16</td>\n",
       "      <td>1</td>\n",
       "      <td>0.999265</td>\n",
       "    </tr>\n",
       "    <tr>\n",
       "      <th>4</th>\n",
       "      <td>AHZ2000ha4</td>\n",
       "      <td>0</td>\n",
       "      <td>0.115063</td>\n",
       "    </tr>\n",
       "    <tr>\n",
       "      <th>...</th>\n",
       "      <td>...</td>\n",
       "      <td>...</td>\n",
       "      <td>...</td>\n",
       "    </tr>\n",
       "    <tr>\n",
       "      <th>389</th>\n",
       "      <td>AHZ40000mn</td>\n",
       "      <td>0</td>\n",
       "      <td>0.812657</td>\n",
       "    </tr>\n",
       "    <tr>\n",
       "      <th>390</th>\n",
       "      <td>AHZ2000e7l</td>\n",
       "      <td>0</td>\n",
       "      <td>0.165567</td>\n",
       "    </tr>\n",
       "    <tr>\n",
       "      <th>391</th>\n",
       "      <td>AHZ200135i</td>\n",
       "      <td>0</td>\n",
       "      <td>0.023116</td>\n",
       "    </tr>\n",
       "    <tr>\n",
       "      <th>392</th>\n",
       "      <td>AHZ2001rap</td>\n",
       "      <td>1</td>\n",
       "      <td>0.973997</td>\n",
       "    </tr>\n",
       "    <tr>\n",
       "      <th>393</th>\n",
       "      <td>AHZ2000r4k</td>\n",
       "      <td>0</td>\n",
       "      <td>0.162286</td>\n",
       "    </tr>\n",
       "  </tbody>\n",
       "</table>\n",
       "<p>394 rows × 3 columns</p>\n",
       "</div>"
      ],
      "text/plain": [
       "          index  label  prediction\n",
       "0    AHZ2001jou      0    0.057006\n",
       "1    AHZ20007kr      0    0.010994\n",
       "2    AHZ2001pvo      1    0.997417\n",
       "3    AHZ2001r16      1    0.999265\n",
       "4    AHZ2000ha4      0    0.115063\n",
       "..          ...    ...         ...\n",
       "389  AHZ40000mn      0    0.812657\n",
       "390  AHZ2000e7l      0    0.165567\n",
       "391  AHZ200135i      0    0.023116\n",
       "392  AHZ2001rap      1    0.973997\n",
       "393  AHZ2000r4k      0    0.162286\n",
       "\n",
       "[394 rows x 3 columns]"
      ]
     },
     "execution_count": 76,
     "metadata": {},
     "output_type": "execute_result"
    }
   ],
   "source": [
    "readable_pred"
   ]
  },
  {
   "cell_type": "code",
   "execution_count": 77,
   "metadata": {},
   "outputs": [],
   "source": [
    "cutoff = 0.5"
   ]
  },
  {
   "cell_type": "code",
   "execution_count": 80,
   "metadata": {},
   "outputs": [],
   "source": [
    "binary_pred = (\n",
    "    readable_pred.assign(binary_prediction = readable_pred.prediction.apply(lambda x: 1 if x >= cutoff else 0))\n",
    ")"
   ]
  },
  {
   "cell_type": "code",
   "execution_count": 86,
   "metadata": {},
   "outputs": [
    {
     "data": {
      "text/plain": [
       "0    289\n",
       "1    105\n",
       "Name: label, dtype: int64"
      ]
     },
     "execution_count": 86,
     "metadata": {},
     "output_type": "execute_result"
    }
   ],
   "source": [
    "binary_pred.label.value_counts()"
   ]
  },
  {
   "cell_type": "code",
   "execution_count": 81,
   "metadata": {},
   "outputs": [
    {
     "data": {
      "text/html": [
       "<div>\n",
       "<style scoped>\n",
       "    .dataframe tbody tr th:only-of-type {\n",
       "        vertical-align: middle;\n",
       "    }\n",
       "\n",
       "    .dataframe tbody tr th {\n",
       "        vertical-align: top;\n",
       "    }\n",
       "\n",
       "    .dataframe thead th {\n",
       "        text-align: right;\n",
       "    }\n",
       "</style>\n",
       "<table border=\"1\" class=\"dataframe\">\n",
       "  <thead>\n",
       "    <tr style=\"text-align: right;\">\n",
       "      <th></th>\n",
       "      <th>index</th>\n",
       "      <th>label</th>\n",
       "      <th>prediction</th>\n",
       "      <th>binary_prediction</th>\n",
       "    </tr>\n",
       "  </thead>\n",
       "  <tbody>\n",
       "    <tr>\n",
       "      <th>0</th>\n",
       "      <td>AHZ2001jou</td>\n",
       "      <td>0</td>\n",
       "      <td>0.057006</td>\n",
       "      <td>0</td>\n",
       "    </tr>\n",
       "    <tr>\n",
       "      <th>1</th>\n",
       "      <td>AHZ20007kr</td>\n",
       "      <td>0</td>\n",
       "      <td>0.010994</td>\n",
       "      <td>0</td>\n",
       "    </tr>\n",
       "    <tr>\n",
       "      <th>2</th>\n",
       "      <td>AHZ2001pvo</td>\n",
       "      <td>1</td>\n",
       "      <td>0.997417</td>\n",
       "      <td>1</td>\n",
       "    </tr>\n",
       "    <tr>\n",
       "      <th>3</th>\n",
       "      <td>AHZ2001r16</td>\n",
       "      <td>1</td>\n",
       "      <td>0.999265</td>\n",
       "      <td>1</td>\n",
       "    </tr>\n",
       "    <tr>\n",
       "      <th>4</th>\n",
       "      <td>AHZ2000ha4</td>\n",
       "      <td>0</td>\n",
       "      <td>0.115063</td>\n",
       "      <td>0</td>\n",
       "    </tr>\n",
       "    <tr>\n",
       "      <th>...</th>\n",
       "      <td>...</td>\n",
       "      <td>...</td>\n",
       "      <td>...</td>\n",
       "      <td>...</td>\n",
       "    </tr>\n",
       "    <tr>\n",
       "      <th>389</th>\n",
       "      <td>AHZ40000mn</td>\n",
       "      <td>0</td>\n",
       "      <td>0.812657</td>\n",
       "      <td>1</td>\n",
       "    </tr>\n",
       "    <tr>\n",
       "      <th>390</th>\n",
       "      <td>AHZ2000e7l</td>\n",
       "      <td>0</td>\n",
       "      <td>0.165567</td>\n",
       "      <td>0</td>\n",
       "    </tr>\n",
       "    <tr>\n",
       "      <th>391</th>\n",
       "      <td>AHZ200135i</td>\n",
       "      <td>0</td>\n",
       "      <td>0.023116</td>\n",
       "      <td>0</td>\n",
       "    </tr>\n",
       "    <tr>\n",
       "      <th>392</th>\n",
       "      <td>AHZ2001rap</td>\n",
       "      <td>1</td>\n",
       "      <td>0.973997</td>\n",
       "      <td>1</td>\n",
       "    </tr>\n",
       "    <tr>\n",
       "      <th>393</th>\n",
       "      <td>AHZ2000r4k</td>\n",
       "      <td>0</td>\n",
       "      <td>0.162286</td>\n",
       "      <td>0</td>\n",
       "    </tr>\n",
       "  </tbody>\n",
       "</table>\n",
       "<p>394 rows × 4 columns</p>\n",
       "</div>"
      ],
      "text/plain": [
       "          index  label  prediction  binary_prediction\n",
       "0    AHZ2001jou      0    0.057006                  0\n",
       "1    AHZ20007kr      0    0.010994                  0\n",
       "2    AHZ2001pvo      1    0.997417                  1\n",
       "3    AHZ2001r16      1    0.999265                  1\n",
       "4    AHZ2000ha4      0    0.115063                  0\n",
       "..          ...    ...         ...                ...\n",
       "389  AHZ40000mn      0    0.812657                  1\n",
       "390  AHZ2000e7l      0    0.165567                  0\n",
       "391  AHZ200135i      0    0.023116                  0\n",
       "392  AHZ2001rap      1    0.973997                  1\n",
       "393  AHZ2000r4k      0    0.162286                  0\n",
       "\n",
       "[394 rows x 4 columns]"
      ]
     },
     "execution_count": 81,
     "metadata": {},
     "output_type": "execute_result"
    }
   ],
   "source": [
    "binary_pred"
   ]
  },
  {
   "cell_type": "markdown",
   "metadata": {},
   "source": [
    "#### Making Confusion Matrices"
   ]
  },
  {
   "cell_type": "code",
   "execution_count": 85,
   "metadata": {},
   "outputs": [
    {
     "name": "stdout",
     "output_type": "stream",
     "text": [
      "[[266  23]\n",
      " [ 19  86]]\n"
     ]
    }
   ],
   "source": [
    "cf_matrix = confusion_matrix(binary_pred.label, binary_pred.binary_prediction)\n",
    "print(cf_matrix)"
   ]
  },
  {
   "cell_type": "code",
   "execution_count": 95,
   "metadata": {},
   "outputs": [
    {
     "data": {
      "image/png": "[encoded data removed]",
      "text/plain": [
       "<Figure size 432x288 with 2 Axes>"
      ]
     },
     "metadata": {
      "needs_background": "light"
     },
     "output_type": "display_data"
    }
   ],
   "source": [
    "ax = sns.heatmap(cf_matrix, annot=True, cmap='Blues')\n",
    "\n",
    "ax.set_title(f'Confusion Matrix for cutoff = 0.5')\n",
    "ax.set_xlabel('Predicted Values')\n",
    "ax.set_ylabel('Actual Values')\n",
    "\n",
    "ax.xaxis.set_ticklabels(['False','True'])\n",
    "ax.yaxis.set_ticklabels(['False','True'])\n",
    "\n",
    "plt.show()"
   ]
  },
  {
   "cell_type": "code",
   "execution_count": 97,
   "metadata": {},
   "outputs": [
    {
     "data": {
      "image/png": "[encoded data removed]",
      "text/plain": [
       "<Figure size 432x288 with 2 Axes>"
      ]
     },
     "metadata": {
      "needs_background": "light"
     },
     "output_type": "display_data"
    }
   ],
   "source": [
    "ax = sns.heatmap(cf_matrix/np.sum(cf_matrix), fmt='.2%', annot=True, cmap='Blues')\n",
    "\n",
    "ax.set_title(f'Confusion Matrix for cutoff = 0.5')\n",
    "ax.set_xlabel('Predicted Values')\n",
    "ax.set_ylabel('Actual Values')\n",
    "\n",
    "ax.xaxis.set_ticklabels(['False','True'])\n",
    "ax.yaxis.set_ticklabels(['False','True'])\n",
    "\n",
    "plt.show()"
   ]
  },
  {
   "cell_type": "markdown",
   "metadata": {},
   "source": [
    "#### Accuracy Graphs"
   ]
  },
  {
   "cell_type": "code",
   "execution_count": 107,
   "metadata": {},
   "outputs": [],
   "source": [
    "def get_accuracy(df, cut):\n",
    "    df_pred = df.assign(binary_prediction = df.prediction.apply(lambda x: 0 if x <= cut else 1))\n",
    "    right_df = df_pred.query('binary_prediction == label')\n",
    "    accuracy = len(right_df)/len(df_pred)\n",
    "    return accuracy"
   ]
  },
  {
   "cell_type": "code",
   "execution_count": 108,
   "metadata": {},
   "outputs": [],
   "source": [
    "cutoffs = np.linspace(0.01,0.99, 1000)"
   ]
  },
  {
   "cell_type": "code",
   "execution_count": 109,
   "metadata": {},
   "outputs": [],
   "source": [
    "accuracy_fine = {}\n",
    "for i in range(len(cutoffs)):\n",
    "    accuracy_fine[cutoffs[i]] = [get_accuracy(readable_pred, cutoffs[i])]\n",
    "    \n",
    "accuracy_fine_df = (\n",
    "    pd.DataFrame(accuracy_fine)\n",
    "    .T\n",
    "    .reset_index()\n",
    "    .rename(columns={'index':'binary_cut',0:'Accuracy'})\n",
    ")"
   ]
  },
  {
   "cell_type": "code",
   "execution_count": 151,
   "metadata": {},
   "outputs": [
    {
     "data": {
      "text/html": [
       "<div>\n",
       "<style scoped>\n",
       "    .dataframe tbody tr th:only-of-type {\n",
       "        vertical-align: middle;\n",
       "    }\n",
       "\n",
       "    .dataframe tbody tr th {\n",
       "        vertical-align: top;\n",
       "    }\n",
       "\n",
       "    .dataframe thead th {\n",
       "        text-align: right;\n",
       "    }\n",
       "</style>\n",
       "<table border=\"1\" class=\"dataframe\">\n",
       "  <thead>\n",
       "    <tr style=\"text-align: right;\">\n",
       "      <th></th>\n",
       "      <th>binary_cut</th>\n",
       "      <th>Accuracy</th>\n",
       "    </tr>\n",
       "  </thead>\n",
       "  <tbody>\n",
       "    <tr>\n",
       "      <th>785</th>\n",
       "      <td>0.780070</td>\n",
       "      <td>0.916244</td>\n",
       "    </tr>\n",
       "    <tr>\n",
       "      <th>786</th>\n",
       "      <td>0.781051</td>\n",
       "      <td>0.916244</td>\n",
       "    </tr>\n",
       "    <tr>\n",
       "      <th>787</th>\n",
       "      <td>0.782032</td>\n",
       "      <td>0.916244</td>\n",
       "    </tr>\n",
       "    <tr>\n",
       "      <th>788</th>\n",
       "      <td>0.783013</td>\n",
       "      <td>0.916244</td>\n",
       "    </tr>\n",
       "    <tr>\n",
       "      <th>789</th>\n",
       "      <td>0.783994</td>\n",
       "      <td>0.916244</td>\n",
       "    </tr>\n",
       "    <tr>\n",
       "      <th>790</th>\n",
       "      <td>0.784975</td>\n",
       "      <td>0.916244</td>\n",
       "    </tr>\n",
       "    <tr>\n",
       "      <th>791</th>\n",
       "      <td>0.785956</td>\n",
       "      <td>0.916244</td>\n",
       "    </tr>\n",
       "    <tr>\n",
       "      <th>792</th>\n",
       "      <td>0.786937</td>\n",
       "      <td>0.916244</td>\n",
       "    </tr>\n",
       "    <tr>\n",
       "      <th>793</th>\n",
       "      <td>0.787918</td>\n",
       "      <td>0.916244</td>\n",
       "    </tr>\n",
       "    <tr>\n",
       "      <th>799</th>\n",
       "      <td>0.793804</td>\n",
       "      <td>0.916244</td>\n",
       "    </tr>\n",
       "    <tr>\n",
       "      <th>800</th>\n",
       "      <td>0.794785</td>\n",
       "      <td>0.916244</td>\n",
       "    </tr>\n",
       "    <tr>\n",
       "      <th>801</th>\n",
       "      <td>0.795766</td>\n",
       "      <td>0.916244</td>\n",
       "    </tr>\n",
       "    <tr>\n",
       "      <th>802</th>\n",
       "      <td>0.796747</td>\n",
       "      <td>0.916244</td>\n",
       "    </tr>\n",
       "    <tr>\n",
       "      <th>803</th>\n",
       "      <td>0.797728</td>\n",
       "      <td>0.916244</td>\n",
       "    </tr>\n",
       "    <tr>\n",
       "      <th>804</th>\n",
       "      <td>0.798709</td>\n",
       "      <td>0.916244</td>\n",
       "    </tr>\n",
       "    <tr>\n",
       "      <th>805</th>\n",
       "      <td>0.799690</td>\n",
       "      <td>0.916244</td>\n",
       "    </tr>\n",
       "  </tbody>\n",
       "</table>\n",
       "</div>"
      ],
      "text/plain": [
       "     binary_cut  Accuracy\n",
       "785    0.780070  0.916244\n",
       "786    0.781051  0.916244\n",
       "787    0.782032  0.916244\n",
       "788    0.783013  0.916244\n",
       "789    0.783994  0.916244\n",
       "790    0.784975  0.916244\n",
       "791    0.785956  0.916244\n",
       "792    0.786937  0.916244\n",
       "793    0.787918  0.916244\n",
       "799    0.793804  0.916244\n",
       "800    0.794785  0.916244\n",
       "801    0.795766  0.916244\n",
       "802    0.796747  0.916244\n",
       "803    0.797728  0.916244\n",
       "804    0.798709  0.916244\n",
       "805    0.799690  0.916244"
      ]
     },
     "execution_count": 151,
     "metadata": {},
     "output_type": "execute_result"
    }
   ],
   "source": [
    "accuracy_fine_df.query('Accuracy == Accuracy.max()')"
   ]
  },
  {
   "cell_type": "code",
   "execution_count": 110,
   "metadata": {},
   "outputs": [
    {
     "data": {
      "text/plain": [
       "<AxesSubplot:title={'center':'Accuracy vs Cut in SDSS Example'}, xlabel='Prediction Cutoff', ylabel='Accuracy'>"
      ]
     },
     "execution_count": 110,
     "metadata": {},
     "output_type": "execute_result"
    },
    {
     "data": {
      "image/png": "[encoded data removed]",
      "text/plain": [
       "<Figure size 576x576 with 1 Axes>"
      ]
     },
     "metadata": {
      "needs_background": "light"
     },
     "output_type": "display_data"
    }
   ],
   "source": [
    "accuracy_fine_df.plot(\n",
    "    x='binary_cut',\n",
    "    y='Accuracy',\n",
    "    figsize=(8,8),\n",
    "    xlabel='Prediction Cutoff',\n",
    "    ylabel='Accuracy',\n",
    "    title='Accuracy vs Cut in SDSS Example'\n",
    ")"
   ]
  },
  {
   "cell_type": "markdown",
   "metadata": {},
   "source": [
    "#### ROC Curves"
   ]
  },
  {
   "cell_type": "code",
   "execution_count": 117,
   "metadata": {},
   "outputs": [],
   "source": [
    "fpr, tpr, thresholds_roc = roc_curve(list(readable_pred.label),list(readable_pred.prediction))"
   ]
  },
  {
   "cell_type": "code",
   "execution_count": 114,
   "metadata": {},
   "outputs": [],
   "source": [
    "x = np.linspace(0,1,100)\n",
    "y = np.linspace(0,1,100)"
   ]
  },
  {
   "cell_type": "code",
   "execution_count": 115,
   "metadata": {},
   "outputs": [
    {
     "data": {
      "image/png": "[encoded data removed]",
      "text/plain": [
       "<Figure size 576x576 with 1 Axes>"
      ]
     },
     "metadata": {
      "needs_background": "light"
     },
     "output_type": "display_data"
    }
   ],
   "source": [
    "plt.figure(figsize=(8,8))\n",
    "plt.plot(fpr,tpr)\n",
    "plt.plot(x,y)\n",
    "plt.xlabel('False Positive Rate')\n",
    "plt.ylabel('True Positive Rate')\n",
    "plt.xlim([0,1])\n",
    "plt.ylim([0,1])\n",
    "plt.title('ROC Curves')\n",
    "plt.legend(['Finetuned','Random Chance'])\n",
    "plt.show()"
   ]
  },
  {
   "cell_type": "markdown",
   "metadata": {},
   "source": [
    "#### Precision Recall"
   ]
  },
  {
   "cell_type": "code",
   "execution_count": 119,
   "metadata": {},
   "outputs": [],
   "source": [
    "precision, recall, thresholds_pr = precision_recall_curve(readable_pred.label, readable_pred.prediction)"
   ]
  },
  {
   "cell_type": "code",
   "execution_count": 140,
   "metadata": {},
   "outputs": [],
   "source": [
    "x = np.linspace(1, 0, 100)\n",
    "y = np.linspace(0, 1, 100)"
   ]
  },
  {
   "cell_type": "code",
   "execution_count": 144,
   "metadata": {},
   "outputs": [
    {
     "data": {
      "image/png": "[encoded data removed]",
      "text/plain": [
       "<Figure size 576x576 with 1 Axes>"
      ]
     },
     "metadata": {
      "needs_background": "light"
     },
     "output_type": "display_data"
    }
   ],
   "source": [
    "plt.figure(figsize=(8,8))\n",
    "plt.plot(recall,precision)\n",
    "plt.plot(x,y)\n",
    "plt.xlabel('Recall')\n",
    "plt.ylabel('Precision')\n",
    "plt.xlim([0,1])\n",
    "plt.ylim([0,1])\n",
    "plt.title('Precision-Recall Curve')\n",
    "plt.legend(['Finetuned','Random Chance'])\n",
    "plt.show()"
   ]
  },
  {
   "cell_type": "markdown",
   "metadata": {},
   "source": [
    "For a cutoff of 0.5, we have a precision value of:"
   ]
  },
  {
   "cell_type": "code",
   "execution_count": 147,
   "metadata": {},
   "outputs": [
    {
     "data": {
      "text/plain": [
       "0.7889908256880734"
      ]
     },
     "execution_count": 147,
     "metadata": {},
     "output_type": "execute_result"
    }
   ],
   "source": [
    "precision = precision_score(binary_pred.label, binary_pred.binary_prediction)\n",
    "precision"
   ]
  },
  {
   "cell_type": "markdown",
   "metadata": {},
   "source": [
    "#### Where Accuracy is Max:"
   ]
  },
  {
   "cell_type": "code",
   "execution_count": 157,
   "metadata": {},
   "outputs": [],
   "source": [
    "cutoff_m = accuracy_fine_df.query('Accuracy == Accuracy.max()').iloc[int(len(accuracy_fine_df.query('Accuracy == Accuracy.max()'))/2)].binary_cut"
   ]
  },
  {
   "cell_type": "code",
   "execution_count": 159,
   "metadata": {},
   "outputs": [],
   "source": [
    "binary_pred_max = (\n",
    "    readable_pred\n",
    "    .assign(binary_prediction = readable_pred.prediction.apply(lambda x: 1 if x >= cutoff_m else 0 ))\n",
    ")"
   ]
  },
  {
   "cell_type": "code",
   "execution_count": 160,
   "metadata": {},
   "outputs": [
    {
     "data": {
      "text/plain": [
       "0.9090909090909091"
      ]
     },
     "execution_count": 160,
     "metadata": {},
     "output_type": "execute_result"
    }
   ],
   "source": [
    "precision = precision_score(binary_pred_max.label, binary_pred_max.binary_prediction)\n",
    "precision"
   ]
  },
  {
   "cell_type": "code",
   "execution_count": null,
   "metadata": {},
   "outputs": [],
   "source": [
    "gz-"
   ]
  }
 ],
 "metadata": {
  "kernelspec": {
   "display_name": "Python 3",
   "language": "python",
   "name": "python3"
  },
  "language_info": {
   "codemirror_mode": {
    "name": "ipython",
    "version": 3
   },
   "file_extension": ".py",
   "mimetype": "text/x-python",
   "name": "python",
   "nbconvert_exporter": "python",
   "pygments_lexer": "ipython3",
   "version": "3.7.4"
  }
 },
 "nbformat": 4,
 "nbformat_minor": 4
}
