{
 "cells": [
  {
   "cell_type": "markdown",
   "metadata": {},
   "source": [
    "## Using ESA Astroquery\n",
    "This notebook is an example of using the ESA astroquery module in order to get the cutout of a galaxy. Will test this on one of my GZ galaxies, and then perhaps begin turning it into a script."
   ]
  },
  {
   "cell_type": "code",
   "execution_count": 1,
   "metadata": {},
   "outputs": [],
   "source": [
    "from astroquery.esa.hubble import ESAHubble\n",
    "import pandas as pd\n",
    "\n",
    "from astropy import coordinates\n",
    "from astropy.table import join"
   ]
  },
  {
   "cell_type": "markdown",
   "metadata": {},
   "source": [
    "### Getting Manifest and Defining Coords"
   ]
  },
  {
   "cell_type": "code",
   "execution_count": 2,
   "metadata": {},
   "outputs": [],
   "source": [
    "df = pd.read_csv('C:/Users/oryan/Documents/zoobot_new/manifests/gz-hubble-local-manifest.csv',index_col=0)"
   ]
  },
  {
   "cell_type": "code",
   "execution_count": 3,
   "metadata": {},
   "outputs": [],
   "source": [
    "test_row = df.iloc[0]\n",
    "ra = test_row['RA']\n",
    "dec = test_row['Dec']"
   ]
  },
  {
   "cell_type": "code",
   "execution_count": 4,
   "metadata": {},
   "outputs": [],
   "source": [
    "c = coordinates.SkyCoord(ra, dec,unit='deg',frame='icrs')"
   ]
  },
  {
   "cell_type": "markdown",
   "metadata": {},
   "source": [
    "### Pulling Down Data"
   ]
  },
  {
   "cell_type": "code",
   "execution_count": 5,
   "metadata": {},
   "outputs": [],
   "source": [
    "esahubble = ESAHubble()"
   ]
  },
  {
   "cell_type": "code",
   "execution_count": 6,
   "metadata": {},
   "outputs": [
    {
     "name": "stdout",
     "output_type": "stream",
     "text": [
      "type: <class 'str'>\n"
     ]
    }
   ],
   "source": [
    "cone = esahubble.cone_search(c,3)"
   ]
  },
  {
   "cell_type": "code",
   "execution_count": 7,
   "metadata": {},
   "outputs": [
    {
     "name": "stdout",
     "output_type": "stream",
     "text": [
      "INFO: select o.*, p.calibration_level, p.data_product_type, pos.ra, pos.dec from ehst.observation AS o JOIN ehst.plane as p on o.observation_uuid=p.observation_uuid JOIN ehst.position as pos on p.plane_id = pos.plane_id where(p.calibration_level LIKE '%PRODUCT%' AND p.data_product_type LIKE '%image%' AND o.intent LIKE '%SCIENCE%' AND (o.collection LIKE '%HST%' OR o.collection LIKE '%HLA%') AND (o.instrument_name LIKE '%WFC3%' OR o.instrument_name LIKE '%ACS%' OR o.instrument_name LIKE '%COS%' OR o.instrument_name LIKE '%STIS%') AND (o.instrument_configuration LIKE '%F814W%')) [astroquery.esa.hubble.core]\n",
      "Launched query: 'select o.*, p.calibration_level, p.data_product_type, pos.ra, pos.dec from ehst.observation AS o JOIN ehst.plane as p on o.observation_uuid=p.observation_uuid JOIN ehst.position as pos on p.plane_id = pos.plane_id where(p.calibration_level LIKE '%PRODUCT%' AND p.data_product_type LIKE '%image%' AND o.intent LIKE '%SCIENCE%' AND (o.collection LIKE '%HST%' OR o.collection LIKE '%HLA%') AND (o.instrument_name LIKE '%WFC3%' OR o.instrument_name LIKE '%ACS%' OR o.instrument_name LIKE '%COS%' OR o.instrument_name LIKE '%STIS%') AND (o.instrument_configuration LIKE '%F814W%'))'\n",
      "------>http\n",
      "host = hst.esac.esa.int:80\n",
      "context = /tap-server/tap//async\n",
      "Content-type = application/x-www-form-urlencoded\n",
      "303 303\n",
      "[('Date', 'Mon, 04 Apr 2022 14:34:51 GMT'), ('Server', 'Apache/2.4.6 (Red Hat Enterprise Linux) OpenSSL/1.0.2k-fips PHP/5.4.16 mod_jk/1.2.48'), ('Cache-Control', 'no-cache, no-store, max-age=0, must-revalidate'), ('Pragma', 'no-cache'), ('Expires', '0'), ('X-XSS-Protection', '1; mode=block'), ('X-Frame-Options', 'SAMEORIGIN'), ('X-Content-Type-Options', 'nosniff'), ('Location', 'http://hst.esac.esa.int/tap-server/tap/async/1649082891020O'), ('Content-Type', 'text/plain;charset=ISO-8859-1'), ('Set-Cookie', 'JSESSIONID=A14314F5A925DEB6F12139AD2AE4AE8E; Path=/; HttpOnly'), ('Connection', 'close'), ('Transfer-Encoding', 'chunked')]\n",
      "job 1649082891020O, at: http://hst.esac.esa.int/tap-server/tap/async/1649082891020O\n",
      "Retrieving async. results...\n",
      "INFO: Query finished. [astroquery.utils.tap.core]\n"
     ]
    }
   ],
   "source": [
    "criteria = esahubble.query_criteria(\n",
    "    calibration_level = 3,\n",
    "    data_product_type = 'image',\n",
    "    intent = 'SCIENCE',\n",
    "    obs_collection = ['HST','HLA'],\n",
    "    instrument_name = ['WFC3','ACS','COS','STIS'],\n",
    "    filters = ['F814W'],\n",
    "    async_job = True,\n",
    "    get_query = False,\n",
    "    verbose=True\n",
    ")"
   ]
  },
  {
   "cell_type": "code",
   "execution_count": 8,
   "metadata": {},
   "outputs": [],
   "source": [
    "final = join(cone,criteria,keys='observation_id')"
   ]
  },
  {
   "cell_type": "code",
   "execution_count": 9,
   "metadata": {},
   "outputs": [
    {
     "data": {
      "text/html": [
       "<i>Row index=0</i>\n",
       "<table id=\"table2443618397832\">\n",
       "<thead><tr><th>observation_id</th><th>start_time_1</th><th>end_time_1</th><th>start_time_mjd_1</th><th>end_time_mjd_1</th><th>exposure_duration_1</th><th>release_date_1</th><th>run_id_1</th><th>program_id_1</th><th>set_id_1</th><th>collection_1</th><th>members_number_1</th><th>instrument_configuration_1</th><th>instrument_name_1</th><th>obs_type_1</th><th>target_moving_1</th><th>target_name_1</th><th>target_description_1</th><th>proposal_id_1</th><th>pi_name_1</th><th>title</th><th>metadata_provenance</th><th>data_product_type_1</th><th>software_version</th><th>ra_1</th><th>dec_1</th><th>gal_lat</th><th>gal_lon</th><th>ecl_lat</th><th>ecl_lon</th><th>fov_size</th><th>wave_central</th><th>wave_bandwidth</th><th>wave_max</th><th>wave_min</th><th>filter</th><th>algorithm_name</th><th>collection_2</th><th>end_time_2</th><th>end_time_mjd_2</th><th>exposure_duration_2</th><th>instrument_configuration_2</th><th>instrument_name_2</th><th>intent</th><th>members</th><th>members_number_2</th><th>observation_uuid</th><th>obs_type_2</th><th>obs_type_hibernate</th><th>pi_name_2</th><th>program_id_2</th><th>proposal_id_2</th><th>release_date_2</th><th>run_id_2</th><th>set_id_2</th><th>start_time_2</th><th>start_time_mjd_2</th><th>target_description_2</th><th>target_moving_2</th><th>target_name_2</th><th>calibration_level</th><th>data_product_type_2</th><th>ra_2</th><th>dec_2</th></tr></thead>\n",
       "<thead><tr><th>object</th><th>object</th><th>object</th><th>float64</th><th>float64</th><th>float64</th><th>object</th><th>object</th><th>object</th><th>object</th><th>object</th><th>int64</th><th>object</th><th>object</th><th>object</th><th>bool</th><th>object</th><th>object</th><th>object</th><th>object</th><th>object</th><th>object</th><th>object</th><th>object</th><th>float64</th><th>float64</th><th>float64</th><th>float64</th><th>float64</th><th>float64</th><th>float64</th><th>float64</th><th>float64</th><th>float64</th><th>float64</th><th>object</th><th>object</th><th>object</th><th>object</th><th>float64</th><th>float64</th><th>object</th><th>object</th><th>object</th><th>object</th><th>int64</th><th>object</th><th>object</th><th>object</th><th>object</th><th>object</th><th>object</th><th>object</th><th>object</th><th>object</th><th>object</th><th>float64</th><th>object</th><th>bool</th><th>object</th><th>object</th><th>object</th><th>float64</th><th>float64</th></tr></thead>\n",
       "<tr><td>hst_10134_14_acs_wfc_f814w</td><td>2005-01-01 00:56:53.08512+00</td><td>2005-01-01 02:12:53.10432+00</td><td>53371.0395033</td><td>53371.0922813</td><td>2100.0</td><td>2005-01-01T16:39:51.0</td><td>13</td><td>st_</td><td>10</td><td>HLA</td><td>4</td><td>ACS|F814W|MJD|WFC1</td><td>ACS</td><td>HLA Visit Association</td><td>False</td><td>EGS-14-01</td><td>FIELD|LATITUDE|UNIDENTIFIED;HIGH</td><td>10134</td><td>DAVIS MARC</td><td>The Evolution and Assembly of Galactic Disks: Integrated studies of mass, stars and gas in the Extended Groth Strip</td><td></td><td>image</td><td></td><td>214.92672946484487</td><td>52.976815072933874</td><td>--</td><td>--</td><td>--</td><td>--</td><td>0.084770457090242</td><td>833.5</td><td>251.0</td><td>959.0</td><td>708.0</td><td>F814W</td><td>HLA ASSOCIATIONS</td><td>HLA</td><td>2005-01-01 02:12:53.10432+00</td><td>53371.0922813</td><td>2100.0</td><td>ACS|F814W|MJD|WFC1</td><td>ACS</td><td>science</td><td>caom:HSTHLA/hst_10134_14_acs_wfc_f814w caom:HSTHLA/hst_10134_14_acs_wfc_f814w_01 caom:HSTHLA/hst_10134_14_acs_wfc_f814w_02 caom:HSTHLA/hst_10134_14_acs_wfc_f814w_03 caom:HSTHLA/hst_10134_14_acs_wfc_f814w_04</td><td>4</td><td>00000000-0000-0000-3284-0161532f1ab7</td><td>HLA Visit Association</td><td>C</td><td>DAVIS MARC</td><td>st_</td><td>10134</td><td>2005-01-01T16:39:51.0</td><td>13</td><td>10</td><td>2005-01-01 00:56:53.08512+00</td><td>53371.0395033</td><td>FIELD|LATITUDE|UNIDENTIFIED;HIGH</td><td>False</td><td>EGS-14-01</td><td>PRODUCT</td><td>image</td><td>214.92672946484487</td><td>52.976815072933874</td></tr>\n",
       "</table>"
      ],
      "text/plain": [
       "<Row index=0>\n",
       "      observation_id               start_time_1                  end_time_1          start_time_mjd_1 end_time_mjd_1 exposure_duration_1     release_date_1    run_id_1 program_id_1 set_id_1 collection_1 members_number_1 instrument_configuration_1 instrument_name_1       obs_type_1      target_moving_1 target_name_1       target_description_1       proposal_id_1 pi_name_1                                                         title                                                        metadata_provenance data_product_type_1 software_version        ra_1              dec_1        gal_lat gal_lon ecl_lat ecl_lon      fov_size     wave_central wave_bandwidth wave_max wave_min filter  algorithm_name  collection_2          end_time_2          end_time_mjd_2 exposure_duration_2 instrument_configuration_2 instrument_name_2  intent                                                                                                    members                                                                                                     members_number_2           observation_uuid                 obs_type_2      obs_type_hibernate pi_name_2  program_id_2 proposal_id_2     release_date_2    run_id_2 set_id_2         start_time_2         start_time_mjd_2       target_description_2       target_moving_2 target_name_2 calibration_level data_product_type_2        ra_2              dec_2       \n",
       "          object                      object                       object                float64         float64           float64               object         object     object     object     object         int64                 object                 object              object              bool          object                 object                  object      object                                                          object                                                              object              object            object           float64            float64       float64 float64 float64 float64      float64        float64       float64     float64  float64  object      object         object               object               float64           float64                 object                 object       object                                                                                                     object                                                                                                          int64                      object                        object              object         object      object        object            object         object   object             object                float64                   object                    bool          object          object             object            float64            float64      \n",
       "-------------------------- ---------------------------- ---------------------------- ---------------- -------------- ------------------- --------------------- -------- ------------ -------- ------------ ---------------- -------------------------- ----------------- --------------------- --------------- ------------- -------------------------------- ------------- ---------- ------------------------------------------------------------------------------------------------------------------- ------------------- ------------------- ---------------- ------------------ ------------------ ------- ------- ------- ------- ----------------- ------------ -------------- -------- -------- ------ ---------------- ------------ ---------------------------- -------------- ------------------- -------------------------- ----------------- ------- -------------------------------------------------------------------------------------------------------------------------------------------------------------------------------------------------------------- ---------------- ------------------------------------ --------------------- ------------------ ---------- ------------ ------------- --------------------- -------- -------- ---------------------------- ---------------- -------------------------------- --------------- ------------- ----------------- ------------------- ------------------ ------------------\n",
       "hst_10134_14_acs_wfc_f814w 2005-01-01 00:56:53.08512+00 2005-01-01 02:12:53.10432+00    53371.0395033  53371.0922813              2100.0 2005-01-01T16:39:51.0       13          st_       10          HLA                4         ACS|F814W|MJD|WFC1               ACS HLA Visit Association           False     EGS-14-01 FIELD|LATITUDE|UNIDENTIFIED;HIGH         10134 DAVIS MARC The Evolution and Assembly of Galactic Disks: Integrated studies of mass, stars and gas in the Extended Groth Strip                                   image                  214.92672946484487 52.976815072933874      --      --      --      -- 0.084770457090242        833.5          251.0    959.0    708.0  F814W HLA ASSOCIATIONS          HLA 2005-01-01 02:12:53.10432+00  53371.0922813              2100.0         ACS|F814W|MJD|WFC1               ACS science caom:HSTHLA/hst_10134_14_acs_wfc_f814w caom:HSTHLA/hst_10134_14_acs_wfc_f814w_01 caom:HSTHLA/hst_10134_14_acs_wfc_f814w_02 caom:HSTHLA/hst_10134_14_acs_wfc_f814w_03 caom:HSTHLA/hst_10134_14_acs_wfc_f814w_04                4 00000000-0000-0000-3284-0161532f1ab7 HLA Visit Association                  C DAVIS MARC          st_         10134 2005-01-01T16:39:51.0       13       10 2005-01-01 00:56:53.08512+00    53371.0395033 FIELD|LATITUDE|UNIDENTIFIED;HIGH           False     EGS-14-01           PRODUCT               image 214.92672946484487 52.976815072933874"
      ]
     },
     "execution_count": 9,
     "metadata": {},
     "output_type": "execute_result"
    }
   ],
   "source": [
    "final[0]"
   ]
  },
  {
   "cell_type": "code",
   "execution_count": 10,
   "metadata": {},
   "outputs": [
    {
     "name": "stdout",
     "output_type": "stream",
     "text": [
      "Downloading URL http://archives.esac.esa.int/ehst-sl-server/servlet/data-action to C:\\Users\\oryan\\.astropy\\cache\\astroquery\\ESAHubble\\data-action ... [Done]\n"
     ]
    }
   ],
   "source": [
    "esahubble.download_product('hst_10134_14_acs_wfc_f814w',filename = 'C:/Users/oryan/Documents/zoobot_new/test.fits')"
   ]
  },
  {
   "cell_type": "code",
   "execution_count": 11,
   "metadata": {},
   "outputs": [],
   "source": [
    "import matplotlib.pyplot as plt\n",
    "from matplotlib.colors import LogNorm\n",
    "from astropy.io import fits\n",
    "from astropy import visualization"
   ]
  },
  {
   "cell_type": "code",
   "execution_count": 14,
   "metadata": {},
   "outputs": [],
   "source": [
    "image_file = 'C:/Users/oryan/Documents/zoobot_new/test.fits'"
   ]
  },
  {
   "cell_type": "code",
   "execution_count": 16,
   "metadata": {},
   "outputs": [
    {
     "ename": "OSError",
     "evalue": "Header missing END card.",
     "output_type": "error",
     "traceback": [
      "\u001b[1;31m---------------------------------------------------------------------------\u001b[0m",
      "\u001b[1;31mUnicodeDecodeError\u001b[0m                        Traceback (most recent call last)",
      "\u001b[1;32m~\\AppData\\Local\\Continuum\\anaconda3\\lib\\site-packages\\astropy\\io\\fits\\hdu\\base.py\u001b[0m in \u001b[0;36m_readfrom_internal\u001b[1;34m(cls, data, header, checksum, ignore_missing_end, **kwargs)\u001b[0m\n\u001b[0;32m    405\u001b[0m                     \u001b[1;31m# that are needed to build the HDU object.\u001b[0m\u001b[1;33m\u001b[0m\u001b[1;33m\u001b[0m\u001b[1;33m\u001b[0m\u001b[0m\n\u001b[1;32m--> 406\u001b[1;33m                     \u001b[0mheader_str\u001b[0m\u001b[1;33m,\u001b[0m \u001b[0mheader\u001b[0m \u001b[1;33m=\u001b[0m \u001b[0m_BasicHeader\u001b[0m\u001b[1;33m.\u001b[0m\u001b[0mfromfile\u001b[0m\u001b[1;33m(\u001b[0m\u001b[0mdata\u001b[0m\u001b[1;33m)\u001b[0m\u001b[1;33m\u001b[0m\u001b[1;33m\u001b[0m\u001b[0m\n\u001b[0m\u001b[0;32m    407\u001b[0m                 \u001b[1;32mexcept\u001b[0m \u001b[0mException\u001b[0m\u001b[1;33m:\u001b[0m\u001b[1;33m\u001b[0m\u001b[1;33m\u001b[0m\u001b[0m\n",
      "\u001b[1;32m~\\AppData\\Local\\Continuum\\anaconda3\\lib\\site-packages\\astropy\\io\\fits\\header.py\u001b[0m in \u001b[0;36mfromfile\u001b[1;34m(cls, fileobj)\u001b[0m\n\u001b[0;32m   2079\u001b[0m         \u001b[1;32mtry\u001b[0m\u001b[1;33m:\u001b[0m\u001b[1;33m\u001b[0m\u001b[1;33m\u001b[0m\u001b[0m\n\u001b[1;32m-> 2080\u001b[1;33m             \u001b[0mheader_str\u001b[0m\u001b[1;33m,\u001b[0m \u001b[0mcards\u001b[0m \u001b[1;33m=\u001b[0m \u001b[0mparse_header\u001b[0m\u001b[1;33m(\u001b[0m\u001b[0mfileobj\u001b[0m\u001b[1;33m)\u001b[0m\u001b[1;33m\u001b[0m\u001b[1;33m\u001b[0m\u001b[0m\n\u001b[0m\u001b[0;32m   2081\u001b[0m             \u001b[0m_check_padding\u001b[0m\u001b[1;33m(\u001b[0m\u001b[0mheader_str\u001b[0m\u001b[1;33m,\u001b[0m \u001b[0mBLOCK_SIZE\u001b[0m\u001b[1;33m,\u001b[0m \u001b[1;32mFalse\u001b[0m\u001b[1;33m)\u001b[0m\u001b[1;33m\u001b[0m\u001b[1;33m\u001b[0m\u001b[0m\n",
      "\u001b[1;32mastropy\\io\\fits\\_utils.pyx\u001b[0m in \u001b[0;36mastropy.io.fits._utils.parse_header\u001b[1;34m()\u001b[0m\n",
      "\u001b[1;31mUnicodeDecodeError\u001b[0m: 'ascii' codec can't decode byte 0xff in position 512: ordinal not in range(128)",
      "\nDuring handling of the above exception, another exception occurred:\n",
      "\u001b[1;31mOSError\u001b[0m                                   Traceback (most recent call last)",
      "\u001b[1;32m<ipython-input-16-b849cf84fecd>\u001b[0m in \u001b[0;36m<module>\u001b[1;34m\u001b[0m\n\u001b[1;32m----> 1\u001b[1;33m \u001b[0mimage_data\u001b[0m \u001b[1;33m=\u001b[0m \u001b[0mfits\u001b[0m\u001b[1;33m.\u001b[0m\u001b[0mgetdata\u001b[0m\u001b[1;33m(\u001b[0m\u001b[0mimage_file\u001b[0m\u001b[1;33m)\u001b[0m\u001b[1;33m\u001b[0m\u001b[1;33m\u001b[0m\u001b[0m\n\u001b[0m",
      "\u001b[1;32m~\\AppData\\Local\\Continuum\\anaconda3\\lib\\site-packages\\astropy\\io\\fits\\convenience.py\u001b[0m in \u001b[0;36mgetdata\u001b[1;34m(filename, header, lower, upper, view, *args, **kwargs)\u001b[0m\n\u001b[0;32m    187\u001b[0m     \u001b[0mmode\u001b[0m\u001b[1;33m,\u001b[0m \u001b[0mclosed\u001b[0m \u001b[1;33m=\u001b[0m \u001b[0m_get_file_mode\u001b[0m\u001b[1;33m(\u001b[0m\u001b[0mfilename\u001b[0m\u001b[1;33m)\u001b[0m\u001b[1;33m\u001b[0m\u001b[1;33m\u001b[0m\u001b[0m\n\u001b[0;32m    188\u001b[0m \u001b[1;33m\u001b[0m\u001b[0m\n\u001b[1;32m--> 189\u001b[1;33m     \u001b[0mhdulist\u001b[0m\u001b[1;33m,\u001b[0m \u001b[0mextidx\u001b[0m \u001b[1;33m=\u001b[0m \u001b[0m_getext\u001b[0m\u001b[1;33m(\u001b[0m\u001b[0mfilename\u001b[0m\u001b[1;33m,\u001b[0m \u001b[0mmode\u001b[0m\u001b[1;33m,\u001b[0m \u001b[1;33m*\u001b[0m\u001b[0margs\u001b[0m\u001b[1;33m,\u001b[0m \u001b[1;33m**\u001b[0m\u001b[0mkwargs\u001b[0m\u001b[1;33m)\u001b[0m\u001b[1;33m\u001b[0m\u001b[1;33m\u001b[0m\u001b[0m\n\u001b[0m\u001b[0;32m    190\u001b[0m     \u001b[1;32mtry\u001b[0m\u001b[1;33m:\u001b[0m\u001b[1;33m\u001b[0m\u001b[1;33m\u001b[0m\u001b[0m\n\u001b[0;32m    191\u001b[0m         \u001b[0mhdu\u001b[0m \u001b[1;33m=\u001b[0m \u001b[0mhdulist\u001b[0m\u001b[1;33m[\u001b[0m\u001b[0mextidx\u001b[0m\u001b[1;33m]\u001b[0m\u001b[1;33m\u001b[0m\u001b[1;33m\u001b[0m\u001b[0m\n",
      "\u001b[1;32m~\\AppData\\Local\\Continuum\\anaconda3\\lib\\site-packages\\astropy\\io\\fits\\convenience.py\u001b[0m in \u001b[0;36m_getext\u001b[1;34m(filename, mode, ext, extname, extver, *args, **kwargs)\u001b[0m\n\u001b[0;32m   1047\u001b[0m         \u001b[1;32mraise\u001b[0m \u001b[0mTypeError\u001b[0m\u001b[1;33m(\u001b[0m\u001b[1;34m'extver alone cannot specify an extension.'\u001b[0m\u001b[1;33m)\u001b[0m\u001b[1;33m\u001b[0m\u001b[1;33m\u001b[0m\u001b[0m\n\u001b[0;32m   1048\u001b[0m \u001b[1;33m\u001b[0m\u001b[0m\n\u001b[1;32m-> 1049\u001b[1;33m     \u001b[0mhdulist\u001b[0m \u001b[1;33m=\u001b[0m \u001b[0mfitsopen\u001b[0m\u001b[1;33m(\u001b[0m\u001b[0mfilename\u001b[0m\u001b[1;33m,\u001b[0m \u001b[0mmode\u001b[0m\u001b[1;33m=\u001b[0m\u001b[0mmode\u001b[0m\u001b[1;33m,\u001b[0m \u001b[1;33m**\u001b[0m\u001b[0mkwargs\u001b[0m\u001b[1;33m)\u001b[0m\u001b[1;33m\u001b[0m\u001b[1;33m\u001b[0m\u001b[0m\n\u001b[0m\u001b[0;32m   1050\u001b[0m \u001b[1;33m\u001b[0m\u001b[0m\n\u001b[0;32m   1051\u001b[0m     \u001b[1;32mreturn\u001b[0m \u001b[0mhdulist\u001b[0m\u001b[1;33m,\u001b[0m \u001b[0mext\u001b[0m\u001b[1;33m\u001b[0m\u001b[1;33m\u001b[0m\u001b[0m\n",
      "\u001b[1;32m~\\AppData\\Local\\Continuum\\anaconda3\\lib\\site-packages\\astropy\\io\\fits\\hdu\\hdulist.py\u001b[0m in \u001b[0;36mfitsopen\u001b[1;34m(name, mode, memmap, save_backup, cache, lazy_load_hdus, **kwargs)\u001b[0m\n\u001b[0;32m    162\u001b[0m \u001b[1;33m\u001b[0m\u001b[0m\n\u001b[0;32m    163\u001b[0m     return HDUList.fromfile(name, mode, memmap, save_backup, cache,\n\u001b[1;32m--> 164\u001b[1;33m                             lazy_load_hdus, **kwargs)\n\u001b[0m\u001b[0;32m    165\u001b[0m \u001b[1;33m\u001b[0m\u001b[0m\n\u001b[0;32m    166\u001b[0m \u001b[1;33m\u001b[0m\u001b[0m\n",
      "\u001b[1;32m~\\AppData\\Local\\Continuum\\anaconda3\\lib\\site-packages\\astropy\\io\\fits\\hdu\\hdulist.py\u001b[0m in \u001b[0;36mfromfile\u001b[1;34m(cls, fileobj, mode, memmap, save_backup, cache, lazy_load_hdus, **kwargs)\u001b[0m\n\u001b[0;32m    400\u001b[0m         return cls._readfrom(fileobj=fileobj, mode=mode, memmap=memmap,\n\u001b[0;32m    401\u001b[0m                              \u001b[0msave_backup\u001b[0m\u001b[1;33m=\u001b[0m\u001b[0msave_backup\u001b[0m\u001b[1;33m,\u001b[0m \u001b[0mcache\u001b[0m\u001b[1;33m=\u001b[0m\u001b[0mcache\u001b[0m\u001b[1;33m,\u001b[0m\u001b[1;33m\u001b[0m\u001b[1;33m\u001b[0m\u001b[0m\n\u001b[1;32m--> 402\u001b[1;33m                              lazy_load_hdus=lazy_load_hdus, **kwargs)\n\u001b[0m\u001b[0;32m    403\u001b[0m \u001b[1;33m\u001b[0m\u001b[0m\n\u001b[0;32m    404\u001b[0m     \u001b[1;33m@\u001b[0m\u001b[0mclassmethod\u001b[0m\u001b[1;33m\u001b[0m\u001b[1;33m\u001b[0m\u001b[0m\n",
      "\u001b[1;32m~\\AppData\\Local\\Continuum\\anaconda3\\lib\\site-packages\\astropy\\io\\fits\\hdu\\hdulist.py\u001b[0m in \u001b[0;36m_readfrom\u001b[1;34m(cls, fileobj, data, mode, memmap, cache, lazy_load_hdus, **kwargs)\u001b[0m\n\u001b[0;32m   1074\u001b[0m \u001b[1;33m\u001b[0m\u001b[0m\n\u001b[0;32m   1075\u001b[0m         \u001b[1;31m# Make sure at least the PRIMARY HDU can be read\u001b[0m\u001b[1;33m\u001b[0m\u001b[1;33m\u001b[0m\u001b[1;33m\u001b[0m\u001b[0m\n\u001b[1;32m-> 1076\u001b[1;33m         \u001b[0mread_one\u001b[0m \u001b[1;33m=\u001b[0m \u001b[0mhdulist\u001b[0m\u001b[1;33m.\u001b[0m\u001b[0m_read_next_hdu\u001b[0m\u001b[1;33m(\u001b[0m\u001b[1;33m)\u001b[0m\u001b[1;33m\u001b[0m\u001b[1;33m\u001b[0m\u001b[0m\n\u001b[0m\u001b[0;32m   1077\u001b[0m \u001b[1;33m\u001b[0m\u001b[0m\n\u001b[0;32m   1078\u001b[0m         \u001b[1;31m# If we're trying to read only and no header units were found,\u001b[0m\u001b[1;33m\u001b[0m\u001b[1;33m\u001b[0m\u001b[1;33m\u001b[0m\u001b[0m\n",
      "\u001b[1;32m~\\AppData\\Local\\Continuum\\anaconda3\\lib\\site-packages\\astropy\\io\\fits\\hdu\\hdulist.py\u001b[0m in \u001b[0;36m_read_next_hdu\u001b[1;34m(self)\u001b[0m\n\u001b[0;32m   1149\u001b[0m                                 \u001b[0mfileobj\u001b[0m\u001b[1;33m.\u001b[0m\u001b[0mseek\u001b[0m\u001b[1;33m(\u001b[0m\u001b[0moffset\u001b[0m\u001b[1;33m,\u001b[0m \u001b[0mos\u001b[0m\u001b[1;33m.\u001b[0m\u001b[0mSEEK_SET\u001b[0m\u001b[1;33m)\u001b[0m\u001b[1;33m\u001b[0m\u001b[1;33m\u001b[0m\u001b[0m\n\u001b[0;32m   1150\u001b[0m \u001b[1;33m\u001b[0m\u001b[0m\n\u001b[1;32m-> 1151\u001b[1;33m                         \u001b[0mhdu\u001b[0m \u001b[1;33m=\u001b[0m \u001b[0m_BaseHDU\u001b[0m\u001b[1;33m.\u001b[0m\u001b[0mreadfrom\u001b[0m\u001b[1;33m(\u001b[0m\u001b[0mfileobj\u001b[0m\u001b[1;33m,\u001b[0m \u001b[1;33m**\u001b[0m\u001b[0mkwargs\u001b[0m\u001b[1;33m)\u001b[0m\u001b[1;33m\u001b[0m\u001b[1;33m\u001b[0m\u001b[0m\n\u001b[0m\u001b[0;32m   1152\u001b[0m                     \u001b[1;32mexcept\u001b[0m \u001b[0mEOFError\u001b[0m\u001b[1;33m:\u001b[0m\u001b[1;33m\u001b[0m\u001b[1;33m\u001b[0m\u001b[0m\n\u001b[0;32m   1153\u001b[0m                         \u001b[0mself\u001b[0m\u001b[1;33m.\u001b[0m\u001b[0m_read_all\u001b[0m \u001b[1;33m=\u001b[0m \u001b[1;32mTrue\u001b[0m\u001b[1;33m\u001b[0m\u001b[1;33m\u001b[0m\u001b[0m\n",
      "\u001b[1;32m~\\AppData\\Local\\Continuum\\anaconda3\\lib\\site-packages\\astropy\\io\\fits\\hdu\\base.py\u001b[0m in \u001b[0;36mreadfrom\u001b[1;34m(cls, fileobj, checksum, ignore_missing_end, **kwargs)\u001b[0m\n\u001b[0;32m    325\u001b[0m         hdu = cls._readfrom_internal(fileobj, checksum=checksum,\n\u001b[0;32m    326\u001b[0m                                      \u001b[0mignore_missing_end\u001b[0m\u001b[1;33m=\u001b[0m\u001b[0mignore_missing_end\u001b[0m\u001b[1;33m,\u001b[0m\u001b[1;33m\u001b[0m\u001b[1;33m\u001b[0m\u001b[0m\n\u001b[1;32m--> 327\u001b[1;33m                                      **kwargs)\n\u001b[0m\u001b[0;32m    328\u001b[0m \u001b[1;33m\u001b[0m\u001b[0m\n\u001b[0;32m    329\u001b[0m         \u001b[1;31m# If the checksum had to be checked the data may have already been read\u001b[0m\u001b[1;33m\u001b[0m\u001b[1;33m\u001b[0m\u001b[1;33m\u001b[0m\u001b[0m\n",
      "\u001b[1;32m~\\AppData\\Local\\Continuum\\anaconda3\\lib\\site-packages\\astropy\\io\\fits\\hdu\\base.py\u001b[0m in \u001b[0;36m_readfrom_internal\u001b[1;34m(cls, data, header, checksum, ignore_missing_end, **kwargs)\u001b[0m\n\u001b[0;32m    412\u001b[0m                     \u001b[0mdata\u001b[0m\u001b[1;33m.\u001b[0m\u001b[0mseek\u001b[0m\u001b[1;33m(\u001b[0m\u001b[0mheader_offset\u001b[0m\u001b[1;33m)\u001b[0m\u001b[1;33m\u001b[0m\u001b[1;33m\u001b[0m\u001b[0m\n\u001b[0;32m    413\u001b[0m                     header = Header.fromfile(data,\n\u001b[1;32m--> 414\u001b[1;33m                                              endcard=not ignore_missing_end)\n\u001b[0m\u001b[0;32m    415\u001b[0m             \u001b[0mhdu_fileobj\u001b[0m \u001b[1;33m=\u001b[0m \u001b[0mdata\u001b[0m\u001b[1;33m\u001b[0m\u001b[1;33m\u001b[0m\u001b[0m\n\u001b[0;32m    416\u001b[0m             \u001b[0mdata_offset\u001b[0m \u001b[1;33m=\u001b[0m \u001b[0mdata\u001b[0m\u001b[1;33m.\u001b[0m\u001b[0mtell\u001b[0m\u001b[1;33m(\u001b[0m\u001b[1;33m)\u001b[0m  \u001b[1;31m# *after* reading the header\u001b[0m\u001b[1;33m\u001b[0m\u001b[1;33m\u001b[0m\u001b[0m\n",
      "\u001b[1;32m~\\AppData\\Local\\Continuum\\anaconda3\\lib\\site-packages\\astropy\\io\\fits\\header.py\u001b[0m in \u001b[0;36mfromfile\u001b[1;34m(cls, fileobj, sep, endcard, padding)\u001b[0m\n\u001b[0;32m    516\u001b[0m \u001b[1;33m\u001b[0m\u001b[0m\n\u001b[0;32m    517\u001b[0m             return cls._from_blocks(block_iter, is_binary, sep, endcard,\n\u001b[1;32m--> 518\u001b[1;33m                                     padding)[1]\n\u001b[0m\u001b[0;32m    519\u001b[0m         \u001b[1;32mfinally\u001b[0m\u001b[1;33m:\u001b[0m\u001b[1;33m\u001b[0m\u001b[1;33m\u001b[0m\u001b[0m\n\u001b[0;32m    520\u001b[0m             \u001b[1;32mif\u001b[0m \u001b[0mclose_file\u001b[0m\u001b[1;33m:\u001b[0m\u001b[1;33m\u001b[0m\u001b[1;33m\u001b[0m\u001b[0m\n",
      "\u001b[1;32m~\\AppData\\Local\\Continuum\\anaconda3\\lib\\site-packages\\astropy\\io\\fits\\header.py\u001b[0m in \u001b[0;36m_from_blocks\u001b[1;34m(cls, block_iter, is_binary, sep, endcard, padding)\u001b[0m\n\u001b[0;32m    598\u001b[0m             \u001b[1;31m# TODO: Pass this error to validation framework as an ERROR,\u001b[0m\u001b[1;33m\u001b[0m\u001b[1;33m\u001b[0m\u001b[1;33m\u001b[0m\u001b[0m\n\u001b[0;32m    599\u001b[0m             \u001b[1;31m# rather than raising an exception\u001b[0m\u001b[1;33m\u001b[0m\u001b[1;33m\u001b[0m\u001b[1;33m\u001b[0m\u001b[0m\n\u001b[1;32m--> 600\u001b[1;33m             \u001b[1;32mraise\u001b[0m \u001b[0mOSError\u001b[0m\u001b[1;33m(\u001b[0m\u001b[1;34m'Header missing END card.'\u001b[0m\u001b[1;33m)\u001b[0m\u001b[1;33m\u001b[0m\u001b[1;33m\u001b[0m\u001b[0m\n\u001b[0m\u001b[0;32m    601\u001b[0m \u001b[1;33m\u001b[0m\u001b[0m\n\u001b[0;32m    602\u001b[0m         \u001b[0mheader_str\u001b[0m \u001b[1;33m=\u001b[0m \u001b[1;34m''\u001b[0m\u001b[1;33m.\u001b[0m\u001b[0mjoin\u001b[0m\u001b[1;33m(\u001b[0m\u001b[0mread_blocks\u001b[0m\u001b[1;33m)\u001b[0m\u001b[1;33m\u001b[0m\u001b[1;33m\u001b[0m\u001b[0m\n",
      "\u001b[1;31mOSError\u001b[0m: Header missing END card."
     ]
    }
   ],
   "source": [
    "image_data = fits.getdata(image_file)"
   ]
  },
  {
   "cell_type": "code",
   "execution_count": null,
   "metadata": {},
   "outputs": [],
   "source": []
  }
 ],
 "metadata": {
  "kernelspec": {
   "display_name": "Python 3",
   "language": "python",
   "name": "python3"
  },
  "language_info": {
   "codemirror_mode": {
    "name": "ipython",
    "version": 3
   },
   "file_extension": ".py",
   "mimetype": "text/x-python",
   "name": "python",
   "nbconvert_exporter": "python",
   "pygments_lexer": "ipython3",
   "version": "3.7.4"
  }
 },
 "nbformat": 4,
 "nbformat_minor": 4
}
