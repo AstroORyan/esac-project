{
 "cells": [
  {
   "cell_type": "code",
   "execution_count": 1,
   "metadata": {},
   "outputs": [],
   "source": [
    "from zoobot.tensorflow.predictions import predict_on_dataset\n",
    "from zoobot.tensorflow.data_utils import image_datasets\n",
    "from zoobot.tensorflow.estimators import preprocess, define_model, alexnet_baseline, small_cnn_baseline\n",
    "\n",
    "import pandas as pd\n",
    "import numpy as np\n",
    "import ast\n",
    "import os\n",
    "from PIL import Image"
   ]
  },
  {
   "cell_type": "code",
   "execution_count": 4,
   "metadata": {},
   "outputs": [],
   "source": [
    "file_format = 'png'\n",
    "unordered_image_paths = predict_on_dataset.paths_in_folder('C:/Users/oryan/Documents/esac-project/cutouts/testing-predictions-tmp-folder/',file_format = file_format)"
   ]
  },
  {
   "cell_type": "code",
   "execution_count": 9,
   "metadata": {},
   "outputs": [],
   "source": [
    "initial_size = 300\n",
    "batch_size = 8\n",
    "raw_image_ds = image_datasets.get_image_dataset([str(x) for x in unordered_image_paths], file_format, initial_size, batch_size)"
   ]
  },
  {
   "cell_type": "code",
   "execution_count": 17,
   "metadata": {},
   "outputs": [],
   "source": [
    "preprocessing_config = preprocess.PreprocessingConfig(\n",
    "    label_cols = [],\n",
    "    input_size = initial_size,\n",
    "    make_greyscale=True,\n",
    "    input_channels=1,\n",
    "    normalise_from_uint8=True\n",
    ")"
   ]
  },
  {
   "cell_type": "code",
   "execution_count": 18,
   "metadata": {},
   "outputs": [
    {
     "name": "stderr",
     "output_type": "stream",
     "text": [
      "WARNING:root:No labels requested, returning id_str as labels\n"
     ]
    }
   ],
   "source": [
    "image_ds = preprocess.preprocess_dataset(raw_image_ds, preprocessing_config)"
   ]
  },
  {
   "cell_type": "code",
   "execution_count": 15,
   "metadata": {},
   "outputs": [],
   "source": [
    "checkpoint_loc = r'C:\\Users\\oryan\\Documents\\zoobot_new\\pretrained-models\\replicated_train_only_greyscale_tf\\replicated_train_only_greyscale_tf\\checkpoint'"
   ]
  },
  {
   "cell_type": "code",
   "execution_count": 23,
   "metadata": {},
   "outputs": [],
   "source": [
    "resize_size = 224\n",
    "crop_size = int(0.75 * initial_size)"
   ]
  },
  {
   "cell_type": "code",
   "execution_count": 25,
   "metadata": {},
   "outputs": [
    {
     "name": "stderr",
     "output_type": "stream",
     "text": [
      "WARNING:root:Crop size and final size are similar: skipping resizing and cropping directly to resize_size (ignoring crop_size)\n"
     ]
    }
   ],
   "source": [
    "model = define_model.load_model(\n",
    "    checkpoint_loc = checkpoint_loc,\n",
    "    include_top = True,\n",
    "    input_size = initial_size,\n",
    "    resize_size = resize_size,\n",
    "    expect_partial=True,\n",
    "    crop_size = crop_size\n",
    ")"
   ]
  },
  {
   "cell_type": "code",
   "execution_count": 27,
   "metadata": {},
   "outputs": [
    {
     "data": {
      "text/plain": [
       "\u001b[1;31mSignature:\u001b[0m\n",
       "\u001b[0mpredict_on_dataset\u001b[0m\u001b[1;33m.\u001b[0m\u001b[0mpredict\u001b[0m\u001b[1;33m(\u001b[0m\u001b[1;33m\n",
       "\u001b[0m    \u001b[0mds\u001b[0m\u001b[1;33m:\u001b[0m \u001b[0mtensorflow\u001b[0m\u001b[1;33m.\u001b[0m\u001b[0mpython\u001b[0m\u001b[1;33m.\u001b[0m\u001b[0mdata\u001b[0m\u001b[1;33m.\u001b[0m\u001b[0mops\u001b[0m\u001b[1;33m.\u001b[0m\u001b[0mdataset_ops\u001b[0m\u001b[1;33m.\u001b[0m\u001b[0mDatasetV2\u001b[0m\u001b[1;33m,\u001b[0m\u001b[1;33m\n",
       "\u001b[0m    \u001b[0mmodel\u001b[0m\u001b[1;33m:\u001b[0m \u001b[0mkeras\u001b[0m\u001b[1;33m.\u001b[0m\u001b[0mengine\u001b[0m\u001b[1;33m.\u001b[0m\u001b[0mtraining\u001b[0m\u001b[1;33m.\u001b[0m\u001b[0mModel\u001b[0m\u001b[1;33m,\u001b[0m\u001b[1;33m\n",
       "\u001b[0m    \u001b[0mn_samples\u001b[0m\u001b[1;33m:\u001b[0m \u001b[0mint\u001b[0m\u001b[1;33m,\u001b[0m\u001b[1;33m\n",
       "\u001b[0m    \u001b[0mlabel_cols\u001b[0m\u001b[1;33m:\u001b[0m \u001b[0mList\u001b[0m\u001b[1;33m,\u001b[0m\u001b[1;33m\n",
       "\u001b[0m    \u001b[0msave_loc\u001b[0m\u001b[1;33m:\u001b[0m \u001b[0mstr\u001b[0m\u001b[1;33m,\u001b[0m\u001b[1;33m\n",
       "\u001b[0m\u001b[1;33m)\u001b[0m\u001b[1;33m\u001b[0m\u001b[1;33m\u001b[0m\u001b[0m\n",
       "\u001b[1;31mDocstring:\u001b[0m\n",
       "Make and save predictions by model on image dataset.\n",
       "Args:\n",
       "    ds (tf.data.Dataset): dataset yielding batches of (images, id_strs). Preprocessing already applied. id_strs may be the original path to image, or any other galaxy identifier.\n",
       "    model (tf.keras.Model): trained model with which to make predictions\n",
       "    n_samples (int): number of repeat predictions. Useful to marginalise over augmentations or MC Dropout.\n",
       "    label_cols (list): Semantic labels for final model output dimension (e.g. [\"smooth\", \"bar\", \"merger\"]). Only used for output csv/hdf5 notes.\n",
       "    save_loc (str): path to save csv of predictions.\n",
       "\u001b[1;31mFile:\u001b[0m      c:\\users\\oryan\\documents\\zoobot_tests\\zoobot\\zoobot\\tensorflow\\predictions\\predict_on_dataset.py\n",
       "\u001b[1;31mType:\u001b[0m      function\n"
      ]
     },
     "metadata": {},
     "output_type": "display_data"
    }
   ],
   "source": [
    "predict_on_dataset.predict?"
   ]
  },
  {
   "cell_type": "code",
   "execution_count": 28,
   "metadata": {},
   "outputs": [],
   "source": [
    "predict_on_dataset.predict(\n",
    "    ds = image_ds,\n",
    "    model=model,\n",
    "    n_samples=5,\n",
    "    label_cols = ['interacting'],\n",
    "    save_loc = r'C:\\Users\\oryan\\Documents\\esac-project\\predictions\\gz-hubble-training-pred.csv'\n",
    ")"
   ]
  },
  {
   "cell_type": "markdown",
   "metadata": {},
   "source": [
    "## Checking Results"
   ]
  },
  {
   "cell_type": "code",
   "execution_count": 34,
   "metadata": {},
   "outputs": [],
   "source": [
    "predictions = pd.read_csv('C:/Users/oryan/Documents/esac-project/predictions/gz-hubble-training-pred.csv', index_col = 0).reset_index()"
   ]
  },
  {
   "cell_type": "code",
   "execution_count": 35,
   "metadata": {},
   "outputs": [
    {
     "data": {
      "text/html": [
       "<div>\n",
       "<style scoped>\n",
       "    .dataframe tbody tr th:only-of-type {\n",
       "        vertical-align: middle;\n",
       "    }\n",
       "\n",
       "    .dataframe tbody tr th {\n",
       "        vertical-align: top;\n",
       "    }\n",
       "\n",
       "    .dataframe thead th {\n",
       "        text-align: right;\n",
       "    }\n",
       "</style>\n",
       "<table border=\"1\" class=\"dataframe\">\n",
       "  <thead>\n",
       "    <tr style=\"text-align: right;\">\n",
       "      <th></th>\n",
       "      <th>id_str</th>\n",
       "      <th>interacting_pred</th>\n",
       "    </tr>\n",
       "  </thead>\n",
       "  <tbody>\n",
       "    <tr>\n",
       "      <th>0</th>\n",
       "      <td>C:/Users/oryan/Documents/esac-project/cutouts/...</td>\n",
       "      <td>[2.988428831100464, 3.1345763206481934, 3.6543...</td>\n",
       "    </tr>\n",
       "    <tr>\n",
       "      <th>1</th>\n",
       "      <td>C:/Users/oryan/Documents/esac-project/cutouts/...</td>\n",
       "      <td>[6.886358261108398, 9.615628242492676, 5.36460...</td>\n",
       "    </tr>\n",
       "    <tr>\n",
       "      <th>2</th>\n",
       "      <td>C:/Users/oryan/Documents/esac-project/cutouts/...</td>\n",
       "      <td>[8.944631576538086, 7.091606616973877, 7.56981...</td>\n",
       "    </tr>\n",
       "    <tr>\n",
       "      <th>3</th>\n",
       "      <td>C:/Users/oryan/Documents/esac-project/cutouts/...</td>\n",
       "      <td>[4.024980545043945, 3.4999678134918213, 3.1602...</td>\n",
       "    </tr>\n",
       "    <tr>\n",
       "      <th>4</th>\n",
       "      <td>C:/Users/oryan/Documents/esac-project/cutouts/...</td>\n",
       "      <td>[1.575539469718933, 1.5682587623596191, 2.0141...</td>\n",
       "    </tr>\n",
       "    <tr>\n",
       "      <th>5</th>\n",
       "      <td>C:/Users/oryan/Documents/esac-project/cutouts/...</td>\n",
       "      <td>[7.066828727722168, 5.041028022766113, 4.95499...</td>\n",
       "    </tr>\n",
       "    <tr>\n",
       "      <th>6</th>\n",
       "      <td>C:/Users/oryan/Documents/esac-project/cutouts/...</td>\n",
       "      <td>[3.3511290550231934, 8.63340950012207, 6.64436...</td>\n",
       "    </tr>\n",
       "    <tr>\n",
       "      <th>7</th>\n",
       "      <td>C:/Users/oryan/Documents/esac-project/cutouts/...</td>\n",
       "      <td>[2.0613322257995605, 3.410909652709961, 2.9555...</td>\n",
       "    </tr>\n",
       "    <tr>\n",
       "      <th>8</th>\n",
       "      <td>C:/Users/oryan/Documents/esac-project/cutouts/...</td>\n",
       "      <td>[5.60822868347168, 5.479885101318359, 4.836846...</td>\n",
       "    </tr>\n",
       "    <tr>\n",
       "      <th>9</th>\n",
       "      <td>C:/Users/oryan/Documents/esac-project/cutouts/...</td>\n",
       "      <td>[1.2828091382980347, 1.122755765914917, 1.1547...</td>\n",
       "    </tr>\n",
       "  </tbody>\n",
       "</table>\n",
       "</div>"
      ],
      "text/plain": [
       "                                              id_str  \\\n",
       "0  C:/Users/oryan/Documents/esac-project/cutouts/...   \n",
       "1  C:/Users/oryan/Documents/esac-project/cutouts/...   \n",
       "2  C:/Users/oryan/Documents/esac-project/cutouts/...   \n",
       "3  C:/Users/oryan/Documents/esac-project/cutouts/...   \n",
       "4  C:/Users/oryan/Documents/esac-project/cutouts/...   \n",
       "5  C:/Users/oryan/Documents/esac-project/cutouts/...   \n",
       "6  C:/Users/oryan/Documents/esac-project/cutouts/...   \n",
       "7  C:/Users/oryan/Documents/esac-project/cutouts/...   \n",
       "8  C:/Users/oryan/Documents/esac-project/cutouts/...   \n",
       "9  C:/Users/oryan/Documents/esac-project/cutouts/...   \n",
       "\n",
       "                                    interacting_pred  \n",
       "0  [2.988428831100464, 3.1345763206481934, 3.6543...  \n",
       "1  [6.886358261108398, 9.615628242492676, 5.36460...  \n",
       "2  [8.944631576538086, 7.091606616973877, 7.56981...  \n",
       "3  [4.024980545043945, 3.4999678134918213, 3.1602...  \n",
       "4  [1.575539469718933, 1.5682587623596191, 2.0141...  \n",
       "5  [7.066828727722168, 5.041028022766113, 4.95499...  \n",
       "6  [3.3511290550231934, 8.63340950012207, 6.64436...  \n",
       "7  [2.0613322257995605, 3.410909652709961, 2.9555...  \n",
       "8  [5.60822868347168, 5.479885101318359, 4.836846...  \n",
       "9  [1.2828091382980347, 1.122755765914917, 1.1547...  "
      ]
     },
     "execution_count": 35,
     "metadata": {},
     "output_type": "execute_result"
    }
   ],
   "source": [
    "predictions"
   ]
  },
  {
   "cell_type": "code",
   "execution_count": 42,
   "metadata": {},
   "outputs": [
    {
     "data": {
      "text/plain": [
       "[2.988428831100464,\n",
       " 3.1345763206481934,\n",
       " 3.6543796062469482,\n",
       " 2.5532851219177246,\n",
       " 2.9271254539489746]"
      ]
     },
     "execution_count": 42,
     "metadata": {},
     "output_type": "execute_result"
    }
   ],
   "source": [
    "ast.literal_eval(predictions.interacting_pred.iloc[0])"
   ]
  },
  {
   "cell_type": "code",
   "execution_count": 66,
   "metadata": {},
   "outputs": [],
   "source": [
    "pred_red = (\n",
    "    predictions\n",
    "    .assign(pred = predictions.interacting_pred.apply(lambda x: np.mean(ast.literal_eval(x))/10))\n",
    "    .assign(id = predictions.id_str.apply(lambda x: os.path.basename(x).replace('_300_300.png','')))\n",
    ")"
   ]
  },
  {
   "cell_type": "code",
   "execution_count": 67,
   "metadata": {},
   "outputs": [
    {
     "data": {
      "text/html": [
       "<div>\n",
       "<style scoped>\n",
       "    .dataframe tbody tr th:only-of-type {\n",
       "        vertical-align: middle;\n",
       "    }\n",
       "\n",
       "    .dataframe tbody tr th {\n",
       "        vertical-align: top;\n",
       "    }\n",
       "\n",
       "    .dataframe thead th {\n",
       "        text-align: right;\n",
       "    }\n",
       "</style>\n",
       "<table border=\"1\" class=\"dataframe\">\n",
       "  <thead>\n",
       "    <tr style=\"text-align: right;\">\n",
       "      <th></th>\n",
       "      <th>id_str</th>\n",
       "      <th>interacting_pred</th>\n",
       "      <th>pred</th>\n",
       "      <th>id</th>\n",
       "    </tr>\n",
       "  </thead>\n",
       "  <tbody>\n",
       "    <tr>\n",
       "      <th>0</th>\n",
       "      <td>C:/Users/oryan/Documents/esac-project/cutouts/...</td>\n",
       "      <td>[2.988428831100464, 3.1345763206481934, 3.6543...</td>\n",
       "      <td>0.305156</td>\n",
       "      <td>AHZ10002i0</td>\n",
       "    </tr>\n",
       "    <tr>\n",
       "      <th>1</th>\n",
       "      <td>C:/Users/oryan/Documents/esac-project/cutouts/...</td>\n",
       "      <td>[6.886358261108398, 9.615628242492676, 5.36460...</td>\n",
       "      <td>0.742976</td>\n",
       "      <td>AHZ10004js</td>\n",
       "    </tr>\n",
       "    <tr>\n",
       "      <th>2</th>\n",
       "      <td>C:/Users/oryan/Documents/esac-project/cutouts/...</td>\n",
       "      <td>[8.944631576538086, 7.091606616973877, 7.56981...</td>\n",
       "      <td>0.779521</td>\n",
       "      <td>AHZ2000a8x</td>\n",
       "    </tr>\n",
       "    <tr>\n",
       "      <th>3</th>\n",
       "      <td>C:/Users/oryan/Documents/esac-project/cutouts/...</td>\n",
       "      <td>[4.024980545043945, 3.4999678134918213, 3.1602...</td>\n",
       "      <td>0.486574</td>\n",
       "      <td>AHZ2000bvu</td>\n",
       "    </tr>\n",
       "    <tr>\n",
       "      <th>4</th>\n",
       "      <td>C:/Users/oryan/Documents/esac-project/cutouts/...</td>\n",
       "      <td>[1.575539469718933, 1.5682587623596191, 2.0141...</td>\n",
       "      <td>0.187052</td>\n",
       "      <td>AHZ2000jxz</td>\n",
       "    </tr>\n",
       "    <tr>\n",
       "      <th>5</th>\n",
       "      <td>C:/Users/oryan/Documents/esac-project/cutouts/...</td>\n",
       "      <td>[7.066828727722168, 5.041028022766113, 4.95499...</td>\n",
       "      <td>0.625823</td>\n",
       "      <td>AHZ2000o3z</td>\n",
       "    </tr>\n",
       "    <tr>\n",
       "      <th>6</th>\n",
       "      <td>C:/Users/oryan/Documents/esac-project/cutouts/...</td>\n",
       "      <td>[3.3511290550231934, 8.63340950012207, 6.64436...</td>\n",
       "      <td>0.590505</td>\n",
       "      <td>AHZ2000spf</td>\n",
       "    </tr>\n",
       "    <tr>\n",
       "      <th>7</th>\n",
       "      <td>C:/Users/oryan/Documents/esac-project/cutouts/...</td>\n",
       "      <td>[2.0613322257995605, 3.410909652709961, 2.9555...</td>\n",
       "      <td>0.289241</td>\n",
       "      <td>AHZ2001c18</td>\n",
       "    </tr>\n",
       "    <tr>\n",
       "      <th>8</th>\n",
       "      <td>C:/Users/oryan/Documents/esac-project/cutouts/...</td>\n",
       "      <td>[5.60822868347168, 5.479885101318359, 4.836846...</td>\n",
       "      <td>0.501591</td>\n",
       "      <td>AHZ2001j4s</td>\n",
       "    </tr>\n",
       "    <tr>\n",
       "      <th>9</th>\n",
       "      <td>C:/Users/oryan/Documents/esac-project/cutouts/...</td>\n",
       "      <td>[1.2828091382980347, 1.122755765914917, 1.1547...</td>\n",
       "      <td>0.121151</td>\n",
       "      <td>AHZ2001j55</td>\n",
       "    </tr>\n",
       "  </tbody>\n",
       "</table>\n",
       "</div>"
      ],
      "text/plain": [
       "                                              id_str  \\\n",
       "0  C:/Users/oryan/Documents/esac-project/cutouts/...   \n",
       "1  C:/Users/oryan/Documents/esac-project/cutouts/...   \n",
       "2  C:/Users/oryan/Documents/esac-project/cutouts/...   \n",
       "3  C:/Users/oryan/Documents/esac-project/cutouts/...   \n",
       "4  C:/Users/oryan/Documents/esac-project/cutouts/...   \n",
       "5  C:/Users/oryan/Documents/esac-project/cutouts/...   \n",
       "6  C:/Users/oryan/Documents/esac-project/cutouts/...   \n",
       "7  C:/Users/oryan/Documents/esac-project/cutouts/...   \n",
       "8  C:/Users/oryan/Documents/esac-project/cutouts/...   \n",
       "9  C:/Users/oryan/Documents/esac-project/cutouts/...   \n",
       "\n",
       "                                    interacting_pred      pred          id  \n",
       "0  [2.988428831100464, 3.1345763206481934, 3.6543...  0.305156  AHZ10002i0  \n",
       "1  [6.886358261108398, 9.615628242492676, 5.36460...  0.742976  AHZ10004js  \n",
       "2  [8.944631576538086, 7.091606616973877, 7.56981...  0.779521  AHZ2000a8x  \n",
       "3  [4.024980545043945, 3.4999678134918213, 3.1602...  0.486574  AHZ2000bvu  \n",
       "4  [1.575539469718933, 1.5682587623596191, 2.0141...  0.187052  AHZ2000jxz  \n",
       "5  [7.066828727722168, 5.041028022766113, 4.95499...  0.625823  AHZ2000o3z  \n",
       "6  [3.3511290550231934, 8.63340950012207, 6.64436...  0.590505  AHZ2000spf  \n",
       "7  [2.0613322257995605, 3.410909652709961, 2.9555...  0.289241  AHZ2001c18  \n",
       "8  [5.60822868347168, 5.479885101318359, 4.836846...  0.501591  AHZ2001j4s  \n",
       "9  [1.2828091382980347, 1.122755765914917, 1.1547...  0.121151  AHZ2001j55  "
      ]
     },
     "execution_count": 67,
     "metadata": {},
     "output_type": "execute_result"
    }
   ],
   "source": [
    "pred_red"
   ]
  },
  {
   "cell_type": "code",
   "execution_count": 79,
   "metadata": {},
   "outputs": [],
   "source": [
    "pred_binary = pred_red.assign(bin_pred = pred_red.pred.apply(lambda x: 1 if x >= 0.5 else 0 ))"
   ]
  },
  {
   "cell_type": "code",
   "execution_count": 80,
   "metadata": {},
   "outputs": [
    {
     "data": {
      "text/html": [
       "<div>\n",
       "<style scoped>\n",
       "    .dataframe tbody tr th:only-of-type {\n",
       "        vertical-align: middle;\n",
       "    }\n",
       "\n",
       "    .dataframe tbody tr th {\n",
       "        vertical-align: top;\n",
       "    }\n",
       "\n",
       "    .dataframe thead th {\n",
       "        text-align: right;\n",
       "    }\n",
       "</style>\n",
       "<table border=\"1\" class=\"dataframe\">\n",
       "  <thead>\n",
       "    <tr style=\"text-align: right;\">\n",
       "      <th></th>\n",
       "      <th>id_str</th>\n",
       "      <th>interacting_pred</th>\n",
       "      <th>pred</th>\n",
       "      <th>id</th>\n",
       "      <th>bin_pred</th>\n",
       "    </tr>\n",
       "  </thead>\n",
       "  <tbody>\n",
       "    <tr>\n",
       "      <th>0</th>\n",
       "      <td>C:/Users/oryan/Documents/esac-project/cutouts/...</td>\n",
       "      <td>[2.988428831100464, 3.1345763206481934, 3.6543...</td>\n",
       "      <td>0.305156</td>\n",
       "      <td>AHZ10002i0</td>\n",
       "      <td>0</td>\n",
       "    </tr>\n",
       "    <tr>\n",
       "      <th>1</th>\n",
       "      <td>C:/Users/oryan/Documents/esac-project/cutouts/...</td>\n",
       "      <td>[6.886358261108398, 9.615628242492676, 5.36460...</td>\n",
       "      <td>0.742976</td>\n",
       "      <td>AHZ10004js</td>\n",
       "      <td>1</td>\n",
       "    </tr>\n",
       "    <tr>\n",
       "      <th>2</th>\n",
       "      <td>C:/Users/oryan/Documents/esac-project/cutouts/...</td>\n",
       "      <td>[8.944631576538086, 7.091606616973877, 7.56981...</td>\n",
       "      <td>0.779521</td>\n",
       "      <td>AHZ2000a8x</td>\n",
       "      <td>1</td>\n",
       "    </tr>\n",
       "    <tr>\n",
       "      <th>3</th>\n",
       "      <td>C:/Users/oryan/Documents/esac-project/cutouts/...</td>\n",
       "      <td>[4.024980545043945, 3.4999678134918213, 3.1602...</td>\n",
       "      <td>0.486574</td>\n",
       "      <td>AHZ2000bvu</td>\n",
       "      <td>0</td>\n",
       "    </tr>\n",
       "    <tr>\n",
       "      <th>4</th>\n",
       "      <td>C:/Users/oryan/Documents/esac-project/cutouts/...</td>\n",
       "      <td>[1.575539469718933, 1.5682587623596191, 2.0141...</td>\n",
       "      <td>0.187052</td>\n",
       "      <td>AHZ2000jxz</td>\n",
       "      <td>0</td>\n",
       "    </tr>\n",
       "    <tr>\n",
       "      <th>5</th>\n",
       "      <td>C:/Users/oryan/Documents/esac-project/cutouts/...</td>\n",
       "      <td>[7.066828727722168, 5.041028022766113, 4.95499...</td>\n",
       "      <td>0.625823</td>\n",
       "      <td>AHZ2000o3z</td>\n",
       "      <td>1</td>\n",
       "    </tr>\n",
       "    <tr>\n",
       "      <th>6</th>\n",
       "      <td>C:/Users/oryan/Documents/esac-project/cutouts/...</td>\n",
       "      <td>[3.3511290550231934, 8.63340950012207, 6.64436...</td>\n",
       "      <td>0.590505</td>\n",
       "      <td>AHZ2000spf</td>\n",
       "      <td>1</td>\n",
       "    </tr>\n",
       "    <tr>\n",
       "      <th>7</th>\n",
       "      <td>C:/Users/oryan/Documents/esac-project/cutouts/...</td>\n",
       "      <td>[2.0613322257995605, 3.410909652709961, 2.9555...</td>\n",
       "      <td>0.289241</td>\n",
       "      <td>AHZ2001c18</td>\n",
       "      <td>0</td>\n",
       "    </tr>\n",
       "    <tr>\n",
       "      <th>8</th>\n",
       "      <td>C:/Users/oryan/Documents/esac-project/cutouts/...</td>\n",
       "      <td>[5.60822868347168, 5.479885101318359, 4.836846...</td>\n",
       "      <td>0.501591</td>\n",
       "      <td>AHZ2001j4s</td>\n",
       "      <td>1</td>\n",
       "    </tr>\n",
       "    <tr>\n",
       "      <th>9</th>\n",
       "      <td>C:/Users/oryan/Documents/esac-project/cutouts/...</td>\n",
       "      <td>[1.2828091382980347, 1.122755765914917, 1.1547...</td>\n",
       "      <td>0.121151</td>\n",
       "      <td>AHZ2001j55</td>\n",
       "      <td>0</td>\n",
       "    </tr>\n",
       "  </tbody>\n",
       "</table>\n",
       "</div>"
      ],
      "text/plain": [
       "                                              id_str  \\\n",
       "0  C:/Users/oryan/Documents/esac-project/cutouts/...   \n",
       "1  C:/Users/oryan/Documents/esac-project/cutouts/...   \n",
       "2  C:/Users/oryan/Documents/esac-project/cutouts/...   \n",
       "3  C:/Users/oryan/Documents/esac-project/cutouts/...   \n",
       "4  C:/Users/oryan/Documents/esac-project/cutouts/...   \n",
       "5  C:/Users/oryan/Documents/esac-project/cutouts/...   \n",
       "6  C:/Users/oryan/Documents/esac-project/cutouts/...   \n",
       "7  C:/Users/oryan/Documents/esac-project/cutouts/...   \n",
       "8  C:/Users/oryan/Documents/esac-project/cutouts/...   \n",
       "9  C:/Users/oryan/Documents/esac-project/cutouts/...   \n",
       "\n",
       "                                    interacting_pred      pred          id  \\\n",
       "0  [2.988428831100464, 3.1345763206481934, 3.6543...  0.305156  AHZ10002i0   \n",
       "1  [6.886358261108398, 9.615628242492676, 5.36460...  0.742976  AHZ10004js   \n",
       "2  [8.944631576538086, 7.091606616973877, 7.56981...  0.779521  AHZ2000a8x   \n",
       "3  [4.024980545043945, 3.4999678134918213, 3.1602...  0.486574  AHZ2000bvu   \n",
       "4  [1.575539469718933, 1.5682587623596191, 2.0141...  0.187052  AHZ2000jxz   \n",
       "5  [7.066828727722168, 5.041028022766113, 4.95499...  0.625823  AHZ2000o3z   \n",
       "6  [3.3511290550231934, 8.63340950012207, 6.64436...  0.590505  AHZ2000spf   \n",
       "7  [2.0613322257995605, 3.410909652709961, 2.9555...  0.289241  AHZ2001c18   \n",
       "8  [5.60822868347168, 5.479885101318359, 4.836846...  0.501591  AHZ2001j4s   \n",
       "9  [1.2828091382980347, 1.122755765914917, 1.1547...  0.121151  AHZ2001j55   \n",
       "\n",
       "   bin_pred  \n",
       "0         0  \n",
       "1         1  \n",
       "2         1  \n",
       "3         0  \n",
       "4         0  \n",
       "5         1  \n",
       "6         1  \n",
       "7         0  \n",
       "8         1  \n",
       "9         0  "
      ]
     },
     "execution_count": 80,
     "metadata": {},
     "output_type": "execute_result"
    }
   ],
   "source": [
    "pred_binary"
   ]
  },
  {
   "cell_type": "code",
   "execution_count": 81,
   "metadata": {},
   "outputs": [],
   "source": [
    "answers = (\n",
    "    pd.read_csv(r'C:\\Users\\oryan\\Documents\\esac-project\\cutouts\\hubble-training-100-all\\hubble-thumb-manifest-checked.csv',index_col=0)\n",
    "    .drop(columns=['RA','Dec'])\n",
    "    .reset_index()\n",
    "    .rename(columns={'index':'id'})\n",
    ")"
   ]
  },
  {
   "cell_type": "code",
   "execution_count": 82,
   "metadata": {},
   "outputs": [],
   "source": [
    "incorrect = pred_binary.merge(answers,on='id',how='left').query('bin_pred != interacting')"
   ]
  },
  {
   "cell_type": "code",
   "execution_count": 83,
   "metadata": {},
   "outputs": [
    {
     "data": {
      "text/html": [
       "<div>\n",
       "<style scoped>\n",
       "    .dataframe tbody tr th:only-of-type {\n",
       "        vertical-align: middle;\n",
       "    }\n",
       "\n",
       "    .dataframe tbody tr th {\n",
       "        vertical-align: top;\n",
       "    }\n",
       "\n",
       "    .dataframe thead th {\n",
       "        text-align: right;\n",
       "    }\n",
       "</style>\n",
       "<table border=\"1\" class=\"dataframe\">\n",
       "  <thead>\n",
       "    <tr style=\"text-align: right;\">\n",
       "      <th></th>\n",
       "      <th>id_str</th>\n",
       "      <th>interacting_pred</th>\n",
       "      <th>pred</th>\n",
       "      <th>id</th>\n",
       "      <th>bin_pred</th>\n",
       "      <th>thumbnail_path</th>\n",
       "      <th>interacting</th>\n",
       "    </tr>\n",
       "  </thead>\n",
       "  <tbody>\n",
       "    <tr>\n",
       "      <th>2</th>\n",
       "      <td>C:/Users/oryan/Documents/esac-project/cutouts/...</td>\n",
       "      <td>[8.944631576538086, 7.091606616973877, 7.56981...</td>\n",
       "      <td>0.779521</td>\n",
       "      <td>AHZ2000a8x</td>\n",
       "      <td>1</td>\n",
       "      <td>/mmfs1/scratch/hpc/60/oryan/fromMAST/thumbnail...</td>\n",
       "      <td>0</td>\n",
       "    </tr>\n",
       "    <tr>\n",
       "      <th>4</th>\n",
       "      <td>C:/Users/oryan/Documents/esac-project/cutouts/...</td>\n",
       "      <td>[1.575539469718933, 1.5682587623596191, 2.0141...</td>\n",
       "      <td>0.187052</td>\n",
       "      <td>AHZ2000jxz</td>\n",
       "      <td>0</td>\n",
       "      <td>/mmfs1/scratch/hpc/60/oryan/fromMAST/thumbnail...</td>\n",
       "      <td>1</td>\n",
       "    </tr>\n",
       "    <tr>\n",
       "      <th>8</th>\n",
       "      <td>C:/Users/oryan/Documents/esac-project/cutouts/...</td>\n",
       "      <td>[5.60822868347168, 5.479885101318359, 4.836846...</td>\n",
       "      <td>0.501591</td>\n",
       "      <td>AHZ2001j4s</td>\n",
       "      <td>1</td>\n",
       "      <td>/mmfs1/scratch/hpc/60/oryan/fromMAST/thumbnail...</td>\n",
       "      <td>0</td>\n",
       "    </tr>\n",
       "  </tbody>\n",
       "</table>\n",
       "</div>"
      ],
      "text/plain": [
       "                                              id_str  \\\n",
       "2  C:/Users/oryan/Documents/esac-project/cutouts/...   \n",
       "4  C:/Users/oryan/Documents/esac-project/cutouts/...   \n",
       "8  C:/Users/oryan/Documents/esac-project/cutouts/...   \n",
       "\n",
       "                                    interacting_pred      pred          id  \\\n",
       "2  [8.944631576538086, 7.091606616973877, 7.56981...  0.779521  AHZ2000a8x   \n",
       "4  [1.575539469718933, 1.5682587623596191, 2.0141...  0.187052  AHZ2000jxz   \n",
       "8  [5.60822868347168, 5.479885101318359, 4.836846...  0.501591  AHZ2001j4s   \n",
       "\n",
       "   bin_pred                                     thumbnail_path  interacting  \n",
       "2         1  /mmfs1/scratch/hpc/60/oryan/fromMAST/thumbnail...            0  \n",
       "4         0  /mmfs1/scratch/hpc/60/oryan/fromMAST/thumbnail...            1  \n",
       "8         1  /mmfs1/scratch/hpc/60/oryan/fromMAST/thumbnail...            0  "
      ]
     },
     "execution_count": 83,
     "metadata": {},
     "output_type": "execute_result"
    }
   ],
   "source": [
    "incorrect"
   ]
  },
  {
   "cell_type": "code",
   "execution_count": 85,
   "metadata": {},
   "outputs": [
    {
     "data": {
      "image/png": "[encoded data removed]",
      "text/plain": [
       "<PIL.PngImagePlugin.PngImageFile image mode=L size=300x300 at 0x1A22339FBC8>"
      ]
     },
     "execution_count": 85,
     "metadata": {},
     "output_type": "execute_result"
    }
   ],
   "source": [
    "Image.open(incorrect.id_str.iloc[1])"
   ]
  },
  {
   "cell_type": "code",
   "execution_count": null,
   "metadata": {},
   "outputs": [],
   "source": []
  }
 ],
 "metadata": {
  "kernelspec": {
   "display_name": "Python 3",
   "language": "python",
   "name": "python3"
  },
  "language_info": {
   "codemirror_mode": {
    "name": "ipython",
    "version": 3
   },
   "file_extension": ".py",
   "mimetype": "text/x-python",
   "name": "python",
   "nbconvert_exporter": "python",
   "pygments_lexer": "ipython3",
   "version": "3.7.4"
  }
 },
 "nbformat": 4,
 "nbformat_minor": 4
}
