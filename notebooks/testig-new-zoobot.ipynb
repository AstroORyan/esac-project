{
 "cells": [
  {
   "cell_type": "markdown",
   "metadata": {},
   "source": [
    "## Zoobot Test\n",
    "Since downloading new code, have been having issues with running Zoobot..\n",
    "\n",
    "Will use this Notebook to at least get to training, and get that running. "
   ]
  },
  {
   "cell_type": "code",
   "execution_count": 1,
   "metadata": {},
   "outputs": [],
   "source": [
    "import os\n",
    "import glob\n",
    "import random\n",
    "import shutil\n",
    "import pandas as pd\n",
    "from PIL import Image\n",
    "\n",
    "import tensorflow as tf\n",
    "import numpy as np\n",
    "from tensorflow.keras import layers, regularizers\n",
    "import pandas as pd\n",
    "from sklearn.model_selection import train_test_split\n",
    "\n",
    "from zoobot.shared import schemas, label_metadata\n",
    "from zoobot.tensorflow.data_utils import image_datasets\n",
    "from zoobot.tensorflow.estimators import preprocess, define_model, alexnet_baseline, small_cnn_baseline\n",
    "from zoobot.tensorflow.predictions import predict_on_tfrecords, predict_on_dataset\n",
    "from zoobot.tensorflow.training import training_config\n",
    "from zoobot.tensorflow.transfer_learning import utils\n",
    "from zoobot.tensorflow.estimators import custom_layers"
   ]
  },
  {
   "cell_type": "markdown",
   "metadata": {},
   "source": [
    "## Importing Manifest + Updating"
   ]
  },
  {
   "cell_type": "code",
   "execution_count": 2,
   "metadata": {},
   "outputs": [],
   "source": [
    "folder = 'C:/Users/oryan/Documents/esac-project'"
   ]
  },
  {
   "cell_type": "code",
   "execution_count": 3,
   "metadata": {},
   "outputs": [],
   "source": [
    "manifest = pd.read_csv(f'{folder}/cutouts/hubble-training-100-all/hubble-thumb-manifest-checked.csv',index_col = 0).reset_index().rename(columns={'index':'id'})"
   ]
  },
  {
   "cell_type": "code",
   "execution_count": 4,
   "metadata": {},
   "outputs": [],
   "source": [
    "manifest_local = (\n",
    "    manifest\n",
    "    .assign(thumbnail_local = manifest.thumbnail_path.apply(lambda x: f'C:/Users/oryan/Documents/esac-project/cutouts/hubble-training-100-all/{os.path.basename(x)}'))\n",
    "    .drop(columns='thumbnail_path')\n",
    ")"
   ]
  },
  {
   "cell_type": "code",
   "execution_count": 5,
   "metadata": {},
   "outputs": [
    {
     "data": {
      "text/html": [
       "<div>\n",
       "<style scoped>\n",
       "    .dataframe tbody tr th:only-of-type {\n",
       "        vertical-align: middle;\n",
       "    }\n",
       "\n",
       "    .dataframe tbody tr th {\n",
       "        vertical-align: top;\n",
       "    }\n",
       "\n",
       "    .dataframe thead th {\n",
       "        text-align: right;\n",
       "    }\n",
       "</style>\n",
       "<table border=\"1\" class=\"dataframe\">\n",
       "  <thead>\n",
       "    <tr style=\"text-align: right;\">\n",
       "      <th></th>\n",
       "      <th>id</th>\n",
       "      <th>RA</th>\n",
       "      <th>Dec</th>\n",
       "      <th>interacting</th>\n",
       "      <th>thumbnail_local</th>\n",
       "    </tr>\n",
       "  </thead>\n",
       "  <tbody>\n",
       "    <tr>\n",
       "      <th>0</th>\n",
       "      <td>AHZ10004js</td>\n",
       "      <td>215.001397</td>\n",
       "      <td>52.955399</td>\n",
       "      <td>1</td>\n",
       "      <td>C:/Users/oryan/Documents/esac-project/cutouts/...</td>\n",
       "    </tr>\n",
       "    <tr>\n",
       "      <th>1</th>\n",
       "      <td>AHZ20000ak</td>\n",
       "      <td>150.387822</td>\n",
       "      <td>1.594000</td>\n",
       "      <td>1</td>\n",
       "      <td>C:/Users/oryan/Documents/esac-project/cutouts/...</td>\n",
       "    </tr>\n",
       "    <tr>\n",
       "      <th>2</th>\n",
       "      <td>AHZ20000f7</td>\n",
       "      <td>150.199560</td>\n",
       "      <td>1.602201</td>\n",
       "      <td>1</td>\n",
       "      <td>C:/Users/oryan/Documents/esac-project/cutouts/...</td>\n",
       "    </tr>\n",
       "    <tr>\n",
       "      <th>3</th>\n",
       "      <td>AHZ20000gx</td>\n",
       "      <td>150.178616</td>\n",
       "      <td>1.585255</td>\n",
       "      <td>1</td>\n",
       "      <td>C:/Users/oryan/Documents/esac-project/cutouts/...</td>\n",
       "    </tr>\n",
       "    <tr>\n",
       "      <th>4</th>\n",
       "      <td>AHZ20000hj</td>\n",
       "      <td>150.196404</td>\n",
       "      <td>1.625565</td>\n",
       "      <td>1</td>\n",
       "      <td>C:/Users/oryan/Documents/esac-project/cutouts/...</td>\n",
       "    </tr>\n",
       "    <tr>\n",
       "      <th>...</th>\n",
       "      <td>...</td>\n",
       "      <td>...</td>\n",
       "      <td>...</td>\n",
       "      <td>...</td>\n",
       "      <td>...</td>\n",
       "    </tr>\n",
       "    <tr>\n",
       "      <th>548</th>\n",
       "      <td>AHZ2000xli</td>\n",
       "      <td>150.410260</td>\n",
       "      <td>2.366218</td>\n",
       "      <td>0</td>\n",
       "      <td>C:/Users/oryan/Documents/esac-project/cutouts/...</td>\n",
       "    </tr>\n",
       "    <tr>\n",
       "      <th>549</th>\n",
       "      <td>AHZ2001l95</td>\n",
       "      <td>150.340542</td>\n",
       "      <td>2.819201</td>\n",
       "      <td>0</td>\n",
       "      <td>C:/Users/oryan/Documents/esac-project/cutouts/...</td>\n",
       "    </tr>\n",
       "    <tr>\n",
       "      <th>550</th>\n",
       "      <td>AHZ2000a8x</td>\n",
       "      <td>150.394694</td>\n",
       "      <td>1.800582</td>\n",
       "      <td>0</td>\n",
       "      <td>C:/Users/oryan/Documents/esac-project/cutouts/...</td>\n",
       "    </tr>\n",
       "    <tr>\n",
       "      <th>551</th>\n",
       "      <td>AHZ2000e76</td>\n",
       "      <td>149.587072</td>\n",
       "      <td>1.919982</td>\n",
       "      <td>0</td>\n",
       "      <td>C:/Users/oryan/Documents/esac-project/cutouts/...</td>\n",
       "    </tr>\n",
       "    <tr>\n",
       "      <th>552</th>\n",
       "      <td>AHZ20016ia</td>\n",
       "      <td>150.298762</td>\n",
       "      <td>2.597388</td>\n",
       "      <td>0</td>\n",
       "      <td>C:/Users/oryan/Documents/esac-project/cutouts/...</td>\n",
       "    </tr>\n",
       "  </tbody>\n",
       "</table>\n",
       "<p>553 rows × 5 columns</p>\n",
       "</div>"
      ],
      "text/plain": [
       "             id          RA        Dec  interacting  \\\n",
       "0    AHZ10004js  215.001397  52.955399            1   \n",
       "1    AHZ20000ak  150.387822   1.594000            1   \n",
       "2    AHZ20000f7  150.199560   1.602201            1   \n",
       "3    AHZ20000gx  150.178616   1.585255            1   \n",
       "4    AHZ20000hj  150.196404   1.625565            1   \n",
       "..          ...         ...        ...          ...   \n",
       "548  AHZ2000xli  150.410260   2.366218            0   \n",
       "549  AHZ2001l95  150.340542   2.819201            0   \n",
       "550  AHZ2000a8x  150.394694   1.800582            0   \n",
       "551  AHZ2000e76  149.587072   1.919982            0   \n",
       "552  AHZ20016ia  150.298762   2.597388            0   \n",
       "\n",
       "                                       thumbnail_local  \n",
       "0    C:/Users/oryan/Documents/esac-project/cutouts/...  \n",
       "1    C:/Users/oryan/Documents/esac-project/cutouts/...  \n",
       "2    C:/Users/oryan/Documents/esac-project/cutouts/...  \n",
       "3    C:/Users/oryan/Documents/esac-project/cutouts/...  \n",
       "4    C:/Users/oryan/Documents/esac-project/cutouts/...  \n",
       "..                                                 ...  \n",
       "548  C:/Users/oryan/Documents/esac-project/cutouts/...  \n",
       "549  C:/Users/oryan/Documents/esac-project/cutouts/...  \n",
       "550  C:/Users/oryan/Documents/esac-project/cutouts/...  \n",
       "551  C:/Users/oryan/Documents/esac-project/cutouts/...  \n",
       "552  C:/Users/oryan/Documents/esac-project/cutouts/...  \n",
       "\n",
       "[553 rows x 5 columns]"
      ]
     },
     "execution_count": 5,
     "metadata": {},
     "output_type": "execute_result"
    }
   ],
   "source": [
    "manifest_local"
   ]
  },
  {
   "cell_type": "code",
   "execution_count": 6,
   "metadata": {},
   "outputs": [],
   "source": [
    "requested_img_size = 300\n",
    "batch_size = 3\n",
    "file_format = 'png'"
   ]
  },
  {
   "cell_type": "code",
   "execution_count": 7,
   "metadata": {},
   "outputs": [],
   "source": [
    "paths = list(manifest_local['thumbnail_local'])\n",
    "labels = list(manifest_local['interacting'])"
   ]
  },
  {
   "cell_type": "code",
   "execution_count": 8,
   "metadata": {},
   "outputs": [],
   "source": [
    "paths_train, paths_val, labels_train, labels_val = train_test_split(paths, labels, test_size = 0.2, random_state = 42)\n",
    "assert set(paths_train).intersection(set(paths_val)) == set()"
   ]
  },
  {
   "cell_type": "code",
   "execution_count": 9,
   "metadata": {},
   "outputs": [
    {
     "name": "stdout",
     "output_type": "stream",
     "text": [
      "[{'label': <tf.Tensor: shape=(3,), dtype=int32, numpy=array([1, 0, 0])>}]\n",
      "[{'label': <tf.Tensor: shape=(3,), dtype=int32, numpy=array([0, 1, 0])>}]\n"
     ]
    }
   ],
   "source": [
    "raw_train_dataset = image_datasets.get_image_dataset(\n",
    "    paths_train,\n",
    "    file_format = file_format,\n",
    "    requested_img_size = requested_img_size,\n",
    "    batch_size = batch_size,\n",
    "    labels = labels_train\n",
    ")\n",
    "raw_val_dataset = image_datasets.get_image_dataset(\n",
    "    paths_val,\n",
    "    file_format = file_format,\n",
    "    requested_img_size = requested_img_size,\n",
    "    batch_size = batch_size,\n",
    "    labels = labels_val\n",
    ")"
   ]
  },
  {
   "cell_type": "code",
   "execution_count": 10,
   "metadata": {},
   "outputs": [],
   "source": [
    "preprocess_config = preprocess.PreprocessingConfig(\n",
    "    label_cols = ['label'],\n",
    "    input_size = requested_img_size, \n",
    "    normalise_from_uint8=True,\n",
    "    input_channels = 1,\n",
    "    make_greyscale=False,\n",
    "    permute_channels=False\n",
    ")"
   ]
  },
  {
   "cell_type": "code",
   "execution_count": 11,
   "metadata": {},
   "outputs": [],
   "source": [
    "train_dataset = preprocess.preprocess_dataset(raw_train_dataset, preprocess_config)\n",
    "val_dataset = preprocess.preprocess_dataset(raw_val_dataset,preprocess_config)"
   ]
  },
  {
   "cell_type": "code",
   "execution_count": 12,
   "metadata": {},
   "outputs": [],
   "source": [
    "pretrained_checkpoint = 'C:/Users/oryan/Documents/zoobot_new/pretrained-models/replicated_train_only_greyscale_tf/replicated_train_only_greyscale_tf/checkpoint'"
   ]
  },
  {
   "cell_type": "code",
   "execution_count": 13,
   "metadata": {},
   "outputs": [],
   "source": [
    "crop_size = int(requested_img_size * 0.75)\n",
    "resize_size = 224"
   ]
  },
  {
   "cell_type": "code",
   "execution_count": 14,
   "metadata": {},
   "outputs": [],
   "source": [
    "log_dir = 'C:/Users/oryan/Documents/zoobot_new/model-logs/2022-04-25/'"
   ]
  },
  {
   "cell_type": "code",
   "execution_count": 15,
   "metadata": {},
   "outputs": [
    {
     "name": "stderr",
     "output_type": "stream",
     "text": [
      "WARNING:root:Crop size and final size are similar: skipping resizing and cropping directly to resize_size (ignoring crop_size)\n"
     ]
    }
   ],
   "source": [
    "base_model = define_model.load_model(\n",
    "    pretrained_checkpoint,\n",
    "    include_top = False,\n",
    "    input_size = requested_img_size,\n",
    "    crop_size = crop_size,\n",
    "    resize_size = resize_size,\n",
    "    output_dim = None,\n",
    "    expect_partial=True\n",
    ")"
   ]
  },
  {
   "cell_type": "code",
   "execution_count": 16,
   "metadata": {},
   "outputs": [],
   "source": [
    "base_model.trainable = False"
   ]
  },
  {
   "cell_type": "code",
   "execution_count": 17,
   "metadata": {},
   "outputs": [],
   "source": [
    "new_head = tf.keras.Sequential([\n",
    "        layers.InputLayer(input_shape=(7,7,1280)),\n",
    "        layers.GlobalAveragePooling2D(),\n",
    "        layers.Dropout(0.75),\n",
    "        layers.Dense(64,activation='relu'),\n",
    "        layers.Dropout(0.75),\n",
    "        layers.Dense(64,activation='relu'),\n",
    "        layers.Dropout(0.75),\n",
    "        layers.Dense(1,activation='sigmoid',name='sigmoid_output')\n",
    "    ])"
   ]
  },
  {
   "cell_type": "code",
   "execution_count": 18,
   "metadata": {},
   "outputs": [],
   "source": [
    "model = tf.keras.Sequential([\n",
    "    tf.keras.Input(shape=(requested_img_size,requested_img_size,1)),\n",
    "    base_model,\n",
    "    new_head\n",
    "])"
   ]
  },
  {
   "cell_type": "code",
   "execution_count": 19,
   "metadata": {},
   "outputs": [],
   "source": [
    "epochs = 15\n",
    "loss = tf.keras.losses.binary_crossentropy"
   ]
  },
  {
   "cell_type": "code",
   "execution_count": 20,
   "metadata": {},
   "outputs": [
    {
     "name": "stdout",
     "output_type": "stream",
     "text": [
      "Model: \"sequential_3\"\n",
      "_________________________________________________________________\n",
      " Layer (type)                Output Shape              Param #   \n",
      "=================================================================\n",
      " sequential (Sequential)     (None, 7, 7, 1280)        4048989   \n",
      "                                                                 \n",
      " sequential_2 (Sequential)   (None, 1)                 86209     \n",
      "                                                                 \n",
      "=================================================================\n",
      "Total params: 4,135,198\n",
      "Trainable params: 86,209\n",
      "Non-trainable params: 4,048,989\n",
      "_________________________________________________________________\n"
     ]
    }
   ],
   "source": [
    "model.compile(\n",
    "    loss = loss,\n",
    "    optimizer = tf.keras.optimizers.Adam(learning_rate = 0.001),\n",
    "    metrics = ['accuracy']\n",
    ")\n",
    "model.summary()"
   ]
  },
  {
   "cell_type": "code",
   "execution_count": 21,
   "metadata": {},
   "outputs": [],
   "source": [
    "train_config = training_config.TrainConfig(\n",
    "    log_dir=log_dir,\n",
    "    epochs=epochs,\n",
    "    patience=int(epochs/6)\n",
    ")"
   ]
  },
  {
   "cell_type": "code",
   "execution_count": null,
   "metadata": {},
   "outputs": [
    {
     "name": "stdout",
     "output_type": "stream",
     "text": [
      "Epoch 1/15\n",
      "\n",
      " Ending step:  0.0\n",
      "148/148 - 23s - loss: 1.3837 - accuracy: 0.4955 - val_loss: 0.7024 - val_accuracy: 0.4955 - 23s/epoch - 155ms/step\n",
      "Epoch 2/15\n",
      "\n",
      " Ending step:  3.0\n",
      "148/148 - 20s - loss: 0.7455 - accuracy: 0.5158 - val_loss: 0.6959 - val_accuracy: 0.5045 - 20s/epoch - 133ms/step\n",
      "Epoch 3/15\n",
      "\n",
      " Ending step:  6.0\n",
      "148/148 - 20s - loss: 1.2422 - accuracy: 0.5226 - val_loss: 0.6951 - val_accuracy: 0.4955 - 20s/epoch - 138ms/step\n",
      "Epoch 4/15\n",
      "\n",
      " Ending step:  9.0\n",
      "148/148 - 22s - loss: 0.9143 - accuracy: 0.5701 - val_loss: 0.6952 - val_accuracy: 0.4955 - 22s/epoch - 149ms/step\n",
      "Epoch 5/15\n",
      "\n",
      " Ending step:  12.0\n",
      "148/148 - 22s - loss: 1.8037 - accuracy: 0.5475 - val_loss: 0.6928 - val_accuracy: 0.5045 - 22s/epoch - 150ms/step\n",
      "Epoch 6/15\n",
      "\n",
      " Ending step:  15.0\n",
      "148/148 - 25s - loss: 0.6785 - accuracy: 0.6018 - val_loss: 0.6928 - val_accuracy: 0.5090 - 25s/epoch - 168ms/step\n",
      "Epoch 7/15\n"
     ]
    }
   ],
   "source": [
    "training_config.train_estimator(\n",
    "    model,\n",
    "    train_config,\n",
    "    train_dataset,\n",
    "    val_dataset\n",
    ")"
   ]
  },
  {
   "cell_type": "code",
   "execution_count": null,
   "metadata": {},
   "outputs": [],
   "source": []
  }
 ],
 "metadata": {
  "kernelspec": {
   "display_name": "Python 3",
   "language": "python",
   "name": "python3"
  },
  "language_info": {
   "codemirror_mode": {
    "name": "ipython",
    "version": 3
   },
   "file_extension": ".py",
   "mimetype": "text/x-python",
   "name": "python",
   "nbconvert_exporter": "python",
   "pygments_lexer": "ipython3",
   "version": "3.7.4"
  }
 },
 "nbformat": 4,
 "nbformat_minor": 4
}
