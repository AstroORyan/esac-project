{
 "cells": [
  {
   "cell_type": "code",
   "execution_count": 1,
   "metadata": {},
   "outputs": [],
   "source": [
    "import pandas as pd"
   ]
  },
  {
   "cell_type": "code",
   "execution_count": 2,
   "metadata": {},
   "outputs": [],
   "source": [
    "folder = 'C:/Users/oryan/Documents/esac-project'"
   ]
  },
  {
   "cell_type": "code",
   "execution_count": 3,
   "metadata": {},
   "outputs": [],
   "source": [
    "df = pd.read_csv(f'{folder}/cutouts/hubble-training-100-valid/hubble-valid-manifest.csv', index_col = 0)"
   ]
  },
  {
   "cell_type": "code",
   "execution_count": 4,
   "metadata": {},
   "outputs": [],
   "source": [
    "df_known = pd.read_csv(r'C:\\Users\\oryan\\Documents\\esac-project\\manifests\\validation_set_manifest.csv',index_col = 0).set_index('zooniverse_id')"
   ]
  },
  {
   "cell_type": "code",
   "execution_count": 5,
   "metadata": {},
   "outputs": [
    {
     "data": {
      "text/html": [
       "<div>\n",
       "<style scoped>\n",
       "    .dataframe tbody tr th:only-of-type {\n",
       "        vertical-align: middle;\n",
       "    }\n",
       "\n",
       "    .dataframe tbody tr th {\n",
       "        vertical-align: top;\n",
       "    }\n",
       "\n",
       "    .dataframe thead th {\n",
       "        text-align: right;\n",
       "    }\n",
       "</style>\n",
       "<table border=\"1\" class=\"dataframe\">\n",
       "  <thead>\n",
       "    <tr style=\"text-align: right;\">\n",
       "      <th></th>\n",
       "      <th>RA</th>\n",
       "      <th>DEC</th>\n",
       "      <th>interaction</th>\n",
       "    </tr>\n",
       "    <tr>\n",
       "      <th>zooniverse_id</th>\n",
       "      <th></th>\n",
       "      <th></th>\n",
       "      <th></th>\n",
       "    </tr>\n",
       "  </thead>\n",
       "  <tbody>\n",
       "    <tr>\n",
       "      <th>AHZ20014y0</th>\n",
       "      <td>150.617792</td>\n",
       "      <td>2.533808</td>\n",
       "      <td>0</td>\n",
       "    </tr>\n",
       "    <tr>\n",
       "      <th>AHZ400066w</th>\n",
       "      <td>52.932461</td>\n",
       "      <td>-27.630058</td>\n",
       "      <td>0</td>\n",
       "    </tr>\n",
       "    <tr>\n",
       "      <th>AHZ2001nce</th>\n",
       "      <td>149.510928</td>\n",
       "      <td>2.806075</td>\n",
       "      <td>0</td>\n",
       "    </tr>\n",
       "    <tr>\n",
       "      <th>AHZ2001oop</th>\n",
       "      <td>150.661058</td>\n",
       "      <td>1.709656</td>\n",
       "      <td>0</td>\n",
       "    </tr>\n",
       "    <tr>\n",
       "      <th>AHZ20008c0</th>\n",
       "      <td>150.743709</td>\n",
       "      <td>1.866699</td>\n",
       "      <td>0</td>\n",
       "    </tr>\n",
       "    <tr>\n",
       "      <th>...</th>\n",
       "      <td>...</td>\n",
       "      <td>...</td>\n",
       "      <td>...</td>\n",
       "    </tr>\n",
       "    <tr>\n",
       "      <th>AHZ2001tga</th>\n",
       "      <td>150.217657</td>\n",
       "      <td>2.333847</td>\n",
       "      <td>1</td>\n",
       "    </tr>\n",
       "    <tr>\n",
       "      <th>AHZ2001tgg</th>\n",
       "      <td>149.945407</td>\n",
       "      <td>2.461494</td>\n",
       "      <td>1</td>\n",
       "    </tr>\n",
       "    <tr>\n",
       "      <th>AHZ2001tjt</th>\n",
       "      <td>150.085100</td>\n",
       "      <td>2.527799</td>\n",
       "      <td>1</td>\n",
       "    </tr>\n",
       "    <tr>\n",
       "      <th>AHZ40001wa</th>\n",
       "      <td>53.070121</td>\n",
       "      <td>-27.999700</td>\n",
       "      <td>1</td>\n",
       "    </tr>\n",
       "    <tr>\n",
       "      <th>AHZ40008m5</th>\n",
       "      <td>52.999558</td>\n",
       "      <td>-27.908689</td>\n",
       "      <td>1</td>\n",
       "    </tr>\n",
       "  </tbody>\n",
       "</table>\n",
       "<p>416 rows × 3 columns</p>\n",
       "</div>"
      ],
      "text/plain": [
       "                       RA        DEC  interaction\n",
       "zooniverse_id                                    \n",
       "AHZ20014y0     150.617792   2.533808            0\n",
       "AHZ400066w      52.932461 -27.630058            0\n",
       "AHZ2001nce     149.510928   2.806075            0\n",
       "AHZ2001oop     150.661058   1.709656            0\n",
       "AHZ20008c0     150.743709   1.866699            0\n",
       "...                   ...        ...          ...\n",
       "AHZ2001tga     150.217657   2.333847            1\n",
       "AHZ2001tgg     149.945407   2.461494            1\n",
       "AHZ2001tjt     150.085100   2.527799            1\n",
       "AHZ40001wa      53.070121 -27.999700            1\n",
       "AHZ40008m5      52.999558 -27.908689            1\n",
       "\n",
       "[416 rows x 3 columns]"
      ]
     },
     "execution_count": 5,
     "metadata": {},
     "output_type": "execute_result"
    }
   ],
   "source": [
    "df_known"
   ]
  },
  {
   "cell_type": "code",
   "execution_count": 8,
   "metadata": {},
   "outputs": [
    {
     "data": {
      "text/html": [
       "<div>\n",
       "<style scoped>\n",
       "    .dataframe tbody tr th:only-of-type {\n",
       "        vertical-align: middle;\n",
       "    }\n",
       "\n",
       "    .dataframe tbody tr th {\n",
       "        vertical-align: top;\n",
       "    }\n",
       "\n",
       "    .dataframe thead th {\n",
       "        text-align: right;\n",
       "    }\n",
       "</style>\n",
       "<table border=\"1\" class=\"dataframe\">\n",
       "  <thead>\n",
       "    <tr style=\"text-align: right;\">\n",
       "      <th></th>\n",
       "      <th>thumbnail_path</th>\n",
       "    </tr>\n",
       "  </thead>\n",
       "  <tbody>\n",
       "    <tr>\n",
       "      <th>AHZ20014y0</th>\n",
       "      <td>/mmfs1/scratch/hpc/60/oryan/fromMAST/thumbnail...</td>\n",
       "    </tr>\n",
       "    <tr>\n",
       "      <th>AHZ2001nce</th>\n",
       "      <td>/mmfs1/scratch/hpc/60/oryan/fromMAST/thumbnail...</td>\n",
       "    </tr>\n",
       "    <tr>\n",
       "      <th>AHZ20008c0</th>\n",
       "      <td>/mmfs1/scratch/hpc/60/oryan/fromMAST/thumbnail...</td>\n",
       "    </tr>\n",
       "    <tr>\n",
       "      <th>AHZ20011u6</th>\n",
       "      <td>/mmfs1/scratch/hpc/60/oryan/fromMAST/thumbnail...</td>\n",
       "    </tr>\n",
       "    <tr>\n",
       "      <th>AHZ2000nx8</th>\n",
       "      <td>/mmfs1/scratch/hpc/60/oryan/fromMAST/thumbnail...</td>\n",
       "    </tr>\n",
       "    <tr>\n",
       "      <th>...</th>\n",
       "      <td>...</td>\n",
       "    </tr>\n",
       "    <tr>\n",
       "      <th>AHZ2001tg7</th>\n",
       "      <td>/mmfs1/scratch/hpc/60/oryan/fromMAST/thumbnail...</td>\n",
       "    </tr>\n",
       "    <tr>\n",
       "      <th>AHZ2001tga</th>\n",
       "      <td>/mmfs1/scratch/hpc/60/oryan/fromMAST/thumbnail...</td>\n",
       "    </tr>\n",
       "    <tr>\n",
       "      <th>AHZ2001tgg</th>\n",
       "      <td>/mmfs1/scratch/hpc/60/oryan/fromMAST/thumbnail...</td>\n",
       "    </tr>\n",
       "    <tr>\n",
       "      <th>AHZ2001tjt</th>\n",
       "      <td>/mmfs1/scratch/hpc/60/oryan/fromMAST/thumbnail...</td>\n",
       "    </tr>\n",
       "    <tr>\n",
       "      <th>AHZ40008m5</th>\n",
       "      <td>/mmfs1/scratch/hpc/60/oryan/fromMAST/thumbnail...</td>\n",
       "    </tr>\n",
       "  </tbody>\n",
       "</table>\n",
       "<p>397 rows × 1 columns</p>\n",
       "</div>"
      ],
      "text/plain": [
       "                                               thumbnail_path\n",
       "AHZ20014y0  /mmfs1/scratch/hpc/60/oryan/fromMAST/thumbnail...\n",
       "AHZ2001nce  /mmfs1/scratch/hpc/60/oryan/fromMAST/thumbnail...\n",
       "AHZ20008c0  /mmfs1/scratch/hpc/60/oryan/fromMAST/thumbnail...\n",
       "AHZ20011u6  /mmfs1/scratch/hpc/60/oryan/fromMAST/thumbnail...\n",
       "AHZ2000nx8  /mmfs1/scratch/hpc/60/oryan/fromMAST/thumbnail...\n",
       "...                                                       ...\n",
       "AHZ2001tg7  /mmfs1/scratch/hpc/60/oryan/fromMAST/thumbnail...\n",
       "AHZ2001tga  /mmfs1/scratch/hpc/60/oryan/fromMAST/thumbnail...\n",
       "AHZ2001tgg  /mmfs1/scratch/hpc/60/oryan/fromMAST/thumbnail...\n",
       "AHZ2001tjt  /mmfs1/scratch/hpc/60/oryan/fromMAST/thumbnail...\n",
       "AHZ40008m5  /mmfs1/scratch/hpc/60/oryan/fromMAST/thumbnail...\n",
       "\n",
       "[397 rows x 1 columns]"
      ]
     },
     "execution_count": 8,
     "metadata": {},
     "output_type": "execute_result"
    }
   ],
   "source": [
    "df"
   ]
  },
  {
   "cell_type": "code",
   "execution_count": 9,
   "metadata": {},
   "outputs": [],
   "source": [
    "df_merge = (\n",
    "    df\n",
    "    .merge(df_known, left_index=True,right_index=True,how='left')\n",
    ")"
   ]
  },
  {
   "cell_type": "code",
   "execution_count": 10,
   "metadata": {},
   "outputs": [
    {
     "data": {
      "text/html": [
       "<div>\n",
       "<style scoped>\n",
       "    .dataframe tbody tr th:only-of-type {\n",
       "        vertical-align: middle;\n",
       "    }\n",
       "\n",
       "    .dataframe tbody tr th {\n",
       "        vertical-align: top;\n",
       "    }\n",
       "\n",
       "    .dataframe thead th {\n",
       "        text-align: right;\n",
       "    }\n",
       "</style>\n",
       "<table border=\"1\" class=\"dataframe\">\n",
       "  <thead>\n",
       "    <tr style=\"text-align: right;\">\n",
       "      <th></th>\n",
       "      <th>thumbnail_path</th>\n",
       "      <th>RA</th>\n",
       "      <th>DEC</th>\n",
       "      <th>interaction</th>\n",
       "    </tr>\n",
       "  </thead>\n",
       "  <tbody>\n",
       "    <tr>\n",
       "      <th>AHZ20014y0</th>\n",
       "      <td>/mmfs1/scratch/hpc/60/oryan/fromMAST/thumbnail...</td>\n",
       "      <td>150.617792</td>\n",
       "      <td>2.533808</td>\n",
       "      <td>0</td>\n",
       "    </tr>\n",
       "    <tr>\n",
       "      <th>AHZ2001nce</th>\n",
       "      <td>/mmfs1/scratch/hpc/60/oryan/fromMAST/thumbnail...</td>\n",
       "      <td>149.510928</td>\n",
       "      <td>2.806075</td>\n",
       "      <td>0</td>\n",
       "    </tr>\n",
       "    <tr>\n",
       "      <th>AHZ20008c0</th>\n",
       "      <td>/mmfs1/scratch/hpc/60/oryan/fromMAST/thumbnail...</td>\n",
       "      <td>150.743709</td>\n",
       "      <td>1.866699</td>\n",
       "      <td>0</td>\n",
       "    </tr>\n",
       "    <tr>\n",
       "      <th>AHZ20011u6</th>\n",
       "      <td>/mmfs1/scratch/hpc/60/oryan/fromMAST/thumbnail...</td>\n",
       "      <td>149.761110</td>\n",
       "      <td>2.359779</td>\n",
       "      <td>0</td>\n",
       "    </tr>\n",
       "    <tr>\n",
       "      <th>AHZ2000nx8</th>\n",
       "      <td>/mmfs1/scratch/hpc/60/oryan/fromMAST/thumbnail...</td>\n",
       "      <td>150.615593</td>\n",
       "      <td>2.165826</td>\n",
       "      <td>0</td>\n",
       "    </tr>\n",
       "    <tr>\n",
       "      <th>...</th>\n",
       "      <td>...</td>\n",
       "      <td>...</td>\n",
       "      <td>...</td>\n",
       "      <td>...</td>\n",
       "    </tr>\n",
       "    <tr>\n",
       "      <th>AHZ2001tg7</th>\n",
       "      <td>/mmfs1/scratch/hpc/60/oryan/fromMAST/thumbnail...</td>\n",
       "      <td>150.067971</td>\n",
       "      <td>2.412554</td>\n",
       "      <td>1</td>\n",
       "    </tr>\n",
       "    <tr>\n",
       "      <th>AHZ2001tga</th>\n",
       "      <td>/mmfs1/scratch/hpc/60/oryan/fromMAST/thumbnail...</td>\n",
       "      <td>150.217657</td>\n",
       "      <td>2.333847</td>\n",
       "      <td>1</td>\n",
       "    </tr>\n",
       "    <tr>\n",
       "      <th>AHZ2001tgg</th>\n",
       "      <td>/mmfs1/scratch/hpc/60/oryan/fromMAST/thumbnail...</td>\n",
       "      <td>149.945407</td>\n",
       "      <td>2.461494</td>\n",
       "      <td>1</td>\n",
       "    </tr>\n",
       "    <tr>\n",
       "      <th>AHZ2001tjt</th>\n",
       "      <td>/mmfs1/scratch/hpc/60/oryan/fromMAST/thumbnail...</td>\n",
       "      <td>150.085100</td>\n",
       "      <td>2.527799</td>\n",
       "      <td>1</td>\n",
       "    </tr>\n",
       "    <tr>\n",
       "      <th>AHZ40008m5</th>\n",
       "      <td>/mmfs1/scratch/hpc/60/oryan/fromMAST/thumbnail...</td>\n",
       "      <td>52.999558</td>\n",
       "      <td>-27.908689</td>\n",
       "      <td>1</td>\n",
       "    </tr>\n",
       "  </tbody>\n",
       "</table>\n",
       "<p>397 rows × 4 columns</p>\n",
       "</div>"
      ],
      "text/plain": [
       "                                               thumbnail_path          RA  \\\n",
       "AHZ20014y0  /mmfs1/scratch/hpc/60/oryan/fromMAST/thumbnail...  150.617792   \n",
       "AHZ2001nce  /mmfs1/scratch/hpc/60/oryan/fromMAST/thumbnail...  149.510928   \n",
       "AHZ20008c0  /mmfs1/scratch/hpc/60/oryan/fromMAST/thumbnail...  150.743709   \n",
       "AHZ20011u6  /mmfs1/scratch/hpc/60/oryan/fromMAST/thumbnail...  149.761110   \n",
       "AHZ2000nx8  /mmfs1/scratch/hpc/60/oryan/fromMAST/thumbnail...  150.615593   \n",
       "...                                                       ...         ...   \n",
       "AHZ2001tg7  /mmfs1/scratch/hpc/60/oryan/fromMAST/thumbnail...  150.067971   \n",
       "AHZ2001tga  /mmfs1/scratch/hpc/60/oryan/fromMAST/thumbnail...  150.217657   \n",
       "AHZ2001tgg  /mmfs1/scratch/hpc/60/oryan/fromMAST/thumbnail...  149.945407   \n",
       "AHZ2001tjt  /mmfs1/scratch/hpc/60/oryan/fromMAST/thumbnail...  150.085100   \n",
       "AHZ40008m5  /mmfs1/scratch/hpc/60/oryan/fromMAST/thumbnail...   52.999558   \n",
       "\n",
       "                  DEC  interaction  \n",
       "AHZ20014y0   2.533808            0  \n",
       "AHZ2001nce   2.806075            0  \n",
       "AHZ20008c0   1.866699            0  \n",
       "AHZ20011u6   2.359779            0  \n",
       "AHZ2000nx8   2.165826            0  \n",
       "...               ...          ...  \n",
       "AHZ2001tg7   2.412554            1  \n",
       "AHZ2001tga   2.333847            1  \n",
       "AHZ2001tgg   2.461494            1  \n",
       "AHZ2001tjt   2.527799            1  \n",
       "AHZ40008m5 -27.908689            1  \n",
       "\n",
       "[397 rows x 4 columns]"
      ]
     },
     "execution_count": 10,
     "metadata": {},
     "output_type": "execute_result"
    }
   ],
   "source": [
    "df_merge"
   ]
  },
  {
   "cell_type": "code",
   "execution_count": 11,
   "metadata": {},
   "outputs": [],
   "source": [
    "df_export = df_merge.assign(update = 0)"
   ]
  },
  {
   "cell_type": "code",
   "execution_count": 12,
   "metadata": {},
   "outputs": [],
   "source": [
    "df_export.to_csv(f'{folder}/cutouts/hubble-training-100-valid/hubble-valid-manifest-tmp.csv')"
   ]
  },
  {
   "cell_type": "markdown",
   "metadata": {},
   "source": [
    "Key:\n",
    "\n",
    "    0 - Keep the same.\n",
    "    1 - Invert classification.\n",
    "    2 - Remove (Bad Cut)"
   ]
  },
  {
   "cell_type": "markdown",
   "metadata": {},
   "source": [
    "## Updating CSV"
   ]
  },
  {
   "cell_type": "code",
   "execution_count": 13,
   "metadata": {},
   "outputs": [],
   "source": [
    "df_updated = (\n",
    "    pd.read_csv(f'{folder}/cutouts/hubble-training-100-valid/hubble-valid-manifest-tmp.csv',index_col=0)\n",
    "    .rename(columns={'update':'to_update'})\n",
    ")"
   ]
  },
  {
   "cell_type": "code",
   "execution_count": 14,
   "metadata": {},
   "outputs": [
    {
     "data": {
      "text/plain": [
       "0    394\n",
       "2      3\n",
       "Name: to_update, dtype: int64"
      ]
     },
     "execution_count": 14,
     "metadata": {},
     "output_type": "execute_result"
    }
   ],
   "source": [
    "df_updated.to_update.value_counts()"
   ]
  },
  {
   "cell_type": "code",
   "execution_count": 15,
   "metadata": {},
   "outputs": [],
   "source": [
    "rem_df = df_updated.query('to_update != 2').drop(columns='to_update')"
   ]
  },
  {
   "cell_type": "code",
   "execution_count": 16,
   "metadata": {},
   "outputs": [
    {
     "data": {
      "text/html": [
       "<div>\n",
       "<style scoped>\n",
       "    .dataframe tbody tr th:only-of-type {\n",
       "        vertical-align: middle;\n",
       "    }\n",
       "\n",
       "    .dataframe tbody tr th {\n",
       "        vertical-align: top;\n",
       "    }\n",
       "\n",
       "    .dataframe thead th {\n",
       "        text-align: right;\n",
       "    }\n",
       "</style>\n",
       "<table border=\"1\" class=\"dataframe\">\n",
       "  <thead>\n",
       "    <tr style=\"text-align: right;\">\n",
       "      <th></th>\n",
       "      <th>thumbnail_path</th>\n",
       "      <th>RA</th>\n",
       "      <th>DEC</th>\n",
       "      <th>interaction</th>\n",
       "    </tr>\n",
       "  </thead>\n",
       "  <tbody>\n",
       "    <tr>\n",
       "      <th>AHZ20014y0</th>\n",
       "      <td>/mmfs1/scratch/hpc/60/oryan/fromMAST/thumbnail...</td>\n",
       "      <td>150.617792</td>\n",
       "      <td>2.533808</td>\n",
       "      <td>0</td>\n",
       "    </tr>\n",
       "    <tr>\n",
       "      <th>AHZ2001nce</th>\n",
       "      <td>/mmfs1/scratch/hpc/60/oryan/fromMAST/thumbnail...</td>\n",
       "      <td>149.510928</td>\n",
       "      <td>2.806075</td>\n",
       "      <td>0</td>\n",
       "    </tr>\n",
       "    <tr>\n",
       "      <th>AHZ20008c0</th>\n",
       "      <td>/mmfs1/scratch/hpc/60/oryan/fromMAST/thumbnail...</td>\n",
       "      <td>150.743709</td>\n",
       "      <td>1.866699</td>\n",
       "      <td>0</td>\n",
       "    </tr>\n",
       "    <tr>\n",
       "      <th>AHZ20011u6</th>\n",
       "      <td>/mmfs1/scratch/hpc/60/oryan/fromMAST/thumbnail...</td>\n",
       "      <td>149.761110</td>\n",
       "      <td>2.359779</td>\n",
       "      <td>0</td>\n",
       "    </tr>\n",
       "    <tr>\n",
       "      <th>AHZ2000nx8</th>\n",
       "      <td>/mmfs1/scratch/hpc/60/oryan/fromMAST/thumbnail...</td>\n",
       "      <td>150.615593</td>\n",
       "      <td>2.165826</td>\n",
       "      <td>0</td>\n",
       "    </tr>\n",
       "    <tr>\n",
       "      <th>...</th>\n",
       "      <td>...</td>\n",
       "      <td>...</td>\n",
       "      <td>...</td>\n",
       "      <td>...</td>\n",
       "    </tr>\n",
       "    <tr>\n",
       "      <th>AHZ2001tg7</th>\n",
       "      <td>/mmfs1/scratch/hpc/60/oryan/fromMAST/thumbnail...</td>\n",
       "      <td>150.067971</td>\n",
       "      <td>2.412554</td>\n",
       "      <td>1</td>\n",
       "    </tr>\n",
       "    <tr>\n",
       "      <th>AHZ2001tga</th>\n",
       "      <td>/mmfs1/scratch/hpc/60/oryan/fromMAST/thumbnail...</td>\n",
       "      <td>150.217657</td>\n",
       "      <td>2.333847</td>\n",
       "      <td>1</td>\n",
       "    </tr>\n",
       "    <tr>\n",
       "      <th>AHZ2001tgg</th>\n",
       "      <td>/mmfs1/scratch/hpc/60/oryan/fromMAST/thumbnail...</td>\n",
       "      <td>149.945407</td>\n",
       "      <td>2.461494</td>\n",
       "      <td>1</td>\n",
       "    </tr>\n",
       "    <tr>\n",
       "      <th>AHZ2001tjt</th>\n",
       "      <td>/mmfs1/scratch/hpc/60/oryan/fromMAST/thumbnail...</td>\n",
       "      <td>150.085100</td>\n",
       "      <td>2.527799</td>\n",
       "      <td>1</td>\n",
       "    </tr>\n",
       "    <tr>\n",
       "      <th>AHZ40008m5</th>\n",
       "      <td>/mmfs1/scratch/hpc/60/oryan/fromMAST/thumbnail...</td>\n",
       "      <td>52.999558</td>\n",
       "      <td>-27.908689</td>\n",
       "      <td>1</td>\n",
       "    </tr>\n",
       "  </tbody>\n",
       "</table>\n",
       "<p>394 rows × 4 columns</p>\n",
       "</div>"
      ],
      "text/plain": [
       "                                               thumbnail_path          RA  \\\n",
       "AHZ20014y0  /mmfs1/scratch/hpc/60/oryan/fromMAST/thumbnail...  150.617792   \n",
       "AHZ2001nce  /mmfs1/scratch/hpc/60/oryan/fromMAST/thumbnail...  149.510928   \n",
       "AHZ20008c0  /mmfs1/scratch/hpc/60/oryan/fromMAST/thumbnail...  150.743709   \n",
       "AHZ20011u6  /mmfs1/scratch/hpc/60/oryan/fromMAST/thumbnail...  149.761110   \n",
       "AHZ2000nx8  /mmfs1/scratch/hpc/60/oryan/fromMAST/thumbnail...  150.615593   \n",
       "...                                                       ...         ...   \n",
       "AHZ2001tg7  /mmfs1/scratch/hpc/60/oryan/fromMAST/thumbnail...  150.067971   \n",
       "AHZ2001tga  /mmfs1/scratch/hpc/60/oryan/fromMAST/thumbnail...  150.217657   \n",
       "AHZ2001tgg  /mmfs1/scratch/hpc/60/oryan/fromMAST/thumbnail...  149.945407   \n",
       "AHZ2001tjt  /mmfs1/scratch/hpc/60/oryan/fromMAST/thumbnail...  150.085100   \n",
       "AHZ40008m5  /mmfs1/scratch/hpc/60/oryan/fromMAST/thumbnail...   52.999558   \n",
       "\n",
       "                  DEC  interaction  \n",
       "AHZ20014y0   2.533808            0  \n",
       "AHZ2001nce   2.806075            0  \n",
       "AHZ20008c0   1.866699            0  \n",
       "AHZ20011u6   2.359779            0  \n",
       "AHZ2000nx8   2.165826            0  \n",
       "...               ...          ...  \n",
       "AHZ2001tg7   2.412554            1  \n",
       "AHZ2001tga   2.333847            1  \n",
       "AHZ2001tgg   2.461494            1  \n",
       "AHZ2001tjt   2.527799            1  \n",
       "AHZ40008m5 -27.908689            1  \n",
       "\n",
       "[394 rows x 4 columns]"
      ]
     },
     "execution_count": 16,
     "metadata": {},
     "output_type": "execute_result"
    }
   ],
   "source": [
    "rem_df"
   ]
  },
  {
   "cell_type": "code",
   "execution_count": 17,
   "metadata": {},
   "outputs": [],
   "source": [
    "rem_df.to_csv(f'{folder}/cutouts/hubble-training-100-valid/hubble-valid-manifest-checked.csv')"
   ]
  },
  {
   "cell_type": "code",
   "execution_count": null,
   "metadata": {},
   "outputs": [],
   "source": []
  },
  {
   "cell_type": "markdown",
   "metadata": {},
   "source": [
    "## Automating The Above Process"
   ]
  },
  {
   "cell_type": "code",
   "execution_count": 22,
   "metadata": {},
   "outputs": [],
   "source": [
    "from PIL import Image\n",
    "import numpy as np\n",
    "import pandas as pd\n",
    "import os"
   ]
  },
  {
   "cell_type": "code",
   "execution_count": 42,
   "metadata": {},
   "outputs": [],
   "source": [
    "im = Image.open(r'C:\\Users\\oryan\\Documents\\esac-project\\cutouts\\hubble-training-100-large\\AHZ2000a1l_300_300_3.png')"
   ]
  },
  {
   "cell_type": "code",
   "execution_count": 67,
   "metadata": {},
   "outputs": [
    {
     "data": {
      "text/plain": [
       "True"
      ]
     },
     "execution_count": 67,
     "metadata": {},
     "output_type": "execute_result"
    }
   ],
   "source": [
    "os.path.exists(r'C:\\Users\\oryan\\Documents\\esac-project\\cutouts\\hubble-training-100-large\\AHZ2000a1l_300_300_3.png')"
   ]
  },
  {
   "cell_type": "code",
   "execution_count": 47,
   "metadata": {},
   "outputs": [],
   "source": [
    "counter = 0\n",
    "for i in range(im_arr.shape[0]):\n",
    "    for j in range(im_arr.shape[1]):\n",
    "        if im_arr[i,j,0] == 255 & im_arr[i,j,0] == 255 & im_arr[i,j,0] == 255:\n",
    "            counter += 1"
   ]
  },
  {
   "cell_type": "code",
   "execution_count": 48,
   "metadata": {},
   "outputs": [
    {
     "data": {
      "text/plain": [
       "15663"
      ]
     },
     "execution_count": 48,
     "metadata": {},
     "output_type": "execute_result"
    }
   ],
   "source": [
    "counter"
   ]
  },
  {
   "cell_type": "code",
   "execution_count": 43,
   "metadata": {},
   "outputs": [],
   "source": [
    "im_arr = np.asarray(im)"
   ]
  },
  {
   "cell_type": "code",
   "execution_count": 49,
   "metadata": {},
   "outputs": [
    {
     "data": {
      "text/plain": [
       "15663.0"
      ]
     },
     "execution_count": 49,
     "metadata": {},
     "output_type": "execute_result"
    }
   ],
   "source": [
    "len(np.where(im_arr[:,:,:] == 255)[0])/3"
   ]
  },
  {
   "cell_type": "code",
   "execution_count": 132,
   "metadata": {},
   "outputs": [],
   "source": [
    "def filepath_creator(filename):\n",
    "    name = os.path.splitext(filename)[0]\n",
    "    if name[-2:] == '_3':\n",
    "        filepath = r'C:/Users/oryan/Documents/esac-project/cutouts/hubble-training-100-large/' + name + '.png'\n",
    "    else:\n",
    "        filepath =  r'C:/Users/oryan/Documents/esac-project/cutouts/hubble-training-100-large/' + name + '_3.png'\n",
    "    return filepath"
   ]
  },
  {
   "cell_type": "code",
   "execution_count": 133,
   "metadata": {},
   "outputs": [],
   "source": [
    "def image_checker(filepath):\n",
    "    if os.path.exists(filepath):\n",
    "        pass\n",
    "    else:\n",
    "        return 2\n",
    "    im = Image.open(filepath)\n",
    "    im_arr = np.asarray(im)\n",
    "    n = len(np.where(im_arr[:,:,:] == 255)[0]) / 3\n",
    "    im.close()\n",
    "    if n / (im_arr.shape[0] * im_arr.shape[1]) > 0.10:\n",
    "        return 2\n",
    "    else:\n",
    "        return 0"
   ]
  },
  {
   "cell_type": "code",
   "execution_count": 134,
   "metadata": {},
   "outputs": [],
   "source": [
    "df = pd.read_csv(r'C:/Users/oryan/Documents/esac-project/cutouts/hubble-training-100-large/large-training-manifest.csv', index_col = 0)"
   ]
  },
  {
   "cell_type": "code",
   "execution_count": 135,
   "metadata": {},
   "outputs": [
    {
     "data": {
      "text/html": [
       "<div>\n",
       "<style scoped>\n",
       "    .dataframe tbody tr th:only-of-type {\n",
       "        vertical-align: middle;\n",
       "    }\n",
       "\n",
       "    .dataframe tbody tr th {\n",
       "        vertical-align: top;\n",
       "    }\n",
       "\n",
       "    .dataframe thead th {\n",
       "        text-align: right;\n",
       "    }\n",
       "</style>\n",
       "<table border=\"1\" class=\"dataframe\">\n",
       "  <thead>\n",
       "    <tr style=\"text-align: right;\">\n",
       "      <th></th>\n",
       "      <th>thumbnail_path</th>\n",
       "    </tr>\n",
       "  </thead>\n",
       "  <tbody>\n",
       "    <tr>\n",
       "      <th>AHZ2001cnu</th>\n",
       "      <td>/mmfs1/scratch/hpc/60/oryan/thumbnails/AHZ2001...</td>\n",
       "    </tr>\n",
       "    <tr>\n",
       "      <th>AHZ200067f</th>\n",
       "      <td>/mmfs1/scratch/hpc/60/oryan/thumbnails/AHZ2000...</td>\n",
       "    </tr>\n",
       "    <tr>\n",
       "      <th>AHZ400034x</th>\n",
       "      <td>/mmfs1/scratch/hpc/60/oryan/thumbnails/AHZ4000...</td>\n",
       "    </tr>\n",
       "    <tr>\n",
       "      <th>AHZ100022b</th>\n",
       "      <td>/mmfs1/scratch/hpc/60/oryan/thumbnails/AHZ1000...</td>\n",
       "    </tr>\n",
       "    <tr>\n",
       "      <th>AHZ2001ik8</th>\n",
       "      <td>/mmfs1/scratch/hpc/60/oryan/thumbnails/AHZ2001...</td>\n",
       "    </tr>\n",
       "    <tr>\n",
       "      <th>...</th>\n",
       "      <td>...</td>\n",
       "    </tr>\n",
       "    <tr>\n",
       "      <th>AHZ2000x6a</th>\n",
       "      <td>/mmfs1/scratch/hpc/60/oryan/thumbnails/AHZ2000...</td>\n",
       "    </tr>\n",
       "    <tr>\n",
       "      <th>AHZ2000ybi</th>\n",
       "      <td>/mmfs1/scratch/hpc/60/oryan/thumbnails/AHZ2000...</td>\n",
       "    </tr>\n",
       "    <tr>\n",
       "      <th>AHZ2000vix</th>\n",
       "      <td>/mmfs1/scratch/hpc/60/oryan/thumbnails/AHZ2000...</td>\n",
       "    </tr>\n",
       "    <tr>\n",
       "      <th>AHZ2000k4m</th>\n",
       "      <td>/mmfs1/scratch/hpc/60/oryan/thumbnails/AHZ2000...</td>\n",
       "    </tr>\n",
       "    <tr>\n",
       "      <th>AHZ20000fa</th>\n",
       "      <td>/mmfs1/scratch/hpc/60/oryan/thumbnails/AHZ2000...</td>\n",
       "    </tr>\n",
       "  </tbody>\n",
       "</table>\n",
       "<p>6671 rows × 1 columns</p>\n",
       "</div>"
      ],
      "text/plain": [
       "                                               thumbnail_path\n",
       "AHZ2001cnu  /mmfs1/scratch/hpc/60/oryan/thumbnails/AHZ2001...\n",
       "AHZ200067f  /mmfs1/scratch/hpc/60/oryan/thumbnails/AHZ2000...\n",
       "AHZ400034x  /mmfs1/scratch/hpc/60/oryan/thumbnails/AHZ4000...\n",
       "AHZ100022b  /mmfs1/scratch/hpc/60/oryan/thumbnails/AHZ1000...\n",
       "AHZ2001ik8  /mmfs1/scratch/hpc/60/oryan/thumbnails/AHZ2001...\n",
       "...                                                       ...\n",
       "AHZ2000x6a  /mmfs1/scratch/hpc/60/oryan/thumbnails/AHZ2000...\n",
       "AHZ2000ybi  /mmfs1/scratch/hpc/60/oryan/thumbnails/AHZ2000...\n",
       "AHZ2000vix  /mmfs1/scratch/hpc/60/oryan/thumbnails/AHZ2000...\n",
       "AHZ2000k4m  /mmfs1/scratch/hpc/60/oryan/thumbnails/AHZ2000...\n",
       "AHZ20000fa  /mmfs1/scratch/hpc/60/oryan/thumbnails/AHZ2000...\n",
       "\n",
       "[6671 rows x 1 columns]"
      ]
     },
     "execution_count": 135,
     "metadata": {},
     "output_type": "execute_result"
    }
   ],
   "source": [
    "df"
   ]
  },
  {
   "cell_type": "code",
   "execution_count": 137,
   "metadata": {},
   "outputs": [],
   "source": [
    "df_local = df.assign(thumbnail_local = df.thumbnail_path.apply(lambda x: filepath_creator(os.path.basename(x))))"
   ]
  },
  {
   "cell_type": "code",
   "execution_count": 140,
   "metadata": {},
   "outputs": [],
   "source": [
    "df_checked = df_local.assign(to_update = df_local.thumbnail_local.apply(lambda x: image_checker(x)))"
   ]
  },
  {
   "cell_type": "code",
   "execution_count": 141,
   "metadata": {},
   "outputs": [
    {
     "data": {
      "text/plain": [
       "0    6568\n",
       "2     103\n",
       "Name: to_update, dtype: int64"
      ]
     },
     "execution_count": 141,
     "metadata": {},
     "output_type": "execute_result"
    }
   ],
   "source": [
    "df_checked.to_update.value_counts()"
   ]
  },
  {
   "cell_type": "markdown",
   "metadata": {},
   "source": [
    "## Removing Bad Cuts and Setting Manifest"
   ]
  },
  {
   "cell_type": "code",
   "execution_count": 161,
   "metadata": {},
   "outputs": [],
   "source": [
    "df_rem = (\n",
    "    df_checked\n",
    "    .query('to_update == 0')\n",
    "    .drop(columns=['to_update','thumbnail_local'])\n",
    "    .reset_index()\n",
    "    .rename(columns={'index':'zooniverse_id'})\n",
    ")"
   ]
  },
  {
   "cell_type": "code",
   "execution_count": 162,
   "metadata": {},
   "outputs": [
    {
     "data": {
      "text/html": [
       "<div>\n",
       "<style scoped>\n",
       "    .dataframe tbody tr th:only-of-type {\n",
       "        vertical-align: middle;\n",
       "    }\n",
       "\n",
       "    .dataframe tbody tr th {\n",
       "        vertical-align: top;\n",
       "    }\n",
       "\n",
       "    .dataframe thead th {\n",
       "        text-align: right;\n",
       "    }\n",
       "</style>\n",
       "<table border=\"1\" class=\"dataframe\">\n",
       "  <thead>\n",
       "    <tr style=\"text-align: right;\">\n",
       "      <th></th>\n",
       "      <th>zooniverse_id</th>\n",
       "      <th>thumbnail_path</th>\n",
       "    </tr>\n",
       "  </thead>\n",
       "  <tbody>\n",
       "    <tr>\n",
       "      <th>0</th>\n",
       "      <td>AHZ2001cnu</td>\n",
       "      <td>/mmfs1/scratch/hpc/60/oryan/thumbnails/AHZ2001...</td>\n",
       "    </tr>\n",
       "    <tr>\n",
       "      <th>1</th>\n",
       "      <td>AHZ200067f</td>\n",
       "      <td>/mmfs1/scratch/hpc/60/oryan/thumbnails/AHZ2000...</td>\n",
       "    </tr>\n",
       "    <tr>\n",
       "      <th>2</th>\n",
       "      <td>AHZ400034x</td>\n",
       "      <td>/mmfs1/scratch/hpc/60/oryan/thumbnails/AHZ4000...</td>\n",
       "    </tr>\n",
       "    <tr>\n",
       "      <th>3</th>\n",
       "      <td>AHZ100022b</td>\n",
       "      <td>/mmfs1/scratch/hpc/60/oryan/thumbnails/AHZ1000...</td>\n",
       "    </tr>\n",
       "    <tr>\n",
       "      <th>4</th>\n",
       "      <td>AHZ2001ik8</td>\n",
       "      <td>/mmfs1/scratch/hpc/60/oryan/thumbnails/AHZ2001...</td>\n",
       "    </tr>\n",
       "    <tr>\n",
       "      <th>...</th>\n",
       "      <td>...</td>\n",
       "      <td>...</td>\n",
       "    </tr>\n",
       "    <tr>\n",
       "      <th>6563</th>\n",
       "      <td>AHZ2000x6a</td>\n",
       "      <td>/mmfs1/scratch/hpc/60/oryan/thumbnails/AHZ2000...</td>\n",
       "    </tr>\n",
       "    <tr>\n",
       "      <th>6564</th>\n",
       "      <td>AHZ2000ybi</td>\n",
       "      <td>/mmfs1/scratch/hpc/60/oryan/thumbnails/AHZ2000...</td>\n",
       "    </tr>\n",
       "    <tr>\n",
       "      <th>6565</th>\n",
       "      <td>AHZ2000vix</td>\n",
       "      <td>/mmfs1/scratch/hpc/60/oryan/thumbnails/AHZ2000...</td>\n",
       "    </tr>\n",
       "    <tr>\n",
       "      <th>6566</th>\n",
       "      <td>AHZ2000k4m</td>\n",
       "      <td>/mmfs1/scratch/hpc/60/oryan/thumbnails/AHZ2000...</td>\n",
       "    </tr>\n",
       "    <tr>\n",
       "      <th>6567</th>\n",
       "      <td>AHZ20000fa</td>\n",
       "      <td>/mmfs1/scratch/hpc/60/oryan/thumbnails/AHZ2000...</td>\n",
       "    </tr>\n",
       "  </tbody>\n",
       "</table>\n",
       "<p>6568 rows × 2 columns</p>\n",
       "</div>"
      ],
      "text/plain": [
       "     zooniverse_id                                     thumbnail_path\n",
       "0       AHZ2001cnu  /mmfs1/scratch/hpc/60/oryan/thumbnails/AHZ2001...\n",
       "1       AHZ200067f  /mmfs1/scratch/hpc/60/oryan/thumbnails/AHZ2000...\n",
       "2       AHZ400034x  /mmfs1/scratch/hpc/60/oryan/thumbnails/AHZ4000...\n",
       "3       AHZ100022b  /mmfs1/scratch/hpc/60/oryan/thumbnails/AHZ1000...\n",
       "4       AHZ2001ik8  /mmfs1/scratch/hpc/60/oryan/thumbnails/AHZ2001...\n",
       "...            ...                                                ...\n",
       "6563    AHZ2000x6a  /mmfs1/scratch/hpc/60/oryan/thumbnails/AHZ2000...\n",
       "6564    AHZ2000ybi  /mmfs1/scratch/hpc/60/oryan/thumbnails/AHZ2000...\n",
       "6565    AHZ2000vix  /mmfs1/scratch/hpc/60/oryan/thumbnails/AHZ2000...\n",
       "6566    AHZ2000k4m  /mmfs1/scratch/hpc/60/oryan/thumbnails/AHZ2000...\n",
       "6567    AHZ20000fa  /mmfs1/scratch/hpc/60/oryan/thumbnails/AHZ2000...\n",
       "\n",
       "[6568 rows x 2 columns]"
      ]
     },
     "execution_count": 162,
     "metadata": {},
     "output_type": "execute_result"
    }
   ],
   "source": [
    "df_rem"
   ]
  },
  {
   "cell_type": "code",
   "execution_count": 163,
   "metadata": {},
   "outputs": [],
   "source": [
    "full_gzh_manifest = (\n",
    "    pd.read_csv('C:/Users/oryan/Documents/esac-project/manifests/large-training-set.csv', index_col = 0)\n",
    "    .drop(columns=['RA','DEC'])\n",
    ")"
   ]
  },
  {
   "cell_type": "code",
   "execution_count": 164,
   "metadata": {},
   "outputs": [
    {
     "data": {
      "text/html": [
       "<div>\n",
       "<style scoped>\n",
       "    .dataframe tbody tr th:only-of-type {\n",
       "        vertical-align: middle;\n",
       "    }\n",
       "\n",
       "    .dataframe tbody tr th {\n",
       "        vertical-align: top;\n",
       "    }\n",
       "\n",
       "    .dataframe thead th {\n",
       "        text-align: right;\n",
       "    }\n",
       "</style>\n",
       "<table border=\"1\" class=\"dataframe\">\n",
       "  <thead>\n",
       "    <tr style=\"text-align: right;\">\n",
       "      <th></th>\n",
       "      <th>zooniverse_id</th>\n",
       "      <th>interaction</th>\n",
       "    </tr>\n",
       "  </thead>\n",
       "  <tbody>\n",
       "    <tr>\n",
       "      <th>0</th>\n",
       "      <td>AHZ2001cnu</td>\n",
       "      <td>0</td>\n",
       "    </tr>\n",
       "    <tr>\n",
       "      <th>1</th>\n",
       "      <td>AHZ200067f</td>\n",
       "      <td>0</td>\n",
       "    </tr>\n",
       "    <tr>\n",
       "      <th>2</th>\n",
       "      <td>AHZ400034x</td>\n",
       "      <td>0</td>\n",
       "    </tr>\n",
       "    <tr>\n",
       "      <th>3</th>\n",
       "      <td>AHZ100022b</td>\n",
       "      <td>0</td>\n",
       "    </tr>\n",
       "    <tr>\n",
       "      <th>4</th>\n",
       "      <td>AHZ2001ik8</td>\n",
       "      <td>0</td>\n",
       "    </tr>\n",
       "    <tr>\n",
       "      <th>...</th>\n",
       "      <td>...</td>\n",
       "      <td>...</td>\n",
       "    </tr>\n",
       "    <tr>\n",
       "      <th>6937</th>\n",
       "      <td>AHZ2000x6a</td>\n",
       "      <td>1</td>\n",
       "    </tr>\n",
       "    <tr>\n",
       "      <th>6938</th>\n",
       "      <td>AHZ2000ybi</td>\n",
       "      <td>1</td>\n",
       "    </tr>\n",
       "    <tr>\n",
       "      <th>6939</th>\n",
       "      <td>AHZ2000vix</td>\n",
       "      <td>0</td>\n",
       "    </tr>\n",
       "    <tr>\n",
       "      <th>6940</th>\n",
       "      <td>AHZ2000k4m</td>\n",
       "      <td>0</td>\n",
       "    </tr>\n",
       "    <tr>\n",
       "      <th>6941</th>\n",
       "      <td>AHZ20000fa</td>\n",
       "      <td>0</td>\n",
       "    </tr>\n",
       "  </tbody>\n",
       "</table>\n",
       "<p>6942 rows × 2 columns</p>\n",
       "</div>"
      ],
      "text/plain": [
       "     zooniverse_id  interaction\n",
       "0       AHZ2001cnu            0\n",
       "1       AHZ200067f            0\n",
       "2       AHZ400034x            0\n",
       "3       AHZ100022b            0\n",
       "4       AHZ2001ik8            0\n",
       "...            ...          ...\n",
       "6937    AHZ2000x6a            1\n",
       "6938    AHZ2000ybi            1\n",
       "6939    AHZ2000vix            0\n",
       "6940    AHZ2000k4m            0\n",
       "6941    AHZ20000fa            0\n",
       "\n",
       "[6942 rows x 2 columns]"
      ]
     },
     "execution_count": 164,
     "metadata": {},
     "output_type": "execute_result"
    }
   ],
   "source": [
    "full_gzh_manifest"
   ]
  },
  {
   "cell_type": "code",
   "execution_count": 165,
   "metadata": {},
   "outputs": [],
   "source": [
    "labelled_manifest = df_rem.merge(full_gzh_manifest, on='zooniverse_id',how='left')"
   ]
  },
  {
   "cell_type": "code",
   "execution_count": 168,
   "metadata": {},
   "outputs": [
    {
     "data": {
      "text/plain": [
       "1    3323\n",
       "0    3245\n",
       "Name: interaction, dtype: int64"
      ]
     },
     "execution_count": 168,
     "metadata": {},
     "output_type": "execute_result"
    }
   ],
   "source": [
    "labelled_manifest.interaction.value_counts()"
   ]
  },
  {
   "cell_type": "markdown",
   "metadata": {},
   "source": [
    "## Fixing Filepaths Bug"
   ]
  },
  {
   "cell_type": "code",
   "execution_count": 170,
   "metadata": {},
   "outputs": [
    {
     "data": {
      "text/plain": [
       "'/mmfs1/scratch/hpc/60/oryan/thumbnails/AHZ2001cnu_300_300_3.png'"
      ]
     },
     "execution_count": 170,
     "metadata": {},
     "output_type": "execute_result"
    }
   ],
   "source": [
    "labelled_manifest.thumbnail_path.iloc[0]"
   ]
  },
  {
   "cell_type": "code",
   "execution_count": 178,
   "metadata": {},
   "outputs": [],
   "source": [
    "def path_checker(filename):\n",
    "    name = os.path.splitext(filename)[0]\n",
    "    if name[-2:] == '_3':\n",
    "        return f'/mmfs1/scratch/hpc/60/oryan/thumbnails/{filename}'\n",
    "    else:\n",
    "        return f'/mmfs1/scratch/hpc/60/oryan/thumbnails/{name}_3.png'"
   ]
  },
  {
   "cell_type": "code",
   "execution_count": 182,
   "metadata": {},
   "outputs": [
    {
     "data": {
      "text/html": [
       "<div>\n",
       "<style scoped>\n",
       "    .dataframe tbody tr th:only-of-type {\n",
       "        vertical-align: middle;\n",
       "    }\n",
       "\n",
       "    .dataframe tbody tr th {\n",
       "        vertical-align: top;\n",
       "    }\n",
       "\n",
       "    .dataframe thead th {\n",
       "        text-align: right;\n",
       "    }\n",
       "</style>\n",
       "<table border=\"1\" class=\"dataframe\">\n",
       "  <thead>\n",
       "    <tr style=\"text-align: right;\">\n",
       "      <th></th>\n",
       "      <th>zooniverse_id</th>\n",
       "      <th>thumbnail_path</th>\n",
       "      <th>interaction</th>\n",
       "    </tr>\n",
       "  </thead>\n",
       "  <tbody>\n",
       "    <tr>\n",
       "      <th>0</th>\n",
       "      <td>AHZ2001cnu</td>\n",
       "      <td>/mmfs1/scratch/hpc/60/oryan/thumbnails/AHZ2001...</td>\n",
       "      <td>0</td>\n",
       "    </tr>\n",
       "    <tr>\n",
       "      <th>1</th>\n",
       "      <td>AHZ200067f</td>\n",
       "      <td>/mmfs1/scratch/hpc/60/oryan/thumbnails/AHZ2000...</td>\n",
       "      <td>0</td>\n",
       "    </tr>\n",
       "    <tr>\n",
       "      <th>2</th>\n",
       "      <td>AHZ400034x</td>\n",
       "      <td>/mmfs1/scratch/hpc/60/oryan/thumbnails/AHZ4000...</td>\n",
       "      <td>0</td>\n",
       "    </tr>\n",
       "    <tr>\n",
       "      <th>3</th>\n",
       "      <td>AHZ100022b</td>\n",
       "      <td>/mmfs1/scratch/hpc/60/oryan/thumbnails/AHZ1000...</td>\n",
       "      <td>0</td>\n",
       "    </tr>\n",
       "    <tr>\n",
       "      <th>4</th>\n",
       "      <td>AHZ2001ik8</td>\n",
       "      <td>/mmfs1/scratch/hpc/60/oryan/thumbnails/AHZ2001...</td>\n",
       "      <td>0</td>\n",
       "    </tr>\n",
       "    <tr>\n",
       "      <th>...</th>\n",
       "      <td>...</td>\n",
       "      <td>...</td>\n",
       "      <td>...</td>\n",
       "    </tr>\n",
       "    <tr>\n",
       "      <th>6563</th>\n",
       "      <td>AHZ2000x6a</td>\n",
       "      <td>/mmfs1/scratch/hpc/60/oryan/thumbnails/AHZ2000...</td>\n",
       "      <td>1</td>\n",
       "    </tr>\n",
       "    <tr>\n",
       "      <th>6564</th>\n",
       "      <td>AHZ2000ybi</td>\n",
       "      <td>/mmfs1/scratch/hpc/60/oryan/thumbnails/AHZ2000...</td>\n",
       "      <td>1</td>\n",
       "    </tr>\n",
       "    <tr>\n",
       "      <th>6565</th>\n",
       "      <td>AHZ2000vix</td>\n",
       "      <td>/mmfs1/scratch/hpc/60/oryan/thumbnails/AHZ2000...</td>\n",
       "      <td>0</td>\n",
       "    </tr>\n",
       "    <tr>\n",
       "      <th>6566</th>\n",
       "      <td>AHZ2000k4m</td>\n",
       "      <td>/mmfs1/scratch/hpc/60/oryan/thumbnails/AHZ2000...</td>\n",
       "      <td>0</td>\n",
       "    </tr>\n",
       "    <tr>\n",
       "      <th>6567</th>\n",
       "      <td>AHZ20000fa</td>\n",
       "      <td>/mmfs1/scratch/hpc/60/oryan/thumbnails/AHZ2000...</td>\n",
       "      <td>0</td>\n",
       "    </tr>\n",
       "  </tbody>\n",
       "</table>\n",
       "<p>6568 rows × 3 columns</p>\n",
       "</div>"
      ],
      "text/plain": [
       "     zooniverse_id                                     thumbnail_path  \\\n",
       "0       AHZ2001cnu  /mmfs1/scratch/hpc/60/oryan/thumbnails/AHZ2001...   \n",
       "1       AHZ200067f  /mmfs1/scratch/hpc/60/oryan/thumbnails/AHZ2000...   \n",
       "2       AHZ400034x  /mmfs1/scratch/hpc/60/oryan/thumbnails/AHZ4000...   \n",
       "3       AHZ100022b  /mmfs1/scratch/hpc/60/oryan/thumbnails/AHZ1000...   \n",
       "4       AHZ2001ik8  /mmfs1/scratch/hpc/60/oryan/thumbnails/AHZ2001...   \n",
       "...            ...                                                ...   \n",
       "6563    AHZ2000x6a  /mmfs1/scratch/hpc/60/oryan/thumbnails/AHZ2000...   \n",
       "6564    AHZ2000ybi  /mmfs1/scratch/hpc/60/oryan/thumbnails/AHZ2000...   \n",
       "6565    AHZ2000vix  /mmfs1/scratch/hpc/60/oryan/thumbnails/AHZ2000...   \n",
       "6566    AHZ2000k4m  /mmfs1/scratch/hpc/60/oryan/thumbnails/AHZ2000...   \n",
       "6567    AHZ20000fa  /mmfs1/scratch/hpc/60/oryan/thumbnails/AHZ2000...   \n",
       "\n",
       "      interaction  \n",
       "0               0  \n",
       "1               0  \n",
       "2               0  \n",
       "3               0  \n",
       "4               0  \n",
       "...           ...  \n",
       "6563            1  \n",
       "6564            1  \n",
       "6565            0  \n",
       "6566            0  \n",
       "6567            0  \n",
       "\n",
       "[6568 rows x 3 columns]"
      ]
     },
     "execution_count": 182,
     "metadata": {},
     "output_type": "execute_result"
    }
   ],
   "source": [
    "labelled_manifest_fixed = labelled_manifest.assign(thumbnail_path = labelled_manifest.thumbnail_path.apply(lambda x: path_checker(os.path.basename(x))))\n",
    "labelled_manifest_fixed"
   ]
  },
  {
   "cell_type": "code",
   "execution_count": 183,
   "metadata": {},
   "outputs": [],
   "source": [
    "labelled_manifest_fixed.to_csv('C:/Users/oryan/Documents/esac-project/manifests/large-training-set-labelled.csv')"
   ]
  },
  {
   "cell_type": "code",
   "execution_count": null,
   "metadata": {},
   "outputs": [],
   "source": []
  }
 ],
 "metadata": {
  "kernelspec": {
   "display_name": "Python 3",
   "language": "python",
   "name": "python3"
  },
  "language_info": {
   "codemirror_mode": {
    "name": "ipython",
    "version": 3
   },
   "file_extension": ".py",
   "mimetype": "text/x-python",
   "name": "python",
   "nbconvert_exporter": "python",
   "pygments_lexer": "ipython3",
   "version": "3.7.4"
  }
 },
 "nbformat": 4,
 "nbformat_minor": 4
}
