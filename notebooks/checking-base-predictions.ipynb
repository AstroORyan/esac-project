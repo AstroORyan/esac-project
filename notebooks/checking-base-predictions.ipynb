{
 "cells": [
  {
   "cell_type": "code",
   "execution_count": 1,
   "metadata": {},
   "outputs": [],
   "source": [
    "import pandas as pd\n",
    "import numpy as np\n",
    "import ast\n",
    "import sys\n",
    "import os"
   ]
  },
  {
   "cell_type": "code",
   "execution_count": 2,
   "metadata": {},
   "outputs": [],
   "source": [
    "folder = 'C:/Users/oryan/Documents/esac-project/predictions'"
   ]
  },
  {
   "cell_type": "code",
   "execution_count": 3,
   "metadata": {},
   "outputs": [],
   "source": [
    "df = pd.read_csv(f'{folder}/decals-base-validation.csv',index_col=0)"
   ]
  },
  {
   "cell_type": "code",
   "execution_count": 4,
   "metadata": {},
   "outputs": [
    {
     "name": "stdout",
     "output_type": "stream",
     "text": [
      "<class 'pandas.core.frame.DataFrame'>\n",
      "Index: 554 entries, /mmfs1/storage/users/oryan/hubble-cutouts/AHZ2001lqr_300_300_3.png to /mmfs1/storage/users/oryan/hubble-cutouts/AHZ2000kmf_300_300_3.png\n",
      "Data columns (total 34 columns):\n",
      " #   Column                                    Non-Null Count  Dtype \n",
      "---  ------                                    --------------  ----- \n",
      " 0   smooth-or-featured_smooth_pred            554 non-null    object\n",
      " 1   smooth-or-featured_featured-or-disk_pred  554 non-null    object\n",
      " 2   smooth-or-featured_artifact_pred          554 non-null    object\n",
      " 3   disk-edge-on_yes_pred                     554 non-null    object\n",
      " 4   disk-edge-on_no_pred                      554 non-null    object\n",
      " 5   has-spiral-arms_yes_pred                  554 non-null    object\n",
      " 6   has-spiral-arms_no_pred                   554 non-null    object\n",
      " 7   bar_strong_pred                           554 non-null    object\n",
      " 8   bar_weak_pred                             554 non-null    object\n",
      " 9   bar_no_pred                               554 non-null    object\n",
      " 10  bulge-size_dominant_pred                  554 non-null    object\n",
      " 11  bulge-size_large_pred                     554 non-null    object\n",
      " 12  bulge-size_moderate_pred                  554 non-null    object\n",
      " 13  bulge-size_small_pred                     554 non-null    object\n",
      " 14  bulge-size_none_pred                      554 non-null    object\n",
      " 15  how-rounded_round_pred                    554 non-null    object\n",
      " 16  how-rounded_in-between_pred               554 non-null    object\n",
      " 17  how-rounded_cigar-shaped_pred             554 non-null    object\n",
      " 18  edge-on-bulge_boxy_pred                   554 non-null    object\n",
      " 19  edge-on-bulge_none_pred                   554 non-null    object\n",
      " 20  edge-on-bulge_rounded_pred                554 non-null    object\n",
      " 21  spiral-winding_tight_pred                 554 non-null    object\n",
      " 22  spiral-winding_medium_pred                554 non-null    object\n",
      " 23  spiral-winding_loose_pred                 554 non-null    object\n",
      " 24  spiral-arm-count_1_pred                   554 non-null    object\n",
      " 25  spiral-arm-count_2_pred                   554 non-null    object\n",
      " 26  spiral-arm-count_3_pred                   554 non-null    object\n",
      " 27  spiral-arm-count_4_pred                   554 non-null    object\n",
      " 28  spiral-arm-count_more-than-4_pred         554 non-null    object\n",
      " 29  spiral-arm-count_cant-tell_pred           554 non-null    object\n",
      " 30  merging_none_pred                         554 non-null    object\n",
      " 31  merging_minor-disturbance_pred            554 non-null    object\n",
      " 32  merging_major-disturbance_pred            554 non-null    object\n",
      " 33  merging_merger_pred                       554 non-null    object\n",
      "dtypes: object(34)\n",
      "memory usage: 151.5+ KB\n"
     ]
    }
   ],
   "source": [
    "df.info()"
   ]
  },
  {
   "cell_type": "code",
   "execution_count": 5,
   "metadata": {},
   "outputs": [],
   "source": [
    "df_int = df[['merging_none_pred','merging_minor-disturbance_pred','merging_major-disturbance_pred','merging_merger_pred']]"
   ]
  },
  {
   "cell_type": "code",
   "execution_count": 6,
   "metadata": {},
   "outputs": [
    {
     "data": {
      "text/html": [
       "<div>\n",
       "<style scoped>\n",
       "    .dataframe tbody tr th:only-of-type {\n",
       "        vertical-align: middle;\n",
       "    }\n",
       "\n",
       "    .dataframe tbody tr th {\n",
       "        vertical-align: top;\n",
       "    }\n",
       "\n",
       "    .dataframe thead th {\n",
       "        text-align: right;\n",
       "    }\n",
       "</style>\n",
       "<table border=\"1\" class=\"dataframe\">\n",
       "  <thead>\n",
       "    <tr style=\"text-align: right;\">\n",
       "      <th></th>\n",
       "      <th>merging_none_pred</th>\n",
       "      <th>merging_minor-disturbance_pred</th>\n",
       "      <th>merging_major-disturbance_pred</th>\n",
       "      <th>merging_merger_pred</th>\n",
       "    </tr>\n",
       "    <tr>\n",
       "      <th>id_str</th>\n",
       "      <th></th>\n",
       "      <th></th>\n",
       "      <th></th>\n",
       "      <th></th>\n",
       "    </tr>\n",
       "  </thead>\n",
       "  <tbody>\n",
       "    <tr>\n",
       "      <th>/mmfs1/storage/users/oryan/hubble-cutouts/AHZ2001lqr_300_300_3.png</th>\n",
       "      <td>[2.7373766899108887, 3.3495750427246094, 3.018...</td>\n",
       "      <td>[1.2522252798080444, 1.3647379875183105, 1.226...</td>\n",
       "      <td>[1.0176585912704468, 1.0254333019256592, 1.013...</td>\n",
       "      <td>[4.808195114135742, 3.6144979000091553, 3.4211...</td>\n",
       "    </tr>\n",
       "    <tr>\n",
       "      <th>/mmfs1/storage/users/oryan/hubble-cutouts/AHZ20008op_300_300_3.png</th>\n",
       "      <td>[2.1020584106445312, 2.613466739654541, 2.6933...</td>\n",
       "      <td>[1.2098485231399536, 1.2032870054244995, 1.188...</td>\n",
       "      <td>[1.0536326169967651, 1.0482300519943237, 1.025...</td>\n",
       "      <td>[3.615347385406494, 3.5903196334838867, 2.6892...</td>\n",
       "    </tr>\n",
       "    <tr>\n",
       "      <th>/mmfs1/storage/users/oryan/hubble-cutouts/AHZ2000ewi_300_300_3.png</th>\n",
       "      <td>[1.8991992473602295, 2.082963466644287, 1.9083...</td>\n",
       "      <td>[1.1604549884796143, 1.358180046081543, 1.3009...</td>\n",
       "      <td>[1.3647910356521606, 2.003004550933838, 1.6264...</td>\n",
       "      <td>[2.825439453125, 8.082298278808594, 4.99707937...</td>\n",
       "    </tr>\n",
       "    <tr>\n",
       "      <th>/mmfs1/storage/users/oryan/hubble-cutouts/AHZ2000lmb_300_300_3.png</th>\n",
       "      <td>[11.375259399414062, 7.905166149139404, 7.2324...</td>\n",
       "      <td>[4.675280570983887, 4.261478424072266, 3.53584...</td>\n",
       "      <td>[3.40800404548645, 5.616032600402832, 3.366075...</td>\n",
       "      <td>[1.3556526899337769, 1.5004209280014038, 1.332...</td>\n",
       "    </tr>\n",
       "    <tr>\n",
       "      <th>/mmfs1/storage/users/oryan/hubble-cutouts/AHZ20011fw_300_300_3.png</th>\n",
       "      <td>[17.480573654174805, 13.816539764404297, 13.73...</td>\n",
       "      <td>[3.130089521408081, 2.186141014099121, 1.60726...</td>\n",
       "      <td>[1.2611072063446045, 1.06624436378479, 1.01552...</td>\n",
       "      <td>[1.2871447801589966, 1.4353485107421875, 1.224...</td>\n",
       "    </tr>\n",
       "    <tr>\n",
       "      <th>...</th>\n",
       "      <td>...</td>\n",
       "      <td>...</td>\n",
       "      <td>...</td>\n",
       "      <td>...</td>\n",
       "    </tr>\n",
       "    <tr>\n",
       "      <th>/mmfs1/storage/users/oryan/hubble-cutouts/AHZ2001i1p_300_300_3.png</th>\n",
       "      <td>[9.476373672485352, 22.558311462402344, 20.084...</td>\n",
       "      <td>[1.4861339330673218, 2.0941805839538574, 2.248...</td>\n",
       "      <td>[1.0065757036209106, 1.0262384414672852, 1.078...</td>\n",
       "      <td>[2.081256628036499, 1.2795997858047485, 1.6042...</td>\n",
       "    </tr>\n",
       "    <tr>\n",
       "      <th>/mmfs1/storage/users/oryan/hubble-cutouts/AHZ2000r26_300_300_3.png</th>\n",
       "      <td>[6.500507831573486, 4.312294006347656, 3.59595...</td>\n",
       "      <td>[1.6588594913482666, 1.3701659440994263, 1.325...</td>\n",
       "      <td>[1.017831563949585, 1.0156960487365723, 1.0266...</td>\n",
       "      <td>[1.5532275438308716, 2.3453338146209717, 2.139...</td>\n",
       "    </tr>\n",
       "    <tr>\n",
       "      <th>/mmfs1/storage/users/oryan/hubble-cutouts/AHZ40001su_300_300_3.png</th>\n",
       "      <td>[14.351585388183594, 8.39222526550293, 8.77956...</td>\n",
       "      <td>[1.8487434387207031, 1.4014356136322021, 1.448...</td>\n",
       "      <td>[1.0139167308807373, 1.0098910331726074, 1.013...</td>\n",
       "      <td>[1.2585172653198242, 1.228901743888855, 1.3811...</td>\n",
       "    </tr>\n",
       "    <tr>\n",
       "      <th>/mmfs1/storage/users/oryan/hubble-cutouts/AHZ2000qzj_300_300_3.png</th>\n",
       "      <td>[6.635402679443359, 6.972736358642578, 9.62797...</td>\n",
       "      <td>[2.562164306640625, 3.211864948272705, 3.17425...</td>\n",
       "      <td>[1.9656062126159668, 2.3131895065307617, 1.647...</td>\n",
       "      <td>[2.129772186279297, 2.0439720153808594, 1.8314...</td>\n",
       "    </tr>\n",
       "    <tr>\n",
       "      <th>/mmfs1/storage/users/oryan/hubble-cutouts/AHZ2000kmf_300_300_3.png</th>\n",
       "      <td>[14.517663955688477, 13.449318885803223, 21.86...</td>\n",
       "      <td>[3.021562337875366, 2.85605788230896, 4.659419...</td>\n",
       "      <td>[3.2062160968780518, 3.1399171352386475, 3.529...</td>\n",
       "      <td>[1.0633736848831177, 1.0925401449203491, 1.031...</td>\n",
       "    </tr>\n",
       "  </tbody>\n",
       "</table>\n",
       "<p>554 rows × 4 columns</p>\n",
       "</div>"
      ],
      "text/plain": [
       "                                                                                    merging_none_pred  \\\n",
       "id_str                                                                                                  \n",
       "/mmfs1/storage/users/oryan/hubble-cutouts/AHZ20...  [2.7373766899108887, 3.3495750427246094, 3.018...   \n",
       "/mmfs1/storage/users/oryan/hubble-cutouts/AHZ20...  [2.1020584106445312, 2.613466739654541, 2.6933...   \n",
       "/mmfs1/storage/users/oryan/hubble-cutouts/AHZ20...  [1.8991992473602295, 2.082963466644287, 1.9083...   \n",
       "/mmfs1/storage/users/oryan/hubble-cutouts/AHZ20...  [11.375259399414062, 7.905166149139404, 7.2324...   \n",
       "/mmfs1/storage/users/oryan/hubble-cutouts/AHZ20...  [17.480573654174805, 13.816539764404297, 13.73...   \n",
       "...                                                                                               ...   \n",
       "/mmfs1/storage/users/oryan/hubble-cutouts/AHZ20...  [9.476373672485352, 22.558311462402344, 20.084...   \n",
       "/mmfs1/storage/users/oryan/hubble-cutouts/AHZ20...  [6.500507831573486, 4.312294006347656, 3.59595...   \n",
       "/mmfs1/storage/users/oryan/hubble-cutouts/AHZ40...  [14.351585388183594, 8.39222526550293, 8.77956...   \n",
       "/mmfs1/storage/users/oryan/hubble-cutouts/AHZ20...  [6.635402679443359, 6.972736358642578, 9.62797...   \n",
       "/mmfs1/storage/users/oryan/hubble-cutouts/AHZ20...  [14.517663955688477, 13.449318885803223, 21.86...   \n",
       "\n",
       "                                                                       merging_minor-disturbance_pred  \\\n",
       "id_str                                                                                                  \n",
       "/mmfs1/storage/users/oryan/hubble-cutouts/AHZ20...  [1.2522252798080444, 1.3647379875183105, 1.226...   \n",
       "/mmfs1/storage/users/oryan/hubble-cutouts/AHZ20...  [1.2098485231399536, 1.2032870054244995, 1.188...   \n",
       "/mmfs1/storage/users/oryan/hubble-cutouts/AHZ20...  [1.1604549884796143, 1.358180046081543, 1.3009...   \n",
       "/mmfs1/storage/users/oryan/hubble-cutouts/AHZ20...  [4.675280570983887, 4.261478424072266, 3.53584...   \n",
       "/mmfs1/storage/users/oryan/hubble-cutouts/AHZ20...  [3.130089521408081, 2.186141014099121, 1.60726...   \n",
       "...                                                                                               ...   \n",
       "/mmfs1/storage/users/oryan/hubble-cutouts/AHZ20...  [1.4861339330673218, 2.0941805839538574, 2.248...   \n",
       "/mmfs1/storage/users/oryan/hubble-cutouts/AHZ20...  [1.6588594913482666, 1.3701659440994263, 1.325...   \n",
       "/mmfs1/storage/users/oryan/hubble-cutouts/AHZ40...  [1.8487434387207031, 1.4014356136322021, 1.448...   \n",
       "/mmfs1/storage/users/oryan/hubble-cutouts/AHZ20...  [2.562164306640625, 3.211864948272705, 3.17425...   \n",
       "/mmfs1/storage/users/oryan/hubble-cutouts/AHZ20...  [3.021562337875366, 2.85605788230896, 4.659419...   \n",
       "\n",
       "                                                                       merging_major-disturbance_pred  \\\n",
       "id_str                                                                                                  \n",
       "/mmfs1/storage/users/oryan/hubble-cutouts/AHZ20...  [1.0176585912704468, 1.0254333019256592, 1.013...   \n",
       "/mmfs1/storage/users/oryan/hubble-cutouts/AHZ20...  [1.0536326169967651, 1.0482300519943237, 1.025...   \n",
       "/mmfs1/storage/users/oryan/hubble-cutouts/AHZ20...  [1.3647910356521606, 2.003004550933838, 1.6264...   \n",
       "/mmfs1/storage/users/oryan/hubble-cutouts/AHZ20...  [3.40800404548645, 5.616032600402832, 3.366075...   \n",
       "/mmfs1/storage/users/oryan/hubble-cutouts/AHZ20...  [1.2611072063446045, 1.06624436378479, 1.01552...   \n",
       "...                                                                                               ...   \n",
       "/mmfs1/storage/users/oryan/hubble-cutouts/AHZ20...  [1.0065757036209106, 1.0262384414672852, 1.078...   \n",
       "/mmfs1/storage/users/oryan/hubble-cutouts/AHZ20...  [1.017831563949585, 1.0156960487365723, 1.0266...   \n",
       "/mmfs1/storage/users/oryan/hubble-cutouts/AHZ40...  [1.0139167308807373, 1.0098910331726074, 1.013...   \n",
       "/mmfs1/storage/users/oryan/hubble-cutouts/AHZ20...  [1.9656062126159668, 2.3131895065307617, 1.647...   \n",
       "/mmfs1/storage/users/oryan/hubble-cutouts/AHZ20...  [3.2062160968780518, 3.1399171352386475, 3.529...   \n",
       "\n",
       "                                                                                  merging_merger_pred  \n",
       "id_str                                                                                                 \n",
       "/mmfs1/storage/users/oryan/hubble-cutouts/AHZ20...  [4.808195114135742, 3.6144979000091553, 3.4211...  \n",
       "/mmfs1/storage/users/oryan/hubble-cutouts/AHZ20...  [3.615347385406494, 3.5903196334838867, 2.6892...  \n",
       "/mmfs1/storage/users/oryan/hubble-cutouts/AHZ20...  [2.825439453125, 8.082298278808594, 4.99707937...  \n",
       "/mmfs1/storage/users/oryan/hubble-cutouts/AHZ20...  [1.3556526899337769, 1.5004209280014038, 1.332...  \n",
       "/mmfs1/storage/users/oryan/hubble-cutouts/AHZ20...  [1.2871447801589966, 1.4353485107421875, 1.224...  \n",
       "...                                                                                               ...  \n",
       "/mmfs1/storage/users/oryan/hubble-cutouts/AHZ20...  [2.081256628036499, 1.2795997858047485, 1.6042...  \n",
       "/mmfs1/storage/users/oryan/hubble-cutouts/AHZ20...  [1.5532275438308716, 2.3453338146209717, 2.139...  \n",
       "/mmfs1/storage/users/oryan/hubble-cutouts/AHZ40...  [1.2585172653198242, 1.228901743888855, 1.3811...  \n",
       "/mmfs1/storage/users/oryan/hubble-cutouts/AHZ20...  [2.129772186279297, 2.0439720153808594, 1.8314...  \n",
       "/mmfs1/storage/users/oryan/hubble-cutouts/AHZ20...  [1.0633736848831177, 1.0925401449203491, 1.031...  \n",
       "\n",
       "[554 rows x 4 columns]"
      ]
     },
     "execution_count": 6,
     "metadata": {},
     "output_type": "execute_result"
    }
   ],
   "source": [
    "df_int"
   ]
  },
  {
   "cell_type": "code",
   "execution_count": 7,
   "metadata": {},
   "outputs": [],
   "source": [
    "df_red = (\n",
    "    df_int\n",
    "    .assign(no_merger = df_int.merging_none_pred.apply(lambda x: np.mean(ast.literal_eval(x))))\n",
    "    .assign(minor_merger = df_int['merging_minor-disturbance_pred'].apply(lambda x: np.mean(ast.literal_eval(x))))\n",
    "    .assign(major_merger = df_int['merging_major-disturbance_pred'].apply(lambda x: np.mean(ast.literal_eval(x))))\n",
    "    .assign(ongoing_merger = df_int.merging_merger_pred.apply(lambda x: np.mean(ast.literal_eval(x))))\n",
    "    .drop(columns=['merging_none_pred','merging_minor-disturbance_pred','merging_major-disturbance_pred','merging_merger_pred'])\n",
    ")"
   ]
  },
  {
   "cell_type": "code",
   "execution_count": 8,
   "metadata": {},
   "outputs": [],
   "source": [
    "def finding_prediction(row):\n",
    "    merger_event = row.minor_merger + row.major_merger + row.ongoing_merger\n",
    "    no_merger_event = row.no_merger\n",
    "    if no_merger_event > merger_event:\n",
    "        return 0\n",
    "    elif no_merger_event < merger_event:\n",
    "        return 1"
   ]
  },
  {
   "cell_type": "code",
   "execution_count": 9,
   "metadata": {},
   "outputs": [
    {
     "data": {
      "text/plain": [
       "'ongoing_merger'"
      ]
     },
     "execution_count": 9,
     "metadata": {},
     "output_type": "execute_result"
    }
   ],
   "source": [
    "df_red.iloc[0].idxmax(axis=1)"
   ]
  },
  {
   "cell_type": "code",
   "execution_count": 10,
   "metadata": {},
   "outputs": [],
   "source": [
    "df_binary = (\n",
    "    df_red\n",
    "    .assign(binary_prediction = df_red.apply(lambda row: finding_prediction(row), axis=1))\n",
    "    .reset_index()\n",
    ")"
   ]
  },
  {
   "cell_type": "code",
   "execution_count": 11,
   "metadata": {},
   "outputs": [
    {
     "data": {
      "text/html": [
       "<div>\n",
       "<style scoped>\n",
       "    .dataframe tbody tr th:only-of-type {\n",
       "        vertical-align: middle;\n",
       "    }\n",
       "\n",
       "    .dataframe tbody tr th {\n",
       "        vertical-align: top;\n",
       "    }\n",
       "\n",
       "    .dataframe thead th {\n",
       "        text-align: right;\n",
       "    }\n",
       "</style>\n",
       "<table border=\"1\" class=\"dataframe\">\n",
       "  <thead>\n",
       "    <tr style=\"text-align: right;\">\n",
       "      <th></th>\n",
       "      <th>id_str</th>\n",
       "      <th>no_merger</th>\n",
       "      <th>minor_merger</th>\n",
       "      <th>major_merger</th>\n",
       "      <th>ongoing_merger</th>\n",
       "      <th>binary_prediction</th>\n",
       "    </tr>\n",
       "  </thead>\n",
       "  <tbody>\n",
       "    <tr>\n",
       "      <th>0</th>\n",
       "      <td>/mmfs1/storage/users/oryan/hubble-cutouts/AHZ2...</td>\n",
       "      <td>3.030057</td>\n",
       "      <td>1.328302</td>\n",
       "      <td>1.039282</td>\n",
       "      <td>3.481204</td>\n",
       "      <td>1</td>\n",
       "    </tr>\n",
       "    <tr>\n",
       "      <th>1</th>\n",
       "      <td>/mmfs1/storage/users/oryan/hubble-cutouts/AHZ2...</td>\n",
       "      <td>2.661391</td>\n",
       "      <td>1.241407</td>\n",
       "      <td>1.038164</td>\n",
       "      <td>3.348100</td>\n",
       "      <td>1</td>\n",
       "    </tr>\n",
       "    <tr>\n",
       "      <th>2</th>\n",
       "      <td>/mmfs1/storage/users/oryan/hubble-cutouts/AHZ2...</td>\n",
       "      <td>2.104251</td>\n",
       "      <td>1.254405</td>\n",
       "      <td>1.597351</td>\n",
       "      <td>4.871911</td>\n",
       "      <td>1</td>\n",
       "    </tr>\n",
       "    <tr>\n",
       "      <th>3</th>\n",
       "      <td>/mmfs1/storage/users/oryan/hubble-cutouts/AHZ2...</td>\n",
       "      <td>8.201539</td>\n",
       "      <td>3.914404</td>\n",
       "      <td>4.026549</td>\n",
       "      <td>1.376347</td>\n",
       "      <td>1</td>\n",
       "    </tr>\n",
       "    <tr>\n",
       "      <th>4</th>\n",
       "      <td>/mmfs1/storage/users/oryan/hubble-cutouts/AHZ2...</td>\n",
       "      <td>15.794828</td>\n",
       "      <td>2.211584</td>\n",
       "      <td>1.082632</td>\n",
       "      <td>1.283485</td>\n",
       "      <td>0</td>\n",
       "    </tr>\n",
       "    <tr>\n",
       "      <th>...</th>\n",
       "      <td>...</td>\n",
       "      <td>...</td>\n",
       "      <td>...</td>\n",
       "      <td>...</td>\n",
       "      <td>...</td>\n",
       "      <td>...</td>\n",
       "    </tr>\n",
       "    <tr>\n",
       "      <th>549</th>\n",
       "      <td>/mmfs1/storage/users/oryan/hubble-cutouts/AHZ2...</td>\n",
       "      <td>16.677358</td>\n",
       "      <td>1.966698</td>\n",
       "      <td>1.032239</td>\n",
       "      <td>1.777253</td>\n",
       "      <td>0</td>\n",
       "    </tr>\n",
       "    <tr>\n",
       "      <th>550</th>\n",
       "      <td>/mmfs1/storage/users/oryan/hubble-cutouts/AHZ2...</td>\n",
       "      <td>4.503565</td>\n",
       "      <td>1.401701</td>\n",
       "      <td>1.015841</td>\n",
       "      <td>1.960873</td>\n",
       "      <td>0</td>\n",
       "    </tr>\n",
       "    <tr>\n",
       "      <th>551</th>\n",
       "      <td>/mmfs1/storage/users/oryan/hubble-cutouts/AHZ4...</td>\n",
       "      <td>10.977903</td>\n",
       "      <td>1.634825</td>\n",
       "      <td>1.014103</td>\n",
       "      <td>1.256122</td>\n",
       "      <td>0</td>\n",
       "    </tr>\n",
       "    <tr>\n",
       "      <th>552</th>\n",
       "      <td>/mmfs1/storage/users/oryan/hubble-cutouts/AHZ2...</td>\n",
       "      <td>8.755816</td>\n",
       "      <td>3.208482</td>\n",
       "      <td>2.510744</td>\n",
       "      <td>2.167427</td>\n",
       "      <td>0</td>\n",
       "    </tr>\n",
       "    <tr>\n",
       "      <th>553</th>\n",
       "      <td>/mmfs1/storage/users/oryan/hubble-cutouts/AHZ2...</td>\n",
       "      <td>17.760509</td>\n",
       "      <td>3.232048</td>\n",
       "      <td>2.860489</td>\n",
       "      <td>1.079410</td>\n",
       "      <td>0</td>\n",
       "    </tr>\n",
       "  </tbody>\n",
       "</table>\n",
       "<p>554 rows × 6 columns</p>\n",
       "</div>"
      ],
      "text/plain": [
       "                                                id_str  no_merger  \\\n",
       "0    /mmfs1/storage/users/oryan/hubble-cutouts/AHZ2...   3.030057   \n",
       "1    /mmfs1/storage/users/oryan/hubble-cutouts/AHZ2...   2.661391   \n",
       "2    /mmfs1/storage/users/oryan/hubble-cutouts/AHZ2...   2.104251   \n",
       "3    /mmfs1/storage/users/oryan/hubble-cutouts/AHZ2...   8.201539   \n",
       "4    /mmfs1/storage/users/oryan/hubble-cutouts/AHZ2...  15.794828   \n",
       "..                                                 ...        ...   \n",
       "549  /mmfs1/storage/users/oryan/hubble-cutouts/AHZ2...  16.677358   \n",
       "550  /mmfs1/storage/users/oryan/hubble-cutouts/AHZ2...   4.503565   \n",
       "551  /mmfs1/storage/users/oryan/hubble-cutouts/AHZ4...  10.977903   \n",
       "552  /mmfs1/storage/users/oryan/hubble-cutouts/AHZ2...   8.755816   \n",
       "553  /mmfs1/storage/users/oryan/hubble-cutouts/AHZ2...  17.760509   \n",
       "\n",
       "     minor_merger  major_merger  ongoing_merger  binary_prediction  \n",
       "0        1.328302      1.039282        3.481204                  1  \n",
       "1        1.241407      1.038164        3.348100                  1  \n",
       "2        1.254405      1.597351        4.871911                  1  \n",
       "3        3.914404      4.026549        1.376347                  1  \n",
       "4        2.211584      1.082632        1.283485                  0  \n",
       "..            ...           ...             ...                ...  \n",
       "549      1.966698      1.032239        1.777253                  0  \n",
       "550      1.401701      1.015841        1.960873                  0  \n",
       "551      1.634825      1.014103        1.256122                  0  \n",
       "552      3.208482      2.510744        2.167427                  0  \n",
       "553      3.232048      2.860489        1.079410                  0  \n",
       "\n",
       "[554 rows x 6 columns]"
      ]
     },
     "execution_count": 11,
     "metadata": {},
     "output_type": "execute_result"
    }
   ],
   "source": [
    "df_binary"
   ]
  },
  {
   "cell_type": "code",
   "execution_count": 12,
   "metadata": {},
   "outputs": [
    {
     "data": {
      "text/plain": [
       "0    437\n",
       "1    117\n",
       "Name: binary_prediction, dtype: int64"
      ]
     },
     "execution_count": 12,
     "metadata": {},
     "output_type": "execute_result"
    }
   ],
   "source": [
    "df_binary.binary_prediction.value_counts()"
   ]
  },
  {
   "cell_type": "markdown",
   "metadata": {},
   "source": [
    "## Importing Answers"
   ]
  },
  {
   "cell_type": "code",
   "execution_count": 13,
   "metadata": {},
   "outputs": [],
   "source": [
    "manifest = (\n",
    "    pd.read_csv('C:/Users/oryan/Documents/esac-project/manifests/gz-hubble-local-manifest.csv', index_col=0)\n",
    "    .drop(columns=['RA','Dec','imaging','local_location'])\n",
    ")"
   ]
  },
  {
   "cell_type": "code",
   "execution_count": 14,
   "metadata": {},
   "outputs": [],
   "source": [
    "df_for_merge = (\n",
    "    df_binary\n",
    "    .assign(zooniverse_id = df_binary.id_str.apply(lambda x: os.path.basename(x.replace('_300_300_3.png',''))))\n",
    "    .drop(columns=['id_str'])\n",
    ")"
   ]
  },
  {
   "cell_type": "code",
   "execution_count": 15,
   "metadata": {},
   "outputs": [
    {
     "data": {
      "text/html": [
       "<div>\n",
       "<style scoped>\n",
       "    .dataframe tbody tr th:only-of-type {\n",
       "        vertical-align: middle;\n",
       "    }\n",
       "\n",
       "    .dataframe tbody tr th {\n",
       "        vertical-align: top;\n",
       "    }\n",
       "\n",
       "    .dataframe thead th {\n",
       "        text-align: right;\n",
       "    }\n",
       "</style>\n",
       "<table border=\"1\" class=\"dataframe\">\n",
       "  <thead>\n",
       "    <tr style=\"text-align: right;\">\n",
       "      <th></th>\n",
       "      <th>no_merger</th>\n",
       "      <th>minor_merger</th>\n",
       "      <th>major_merger</th>\n",
       "      <th>ongoing_merger</th>\n",
       "      <th>binary_prediction</th>\n",
       "      <th>zooniverse_id</th>\n",
       "    </tr>\n",
       "  </thead>\n",
       "  <tbody>\n",
       "    <tr>\n",
       "      <th>0</th>\n",
       "      <td>3.030057</td>\n",
       "      <td>1.328302</td>\n",
       "      <td>1.039282</td>\n",
       "      <td>3.481204</td>\n",
       "      <td>1</td>\n",
       "      <td>AHZ2001lqr</td>\n",
       "    </tr>\n",
       "    <tr>\n",
       "      <th>1</th>\n",
       "      <td>2.661391</td>\n",
       "      <td>1.241407</td>\n",
       "      <td>1.038164</td>\n",
       "      <td>3.348100</td>\n",
       "      <td>1</td>\n",
       "      <td>AHZ20008op</td>\n",
       "    </tr>\n",
       "    <tr>\n",
       "      <th>2</th>\n",
       "      <td>2.104251</td>\n",
       "      <td>1.254405</td>\n",
       "      <td>1.597351</td>\n",
       "      <td>4.871911</td>\n",
       "      <td>1</td>\n",
       "      <td>AHZ2000ewi</td>\n",
       "    </tr>\n",
       "    <tr>\n",
       "      <th>3</th>\n",
       "      <td>8.201539</td>\n",
       "      <td>3.914404</td>\n",
       "      <td>4.026549</td>\n",
       "      <td>1.376347</td>\n",
       "      <td>1</td>\n",
       "      <td>AHZ2000lmb</td>\n",
       "    </tr>\n",
       "    <tr>\n",
       "      <th>4</th>\n",
       "      <td>15.794828</td>\n",
       "      <td>2.211584</td>\n",
       "      <td>1.082632</td>\n",
       "      <td>1.283485</td>\n",
       "      <td>0</td>\n",
       "      <td>AHZ20011fw</td>\n",
       "    </tr>\n",
       "    <tr>\n",
       "      <th>...</th>\n",
       "      <td>...</td>\n",
       "      <td>...</td>\n",
       "      <td>...</td>\n",
       "      <td>...</td>\n",
       "      <td>...</td>\n",
       "      <td>...</td>\n",
       "    </tr>\n",
       "    <tr>\n",
       "      <th>549</th>\n",
       "      <td>16.677358</td>\n",
       "      <td>1.966698</td>\n",
       "      <td>1.032239</td>\n",
       "      <td>1.777253</td>\n",
       "      <td>0</td>\n",
       "      <td>AHZ2001i1p</td>\n",
       "    </tr>\n",
       "    <tr>\n",
       "      <th>550</th>\n",
       "      <td>4.503565</td>\n",
       "      <td>1.401701</td>\n",
       "      <td>1.015841</td>\n",
       "      <td>1.960873</td>\n",
       "      <td>0</td>\n",
       "      <td>AHZ2000r26</td>\n",
       "    </tr>\n",
       "    <tr>\n",
       "      <th>551</th>\n",
       "      <td>10.977903</td>\n",
       "      <td>1.634825</td>\n",
       "      <td>1.014103</td>\n",
       "      <td>1.256122</td>\n",
       "      <td>0</td>\n",
       "      <td>AHZ40001su</td>\n",
       "    </tr>\n",
       "    <tr>\n",
       "      <th>552</th>\n",
       "      <td>8.755816</td>\n",
       "      <td>3.208482</td>\n",
       "      <td>2.510744</td>\n",
       "      <td>2.167427</td>\n",
       "      <td>0</td>\n",
       "      <td>AHZ2000qzj</td>\n",
       "    </tr>\n",
       "    <tr>\n",
       "      <th>553</th>\n",
       "      <td>17.760509</td>\n",
       "      <td>3.232048</td>\n",
       "      <td>2.860489</td>\n",
       "      <td>1.079410</td>\n",
       "      <td>0</td>\n",
       "      <td>AHZ2000kmf</td>\n",
       "    </tr>\n",
       "  </tbody>\n",
       "</table>\n",
       "<p>554 rows × 6 columns</p>\n",
       "</div>"
      ],
      "text/plain": [
       "     no_merger  minor_merger  major_merger  ongoing_merger  binary_prediction  \\\n",
       "0     3.030057      1.328302      1.039282        3.481204                  1   \n",
       "1     2.661391      1.241407      1.038164        3.348100                  1   \n",
       "2     2.104251      1.254405      1.597351        4.871911                  1   \n",
       "3     8.201539      3.914404      4.026549        1.376347                  1   \n",
       "4    15.794828      2.211584      1.082632        1.283485                  0   \n",
       "..         ...           ...           ...             ...                ...   \n",
       "549  16.677358      1.966698      1.032239        1.777253                  0   \n",
       "550   4.503565      1.401701      1.015841        1.960873                  0   \n",
       "551  10.977903      1.634825      1.014103        1.256122                  0   \n",
       "552   8.755816      3.208482      2.510744        2.167427                  0   \n",
       "553  17.760509      3.232048      2.860489        1.079410                  0   \n",
       "\n",
       "    zooniverse_id  \n",
       "0      AHZ2001lqr  \n",
       "1      AHZ20008op  \n",
       "2      AHZ2000ewi  \n",
       "3      AHZ2000lmb  \n",
       "4      AHZ20011fw  \n",
       "..            ...  \n",
       "549    AHZ2001i1p  \n",
       "550    AHZ2000r26  \n",
       "551    AHZ40001su  \n",
       "552    AHZ2000qzj  \n",
       "553    AHZ2000kmf  \n",
       "\n",
       "[554 rows x 6 columns]"
      ]
     },
     "execution_count": 15,
     "metadata": {},
     "output_type": "execute_result"
    }
   ],
   "source": [
    "df_for_merge"
   ]
  },
  {
   "cell_type": "code",
   "execution_count": 16,
   "metadata": {},
   "outputs": [],
   "source": [
    "df_merged = (\n",
    "    manifest\n",
    "    .merge(df_for_merge, on='zooniverse_id',how='left')\n",
    "    .dropna()\n",
    ")"
   ]
  },
  {
   "cell_type": "code",
   "execution_count": 17,
   "metadata": {},
   "outputs": [
    {
     "data": {
      "text/html": [
       "<div>\n",
       "<style scoped>\n",
       "    .dataframe tbody tr th:only-of-type {\n",
       "        vertical-align: middle;\n",
       "    }\n",
       "\n",
       "    .dataframe tbody tr th {\n",
       "        vertical-align: top;\n",
       "    }\n",
       "\n",
       "    .dataframe thead th {\n",
       "        text-align: right;\n",
       "    }\n",
       "</style>\n",
       "<table border=\"1\" class=\"dataframe\">\n",
       "  <thead>\n",
       "    <tr style=\"text-align: right;\">\n",
       "      <th></th>\n",
       "      <th>zooniverse_id</th>\n",
       "      <th>interacting</th>\n",
       "      <th>no_merger</th>\n",
       "      <th>minor_merger</th>\n",
       "      <th>major_merger</th>\n",
       "      <th>ongoing_merger</th>\n",
       "      <th>binary_prediction</th>\n",
       "    </tr>\n",
       "  </thead>\n",
       "  <tbody>\n",
       "    <tr>\n",
       "      <th>0</th>\n",
       "      <td>AHZ10004js</td>\n",
       "      <td>1</td>\n",
       "      <td>2.709847</td>\n",
       "      <td>1.233861</td>\n",
       "      <td>1.034758</td>\n",
       "      <td>5.324474</td>\n",
       "      <td>1.0</td>\n",
       "    </tr>\n",
       "    <tr>\n",
       "      <th>1</th>\n",
       "      <td>AHZ20000ak</td>\n",
       "      <td>1</td>\n",
       "      <td>12.768390</td>\n",
       "      <td>2.104334</td>\n",
       "      <td>1.055217</td>\n",
       "      <td>1.625290</td>\n",
       "      <td>0.0</td>\n",
       "    </tr>\n",
       "    <tr>\n",
       "      <th>2</th>\n",
       "      <td>AHZ20000f7</td>\n",
       "      <td>1</td>\n",
       "      <td>5.180593</td>\n",
       "      <td>2.057485</td>\n",
       "      <td>1.925134</td>\n",
       "      <td>1.752994</td>\n",
       "      <td>1.0</td>\n",
       "    </tr>\n",
       "    <tr>\n",
       "      <th>3</th>\n",
       "      <td>AHZ20000gx</td>\n",
       "      <td>1</td>\n",
       "      <td>5.817422</td>\n",
       "      <td>1.535977</td>\n",
       "      <td>1.053702</td>\n",
       "      <td>2.100807</td>\n",
       "      <td>0.0</td>\n",
       "    </tr>\n",
       "    <tr>\n",
       "      <th>4</th>\n",
       "      <td>AHZ20000hj</td>\n",
       "      <td>1</td>\n",
       "      <td>6.069295</td>\n",
       "      <td>2.320427</td>\n",
       "      <td>2.014291</td>\n",
       "      <td>1.779166</td>\n",
       "      <td>1.0</td>\n",
       "    </tr>\n",
       "    <tr>\n",
       "      <th>...</th>\n",
       "      <td>...</td>\n",
       "      <td>...</td>\n",
       "      <td>...</td>\n",
       "      <td>...</td>\n",
       "      <td>...</td>\n",
       "      <td>...</td>\n",
       "      <td>...</td>\n",
       "    </tr>\n",
       "    <tr>\n",
       "      <th>592</th>\n",
       "      <td>AHZ2000xli</td>\n",
       "      <td>0</td>\n",
       "      <td>8.602982</td>\n",
       "      <td>1.618816</td>\n",
       "      <td>1.011904</td>\n",
       "      <td>2.288148</td>\n",
       "      <td>0.0</td>\n",
       "    </tr>\n",
       "    <tr>\n",
       "      <th>593</th>\n",
       "      <td>AHZ2001l95</td>\n",
       "      <td>0</td>\n",
       "      <td>7.806874</td>\n",
       "      <td>1.610621</td>\n",
       "      <td>1.026317</td>\n",
       "      <td>1.818071</td>\n",
       "      <td>0.0</td>\n",
       "    </tr>\n",
       "    <tr>\n",
       "      <th>595</th>\n",
       "      <td>AHZ2000a8x</td>\n",
       "      <td>0</td>\n",
       "      <td>4.164887</td>\n",
       "      <td>2.189656</td>\n",
       "      <td>1.710103</td>\n",
       "      <td>1.427099</td>\n",
       "      <td>1.0</td>\n",
       "    </tr>\n",
       "    <tr>\n",
       "      <th>596</th>\n",
       "      <td>AHZ2000e76</td>\n",
       "      <td>0</td>\n",
       "      <td>21.207555</td>\n",
       "      <td>3.161873</td>\n",
       "      <td>1.128067</td>\n",
       "      <td>1.400876</td>\n",
       "      <td>0.0</td>\n",
       "    </tr>\n",
       "    <tr>\n",
       "      <th>597</th>\n",
       "      <td>AHZ20016ia</td>\n",
       "      <td>0</td>\n",
       "      <td>6.002219</td>\n",
       "      <td>1.438753</td>\n",
       "      <td>1.056419</td>\n",
       "      <td>2.063252</td>\n",
       "      <td>0.0</td>\n",
       "    </tr>\n",
       "  </tbody>\n",
       "</table>\n",
       "<p>554 rows × 7 columns</p>\n",
       "</div>"
      ],
      "text/plain": [
       "    zooniverse_id  interacting  no_merger  minor_merger  major_merger  \\\n",
       "0      AHZ10004js            1   2.709847      1.233861      1.034758   \n",
       "1      AHZ20000ak            1  12.768390      2.104334      1.055217   \n",
       "2      AHZ20000f7            1   5.180593      2.057485      1.925134   \n",
       "3      AHZ20000gx            1   5.817422      1.535977      1.053702   \n",
       "4      AHZ20000hj            1   6.069295      2.320427      2.014291   \n",
       "..            ...          ...        ...           ...           ...   \n",
       "592    AHZ2000xli            0   8.602982      1.618816      1.011904   \n",
       "593    AHZ2001l95            0   7.806874      1.610621      1.026317   \n",
       "595    AHZ2000a8x            0   4.164887      2.189656      1.710103   \n",
       "596    AHZ2000e76            0  21.207555      3.161873      1.128067   \n",
       "597    AHZ20016ia            0   6.002219      1.438753      1.056419   \n",
       "\n",
       "     ongoing_merger  binary_prediction  \n",
       "0          5.324474                1.0  \n",
       "1          1.625290                0.0  \n",
       "2          1.752994                1.0  \n",
       "3          2.100807                0.0  \n",
       "4          1.779166                1.0  \n",
       "..              ...                ...  \n",
       "592        2.288148                0.0  \n",
       "593        1.818071                0.0  \n",
       "595        1.427099                1.0  \n",
       "596        1.400876                0.0  \n",
       "597        2.063252                0.0  \n",
       "\n",
       "[554 rows x 7 columns]"
      ]
     },
     "execution_count": 17,
     "metadata": {},
     "output_type": "execute_result"
    }
   ],
   "source": [
    "df_merged"
   ]
  },
  {
   "cell_type": "code",
   "execution_count": 18,
   "metadata": {},
   "outputs": [
    {
     "name": "stdout",
     "output_type": "stream",
     "text": [
      "0    313\n",
      "1    241\n",
      "Name: interacting, dtype: int64\n",
      "0.0    437\n",
      "1.0    117\n",
      "Name: binary_prediction, dtype: int64\n"
     ]
    }
   ],
   "source": [
    "print(df_merged.interacting.value_counts())\n",
    "print(df_merged.binary_prediction.value_counts())"
   ]
  },
  {
   "cell_type": "code",
   "execution_count": 56,
   "metadata": {},
   "outputs": [
    {
     "data": {
      "text/plain": [
       "69"
      ]
     },
     "execution_count": 56,
     "metadata": {},
     "output_type": "execute_result"
    }
   ],
   "source": [
    "false_positives = len(df_merged.query('interacting == 0 & binary_prediction == 1'))\n",
    "false_positives"
   ]
  },
  {
   "cell_type": "code",
   "execution_count": 57,
   "metadata": {},
   "outputs": [
    {
     "data": {
      "text/plain": [
       "193"
      ]
     },
     "execution_count": 57,
     "metadata": {},
     "output_type": "execute_result"
    }
   ],
   "source": [
    "false_negatives = len(df_merged.query('interacting == 1 & binary_prediction == 0'))\n",
    "false_negatives"
   ]
  },
  {
   "cell_type": "code",
   "execution_count": 59,
   "metadata": {},
   "outputs": [
    {
     "data": {
      "text/plain": [
       "0.4729241877256318"
      ]
     },
     "execution_count": 59,
     "metadata": {},
     "output_type": "execute_result"
    }
   ],
   "source": [
    "incorrect_perc = (false_positives + false_negatives)/len(df_merged)\n",
    "incorrect_perc"
   ]
  },
  {
   "cell_type": "markdown",
   "metadata": {},
   "source": [
    "## Looking at Recall Curves"
   ]
  },
  {
   "cell_type": "code",
   "execution_count": 60,
   "metadata": {},
   "outputs": [],
   "source": [
    "df_no_merger = df_merged[['zooniverse_id','interacting','no_merger']]"
   ]
  },
  {
   "cell_type": "code",
   "execution_count": 118,
   "metadata": {},
   "outputs": [],
   "source": [
    "cutoffs = np.linspace(0.03,0.99,1000)"
   ]
  },
  {
   "cell_type": "code",
   "execution_count": 119,
   "metadata": {},
   "outputs": [],
   "source": [
    "df_no_merger_per = df_no_merger.assign(no_merger_100 = df_no_merger.no_merger.apply(lambda x: x/100))"
   ]
  },
  {
   "cell_type": "code",
   "execution_count": 120,
   "metadata": {},
   "outputs": [],
   "source": [
    "def get_precision(df,cut):\n",
    "    df_binary = (\n",
    "        df.assign(binary_prediction = df.no_merger_100.apply(lambda x: 1 if x <= cut else 0))\n",
    "    )\n",
    "    tp = len(df_binary.query('interacting == 1 & binary_prediction == 1'))\n",
    "    fp = len(df_binary.query('interacting == 0 & binary_prediction == 1'))\n",
    "        \n",
    "    p = tp/(tp + fp)\n",
    "    \n",
    "    return p"
   ]
  },
  {
   "cell_type": "code",
   "execution_count": 121,
   "metadata": {},
   "outputs": [],
   "source": [
    "def get_recall(df, cut):\n",
    "    df_binary = (\n",
    "        df.assign(binary_prediction = df.no_merger_100.apply(lambda x: 1 if x <= cut else 0))\n",
    "    )\n",
    "    tp = len(df_binary.query('interacting == 1 & binary_prediction == 1'))\n",
    "    fn = len(df_binary.query('interacting == 1 & binary_prediction == 0'))\n",
    "    \n",
    "    r = tp/(tp + fn)\n",
    "    \n",
    "    return r"
   ]
  },
  {
   "cell_type": "code",
   "execution_count": 122,
   "metadata": {},
   "outputs": [],
   "source": [
    "pr = []\n",
    "for i in cutoffs:\n",
    "    precision = get_precision(df_no_merger_per, i)\n",
    "    recall = get_recall(df_no_merger_per,i)\n",
    "    pr.append([recall, precision])"
   ]
  },
  {
   "cell_type": "code",
   "execution_count": 123,
   "metadata": {},
   "outputs": [],
   "source": [
    "pr_df = pd.DataFrame(pr).rename(columns={0:'recall',1:'precision'})"
   ]
  },
  {
   "cell_type": "code",
   "execution_count": 124,
   "metadata": {},
   "outputs": [
    {
     "data": {
      "text/plain": [
       "<AxesSubplot:title={'center':'Precision Recall for using GZ Base Model'}, xlabel='recall'>"
      ]
     },
     "execution_count": 124,
     "metadata": {},
     "output_type": "execute_result"
    },
    {
     "data": {
      "image/png": "[encoded data removed]",
      "text/plain": [
       "<Figure size 864x864 with 1 Axes>"
      ]
     },
     "metadata": {
      "needs_background": "light"
     },
     "output_type": "display_data"
    }
   ],
   "source": [
    "pr_df.plot(x = 'recall', y='precision', title='Precision Recall for using GZ Base Model',figsize=(12,12))"
   ]
  },
  {
   "cell_type": "code",
   "execution_count": null,
   "metadata": {},
   "outputs": [],
   "source": []
  }
 ],
 "metadata": {
  "kernelspec": {
   "display_name": "Python 3",
   "language": "python",
   "name": "python3"
  },
  "language_info": {
   "codemirror_mode": {
    "name": "ipython",
    "version": 3
   },
   "file_extension": ".py",
   "mimetype": "text/x-python",
   "name": "python",
   "nbconvert_exporter": "python",
   "pygments_lexer": "ipython3",
   "version": "3.7.4"
  }
 },
 "nbformat": 4,
 "nbformat_minor": 4
}
