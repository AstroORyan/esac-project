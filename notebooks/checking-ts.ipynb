{
 "cells": [
  {
   "cell_type": "code",
   "execution_count": 51,
   "metadata": {},
   "outputs": [],
   "source": [
    "import pandas as pd\n",
    "import matplotlib.pyplot as plt\n",
    "import numpy as np\n",
    "import glob\n",
    "import time\n",
    "import os\n",
    "from PIL import Image\n",
    "\n",
    "from PIL import Image"
   ]
  },
  {
   "cell_type": "code",
   "execution_count": 5,
   "metadata": {},
   "outputs": [],
   "source": [
    "folder = 'C:/Users/oryan/Documents/esac-project/cutouts/hubble-training-all'"
   ]
  },
  {
   "cell_type": "code",
   "execution_count": 6,
   "metadata": {},
   "outputs": [],
   "source": [
    "manifest_paths = glob.glob(folder + '/*.csv')"
   ]
  },
  {
   "cell_type": "code",
   "execution_count": 7,
   "metadata": {},
   "outputs": [
    {
     "data": {
      "text/plain": [
       "['C:/Users/oryan/Documents/esac-project/cutouts/hubble-training-all\\\\gzm-image-manifest.csv',\n",
       " 'C:/Users/oryan/Documents/esac-project/cutouts/hubble-training-all\\\\hubble-thumb-manifest.csv']"
      ]
     },
     "execution_count": 7,
     "metadata": {},
     "output_type": "execute_result"
    }
   ],
   "source": [
    "manifest_paths"
   ]
  },
  {
   "cell_type": "code",
   "execution_count": null,
   "metadata": {},
   "outputs": [],
   "source": [
    "C:\\Users\\oryan\\Documents\\esac-project\\manifests"
   ]
  },
  {
   "cell_type": "code",
   "execution_count": 39,
   "metadata": {},
   "outputs": [],
   "source": [
    "manifest_gz = pd.read_csv(manifest_paths[1],index_col = 0).reset_index().rename(columns={'index':'zooniverse_id'})\n",
    "manifest_gzm = pd.read_csv(manifest_paths[0],index_col = 0).reset_index().rename(columns={'index':'zooniverse_id','thumbnail_loc':'thumbnail_path'})\n",
    "manifest_gz_answer = pd.read_csv('C:/Users/oryan/Documents/esac-project/manifests/gz-hubble-local-manifest.csv',index_col = 0)[['zooniverse_id','interacting']]"
   ]
  },
  {
   "cell_type": "markdown",
   "metadata": {},
   "source": [
    "### Combining the GZ and GZM Manifest"
   ]
  },
  {
   "cell_type": "code",
   "execution_count": 40,
   "metadata": {},
   "outputs": [
    {
     "data": {
      "text/html": [
       "<div>\n",
       "<style scoped>\n",
       "    .dataframe tbody tr th:only-of-type {\n",
       "        vertical-align: middle;\n",
       "    }\n",
       "\n",
       "    .dataframe tbody tr th {\n",
       "        vertical-align: top;\n",
       "    }\n",
       "\n",
       "    .dataframe thead th {\n",
       "        text-align: right;\n",
       "    }\n",
       "</style>\n",
       "<table border=\"1\" class=\"dataframe\">\n",
       "  <thead>\n",
       "    <tr style=\"text-align: right;\">\n",
       "      <th></th>\n",
       "      <th>zooniverse_id</th>\n",
       "      <th>interacting</th>\n",
       "    </tr>\n",
       "  </thead>\n",
       "  <tbody>\n",
       "    <tr>\n",
       "      <th>5895</th>\n",
       "      <td>AHZ10004js</td>\n",
       "      <td>1</td>\n",
       "    </tr>\n",
       "    <tr>\n",
       "      <th>8646</th>\n",
       "      <td>AHZ20000ak</td>\n",
       "      <td>1</td>\n",
       "    </tr>\n",
       "    <tr>\n",
       "      <th>8813</th>\n",
       "      <td>AHZ20000f7</td>\n",
       "      <td>1</td>\n",
       "    </tr>\n",
       "    <tr>\n",
       "      <th>8875</th>\n",
       "      <td>AHZ20000gx</td>\n",
       "      <td>1</td>\n",
       "    </tr>\n",
       "    <tr>\n",
       "      <th>8897</th>\n",
       "      <td>AHZ20000hj</td>\n",
       "      <td>1</td>\n",
       "    </tr>\n",
       "    <tr>\n",
       "      <th>...</th>\n",
       "      <td>...</td>\n",
       "      <td>...</td>\n",
       "    </tr>\n",
       "    <tr>\n",
       "      <th>82467</th>\n",
       "      <td>AHZ2001l95</td>\n",
       "      <td>0</td>\n",
       "    </tr>\n",
       "    <tr>\n",
       "      <th>42067</th>\n",
       "      <td>AHZ2000q2x</td>\n",
       "      <td>0</td>\n",
       "    </tr>\n",
       "    <tr>\n",
       "      <th>21547</th>\n",
       "      <td>AHZ2000a8x</td>\n",
       "      <td>0</td>\n",
       "    </tr>\n",
       "    <tr>\n",
       "      <th>26668</th>\n",
       "      <td>AHZ2000e76</td>\n",
       "      <td>0</td>\n",
       "    </tr>\n",
       "    <tr>\n",
       "      <th>63356</th>\n",
       "      <td>AHZ20016ia</td>\n",
       "      <td>0</td>\n",
       "    </tr>\n",
       "  </tbody>\n",
       "</table>\n",
       "<p>598 rows × 2 columns</p>\n",
       "</div>"
      ],
      "text/plain": [
       "      zooniverse_id  interacting\n",
       "5895     AHZ10004js            1\n",
       "8646     AHZ20000ak            1\n",
       "8813     AHZ20000f7            1\n",
       "8875     AHZ20000gx            1\n",
       "8897     AHZ20000hj            1\n",
       "...             ...          ...\n",
       "82467    AHZ2001l95            0\n",
       "42067    AHZ2000q2x            0\n",
       "21547    AHZ2000a8x            0\n",
       "26668    AHZ2000e76            0\n",
       "63356    AHZ20016ia            0\n",
       "\n",
       "[598 rows x 2 columns]"
      ]
     },
     "execution_count": 40,
     "metadata": {},
     "output_type": "execute_result"
    }
   ],
   "source": [
    "manifest_gz_answer"
   ]
  },
  {
   "cell_type": "code",
   "execution_count": 41,
   "metadata": {},
   "outputs": [],
   "source": [
    "manifest_gz_merg = manifest_gz.merge(manifest_gz_answer, on='zooniverse_id',how='left')"
   ]
  },
  {
   "cell_type": "code",
   "execution_count": 42,
   "metadata": {},
   "outputs": [
    {
     "data": {
      "text/html": [
       "<div>\n",
       "<style scoped>\n",
       "    .dataframe tbody tr th:only-of-type {\n",
       "        vertical-align: middle;\n",
       "    }\n",
       "\n",
       "    .dataframe tbody tr th {\n",
       "        vertical-align: top;\n",
       "    }\n",
       "\n",
       "    .dataframe thead th {\n",
       "        text-align: right;\n",
       "    }\n",
       "</style>\n",
       "<table border=\"1\" class=\"dataframe\">\n",
       "  <thead>\n",
       "    <tr style=\"text-align: right;\">\n",
       "      <th></th>\n",
       "      <th>zooniverse_id</th>\n",
       "      <th>thumbnail_path</th>\n",
       "      <th>interacting</th>\n",
       "    </tr>\n",
       "  </thead>\n",
       "  <tbody>\n",
       "    <tr>\n",
       "      <th>0</th>\n",
       "      <td>AHZ10004js</td>\n",
       "      <td>/mmfs1/scratch/hpc/60/oryan/fromMAST/thumbnail...</td>\n",
       "      <td>1</td>\n",
       "    </tr>\n",
       "    <tr>\n",
       "      <th>1</th>\n",
       "      <td>AHZ20000ak</td>\n",
       "      <td>/mmfs1/scratch/hpc/60/oryan/fromMAST/thumbnail...</td>\n",
       "      <td>1</td>\n",
       "    </tr>\n",
       "    <tr>\n",
       "      <th>2</th>\n",
       "      <td>AHZ20000f7</td>\n",
       "      <td>/mmfs1/scratch/hpc/60/oryan/fromMAST/thumbnail...</td>\n",
       "      <td>1</td>\n",
       "    </tr>\n",
       "    <tr>\n",
       "      <th>3</th>\n",
       "      <td>AHZ20000gx</td>\n",
       "      <td>/mmfs1/scratch/hpc/60/oryan/fromMAST/thumbnail...</td>\n",
       "      <td>1</td>\n",
       "    </tr>\n",
       "    <tr>\n",
       "      <th>4</th>\n",
       "      <td>AHZ20000hj</td>\n",
       "      <td>/mmfs1/scratch/hpc/60/oryan/fromMAST/thumbnail...</td>\n",
       "      <td>1</td>\n",
       "    </tr>\n",
       "    <tr>\n",
       "      <th>...</th>\n",
       "      <td>...</td>\n",
       "      <td>...</td>\n",
       "      <td>...</td>\n",
       "    </tr>\n",
       "    <tr>\n",
       "      <th>545</th>\n",
       "      <td>AHZ2001l95</td>\n",
       "      <td>/mmfs1/scratch/hpc/60/oryan/fromMAST/thumbnail...</td>\n",
       "      <td>0</td>\n",
       "    </tr>\n",
       "    <tr>\n",
       "      <th>546</th>\n",
       "      <td>AHZ2000q2x</td>\n",
       "      <td>/mmfs1/scratch/hpc/60/oryan/fromMAST/thumbnail...</td>\n",
       "      <td>0</td>\n",
       "    </tr>\n",
       "    <tr>\n",
       "      <th>547</th>\n",
       "      <td>AHZ2000a8x</td>\n",
       "      <td>/mmfs1/scratch/hpc/60/oryan/fromMAST/thumbnail...</td>\n",
       "      <td>0</td>\n",
       "    </tr>\n",
       "    <tr>\n",
       "      <th>548</th>\n",
       "      <td>AHZ2000e76</td>\n",
       "      <td>/mmfs1/scratch/hpc/60/oryan/fromMAST/thumbnail...</td>\n",
       "      <td>0</td>\n",
       "    </tr>\n",
       "    <tr>\n",
       "      <th>549</th>\n",
       "      <td>AHZ20016ia</td>\n",
       "      <td>/mmfs1/scratch/hpc/60/oryan/fromMAST/thumbnail...</td>\n",
       "      <td>0</td>\n",
       "    </tr>\n",
       "  </tbody>\n",
       "</table>\n",
       "<p>550 rows × 3 columns</p>\n",
       "</div>"
      ],
      "text/plain": [
       "    zooniverse_id                                     thumbnail_path  \\\n",
       "0      AHZ10004js  /mmfs1/scratch/hpc/60/oryan/fromMAST/thumbnail...   \n",
       "1      AHZ20000ak  /mmfs1/scratch/hpc/60/oryan/fromMAST/thumbnail...   \n",
       "2      AHZ20000f7  /mmfs1/scratch/hpc/60/oryan/fromMAST/thumbnail...   \n",
       "3      AHZ20000gx  /mmfs1/scratch/hpc/60/oryan/fromMAST/thumbnail...   \n",
       "4      AHZ20000hj  /mmfs1/scratch/hpc/60/oryan/fromMAST/thumbnail...   \n",
       "..            ...                                                ...   \n",
       "545    AHZ2001l95  /mmfs1/scratch/hpc/60/oryan/fromMAST/thumbnail...   \n",
       "546    AHZ2000q2x  /mmfs1/scratch/hpc/60/oryan/fromMAST/thumbnail...   \n",
       "547    AHZ2000a8x  /mmfs1/scratch/hpc/60/oryan/fromMAST/thumbnail...   \n",
       "548    AHZ2000e76  /mmfs1/scratch/hpc/60/oryan/fromMAST/thumbnail...   \n",
       "549    AHZ20016ia  /mmfs1/scratch/hpc/60/oryan/fromMAST/thumbnail...   \n",
       "\n",
       "     interacting  \n",
       "0              1  \n",
       "1              1  \n",
       "2              1  \n",
       "3              1  \n",
       "4              1  \n",
       "..           ...  \n",
       "545            0  \n",
       "546            0  \n",
       "547            0  \n",
       "548            0  \n",
       "549            0  \n",
       "\n",
       "[550 rows x 3 columns]"
      ]
     },
     "execution_count": 42,
     "metadata": {},
     "output_type": "execute_result"
    }
   ],
   "source": [
    "manifest_gz_merg"
   ]
  },
  {
   "cell_type": "code",
   "execution_count": 43,
   "metadata": {},
   "outputs": [],
   "source": [
    "manifest_gzm_ans = manifest_gzm.assign(interacting = 1)"
   ]
  },
  {
   "cell_type": "code",
   "execution_count": 44,
   "metadata": {},
   "outputs": [],
   "source": [
    "manifest_all = pd.concat([manifest_gz_merg, manifest_gzm_ans])"
   ]
  },
  {
   "cell_type": "code",
   "execution_count": 45,
   "metadata": {},
   "outputs": [
    {
     "data": {
      "text/html": [
       "<div>\n",
       "<style scoped>\n",
       "    .dataframe tbody tr th:only-of-type {\n",
       "        vertical-align: middle;\n",
       "    }\n",
       "\n",
       "    .dataframe tbody tr th {\n",
       "        vertical-align: top;\n",
       "    }\n",
       "\n",
       "    .dataframe thead th {\n",
       "        text-align: right;\n",
       "    }\n",
       "</style>\n",
       "<table border=\"1\" class=\"dataframe\">\n",
       "  <thead>\n",
       "    <tr style=\"text-align: right;\">\n",
       "      <th></th>\n",
       "      <th>zooniverse_id</th>\n",
       "      <th>thumbnail_path</th>\n",
       "      <th>interacting</th>\n",
       "    </tr>\n",
       "  </thead>\n",
       "  <tbody>\n",
       "    <tr>\n",
       "      <th>0</th>\n",
       "      <td>AHZ10004js</td>\n",
       "      <td>/mmfs1/scratch/hpc/60/oryan/fromMAST/thumbnail...</td>\n",
       "      <td>1</td>\n",
       "    </tr>\n",
       "    <tr>\n",
       "      <th>1</th>\n",
       "      <td>AHZ20000ak</td>\n",
       "      <td>/mmfs1/scratch/hpc/60/oryan/fromMAST/thumbnail...</td>\n",
       "      <td>1</td>\n",
       "    </tr>\n",
       "    <tr>\n",
       "      <th>2</th>\n",
       "      <td>AHZ20000f7</td>\n",
       "      <td>/mmfs1/scratch/hpc/60/oryan/fromMAST/thumbnail...</td>\n",
       "      <td>1</td>\n",
       "    </tr>\n",
       "    <tr>\n",
       "      <th>3</th>\n",
       "      <td>AHZ20000gx</td>\n",
       "      <td>/mmfs1/scratch/hpc/60/oryan/fromMAST/thumbnail...</td>\n",
       "      <td>1</td>\n",
       "    </tr>\n",
       "    <tr>\n",
       "      <th>4</th>\n",
       "      <td>AHZ20000hj</td>\n",
       "      <td>/mmfs1/scratch/hpc/60/oryan/fromMAST/thumbnail...</td>\n",
       "      <td>1</td>\n",
       "    </tr>\n",
       "    <tr>\n",
       "      <th>...</th>\n",
       "      <td>...</td>\n",
       "      <td>...</td>\n",
       "      <td>...</td>\n",
       "    </tr>\n",
       "    <tr>\n",
       "      <th>10</th>\n",
       "      <td>Arp256_Sec</td>\n",
       "      <td>/mmfs1/scratch/hpc/60/oryan/fromMAST/thumbnail...</td>\n",
       "      <td>1</td>\n",
       "    </tr>\n",
       "    <tr>\n",
       "      <th>11</th>\n",
       "      <td>Arp214_Sec</td>\n",
       "      <td>/mmfs1/scratch/hpc/60/oryan/fromMAST/thumbnail...</td>\n",
       "      <td>1</td>\n",
       "    </tr>\n",
       "    <tr>\n",
       "      <th>12</th>\n",
       "      <td>Arp239_Sec</td>\n",
       "      <td>/mmfs1/scratch/hpc/60/oryan/fromMAST/thumbnail...</td>\n",
       "      <td>1</td>\n",
       "    </tr>\n",
       "    <tr>\n",
       "      <th>13</th>\n",
       "      <td>Arp302_Sec</td>\n",
       "      <td>/mmfs1/scratch/hpc/60/oryan/fromMAST/thumbnail...</td>\n",
       "      <td>1</td>\n",
       "    </tr>\n",
       "    <tr>\n",
       "      <th>14</th>\n",
       "      <td>Arp238_Sec</td>\n",
       "      <td>/mmfs1/scratch/hpc/60/oryan/fromMAST/thumbnail...</td>\n",
       "      <td>1</td>\n",
       "    </tr>\n",
       "  </tbody>\n",
       "</table>\n",
       "<p>565 rows × 3 columns</p>\n",
       "</div>"
      ],
      "text/plain": [
       "   zooniverse_id                                     thumbnail_path  \\\n",
       "0     AHZ10004js  /mmfs1/scratch/hpc/60/oryan/fromMAST/thumbnail...   \n",
       "1     AHZ20000ak  /mmfs1/scratch/hpc/60/oryan/fromMAST/thumbnail...   \n",
       "2     AHZ20000f7  /mmfs1/scratch/hpc/60/oryan/fromMAST/thumbnail...   \n",
       "3     AHZ20000gx  /mmfs1/scratch/hpc/60/oryan/fromMAST/thumbnail...   \n",
       "4     AHZ20000hj  /mmfs1/scratch/hpc/60/oryan/fromMAST/thumbnail...   \n",
       "..           ...                                                ...   \n",
       "10    Arp256_Sec  /mmfs1/scratch/hpc/60/oryan/fromMAST/thumbnail...   \n",
       "11    Arp214_Sec  /mmfs1/scratch/hpc/60/oryan/fromMAST/thumbnail...   \n",
       "12    Arp239_Sec  /mmfs1/scratch/hpc/60/oryan/fromMAST/thumbnail...   \n",
       "13    Arp302_Sec  /mmfs1/scratch/hpc/60/oryan/fromMAST/thumbnail...   \n",
       "14    Arp238_Sec  /mmfs1/scratch/hpc/60/oryan/fromMAST/thumbnail...   \n",
       "\n",
       "    interacting  \n",
       "0             1  \n",
       "1             1  \n",
       "2             1  \n",
       "3             1  \n",
       "4             1  \n",
       "..          ...  \n",
       "10            1  \n",
       "11            1  \n",
       "12            1  \n",
       "13            1  \n",
       "14            1  \n",
       "\n",
       "[565 rows x 3 columns]"
      ]
     },
     "execution_count": 45,
     "metadata": {},
     "output_type": "execute_result"
    }
   ],
   "source": [
    "manifest_all"
   ]
  },
  {
   "cell_type": "code",
   "execution_count": 48,
   "metadata": {},
   "outputs": [],
   "source": [
    "manifest_all_local = (\n",
    "    manifest_all\n",
    "    .assign(local_path = manifest_all.thumbnail_path.apply(lambda x: f'{folder}/{os.path.basename(x)}'))\n",
    ")"
   ]
  },
  {
   "cell_type": "markdown",
   "metadata": {},
   "source": [
    "### Loop Through Manifest"
   ]
  },
  {
   "cell_type": "code",
   "execution_count": 60,
   "metadata": {},
   "outputs": [],
   "source": [
    "manifest_all_local[\"my_interacting\"] = \"\""
   ]
  },
  {
   "cell_type": "code",
   "execution_count": 61,
   "metadata": {},
   "outputs": [],
   "source": [
    "counter = 0"
   ]
  },
  {
   "cell_type": "code",
   "execution_count": 62,
   "metadata": {},
   "outputs": [
    {
     "data": {
      "image/png": "[encoded data removed]",
      "text/plain": [
       "<PIL.PngImagePlugin.PngImageFile image mode=L size=300x300 at 0x288889CC408>"
      ]
     },
     "execution_count": 62,
     "metadata": {},
     "output_type": "execute_result"
    }
   ],
   "source": [
    "path = manifest_all_local.local_path.iloc[0]\n",
    "im = Image.open(path)\n",
    "im"
   ]
  },
  {
   "cell_type": "code",
   "execution_count": null,
   "metadata": {},
   "outputs": [],
   "source": []
  }
 ],
 "metadata": {
  "kernelspec": {
   "display_name": "Python 3",
   "language": "python",
   "name": "python3"
  },
  "language_info": {
   "codemirror_mode": {
    "name": "ipython",
    "version": 3
   },
   "file_extension": ".py",
   "mimetype": "text/x-python",
   "name": "python",
   "nbconvert_exporter": "python",
   "pygments_lexer": "ipython3",
   "version": "3.7.4"
  }
 },
 "nbformat": 4,
 "nbformat_minor": 4
}
