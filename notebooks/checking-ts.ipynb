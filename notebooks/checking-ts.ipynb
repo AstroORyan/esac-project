{
 "cells": [
  {
   "cell_type": "code",
   "execution_count": 1,
   "metadata": {},
   "outputs": [],
   "source": [
    "import pandas as pd\n",
    "import matplotlib.pyplot as plt\n",
    "import numpy as np\n",
    "import glob\n",
    "import time\n",
    "import os\n",
    "from PIL import Image\n",
    "\n",
    "from PIL import Image"
   ]
  },
  {
   "cell_type": "code",
   "execution_count": 18,
   "metadata": {},
   "outputs": [],
   "source": [
    "folder = 'C:/Users/oryan/Documents/esac-project/cutouts/hubble-training-all'\n",
    "save_folder = 'C:/Users/oryan/Documents/esac-project/manifests'"
   ]
  },
  {
   "cell_type": "code",
   "execution_count": 3,
   "metadata": {},
   "outputs": [],
   "source": [
    "manifest_paths = glob.glob(folder + '/*.csv')"
   ]
  },
  {
   "cell_type": "code",
   "execution_count": 4,
   "metadata": {},
   "outputs": [
    {
     "data": {
      "text/plain": [
       "['C:/Users/oryan/Documents/esac-project/cutouts/hubble-training-all\\\\gzm-image-manifest.csv',\n",
       " 'C:/Users/oryan/Documents/esac-project/cutouts/hubble-training-all\\\\hubble-thumb-manifest.csv']"
      ]
     },
     "execution_count": 4,
     "metadata": {},
     "output_type": "execute_result"
    }
   ],
   "source": [
    "manifest_paths"
   ]
  },
  {
   "cell_type": "code",
   "execution_count": 8,
   "metadata": {},
   "outputs": [],
   "source": [
    "manifest_gz = pd.read_csv(manifest_paths[1],index_col = 0).reset_index().rename(columns={'index':'zooniverse_id'})\n",
    "manifest_gzm = pd.read_csv(manifest_paths[0],index_col = 0).reset_index().rename(columns={'index':'zooniverse_id','thumbnail_loc':'thumbnail_path'})\n",
    "manifest_gz_answer = pd.read_csv('C:/Users/oryan/Documents/esac-project/manifests/gz-hubble-local-manifest.csv',index_col = 0)[['zooniverse_id','interacting']]"
   ]
  },
  {
   "cell_type": "markdown",
   "metadata": {},
   "source": [
    "### Combining the GZ and GZM Manifest"
   ]
  },
  {
   "cell_type": "code",
   "execution_count": 9,
   "metadata": {},
   "outputs": [
    {
     "data": {
      "text/html": [
       "<div>\n",
       "<style scoped>\n",
       "    .dataframe tbody tr th:only-of-type {\n",
       "        vertical-align: middle;\n",
       "    }\n",
       "\n",
       "    .dataframe tbody tr th {\n",
       "        vertical-align: top;\n",
       "    }\n",
       "\n",
       "    .dataframe thead th {\n",
       "        text-align: right;\n",
       "    }\n",
       "</style>\n",
       "<table border=\"1\" class=\"dataframe\">\n",
       "  <thead>\n",
       "    <tr style=\"text-align: right;\">\n",
       "      <th></th>\n",
       "      <th>zooniverse_id</th>\n",
       "      <th>interacting</th>\n",
       "    </tr>\n",
       "  </thead>\n",
       "  <tbody>\n",
       "    <tr>\n",
       "      <th>5895</th>\n",
       "      <td>AHZ10004js</td>\n",
       "      <td>1</td>\n",
       "    </tr>\n",
       "    <tr>\n",
       "      <th>8646</th>\n",
       "      <td>AHZ20000ak</td>\n",
       "      <td>1</td>\n",
       "    </tr>\n",
       "    <tr>\n",
       "      <th>8813</th>\n",
       "      <td>AHZ20000f7</td>\n",
       "      <td>1</td>\n",
       "    </tr>\n",
       "    <tr>\n",
       "      <th>8875</th>\n",
       "      <td>AHZ20000gx</td>\n",
       "      <td>1</td>\n",
       "    </tr>\n",
       "    <tr>\n",
       "      <th>8897</th>\n",
       "      <td>AHZ20000hj</td>\n",
       "      <td>1</td>\n",
       "    </tr>\n",
       "    <tr>\n",
       "      <th>...</th>\n",
       "      <td>...</td>\n",
       "      <td>...</td>\n",
       "    </tr>\n",
       "    <tr>\n",
       "      <th>82467</th>\n",
       "      <td>AHZ2001l95</td>\n",
       "      <td>0</td>\n",
       "    </tr>\n",
       "    <tr>\n",
       "      <th>42067</th>\n",
       "      <td>AHZ2000q2x</td>\n",
       "      <td>0</td>\n",
       "    </tr>\n",
       "    <tr>\n",
       "      <th>21547</th>\n",
       "      <td>AHZ2000a8x</td>\n",
       "      <td>0</td>\n",
       "    </tr>\n",
       "    <tr>\n",
       "      <th>26668</th>\n",
       "      <td>AHZ2000e76</td>\n",
       "      <td>0</td>\n",
       "    </tr>\n",
       "    <tr>\n",
       "      <th>63356</th>\n",
       "      <td>AHZ20016ia</td>\n",
       "      <td>0</td>\n",
       "    </tr>\n",
       "  </tbody>\n",
       "</table>\n",
       "<p>598 rows × 2 columns</p>\n",
       "</div>"
      ],
      "text/plain": [
       "      zooniverse_id  interacting\n",
       "5895     AHZ10004js            1\n",
       "8646     AHZ20000ak            1\n",
       "8813     AHZ20000f7            1\n",
       "8875     AHZ20000gx            1\n",
       "8897     AHZ20000hj            1\n",
       "...             ...          ...\n",
       "82467    AHZ2001l95            0\n",
       "42067    AHZ2000q2x            0\n",
       "21547    AHZ2000a8x            0\n",
       "26668    AHZ2000e76            0\n",
       "63356    AHZ20016ia            0\n",
       "\n",
       "[598 rows x 2 columns]"
      ]
     },
     "execution_count": 9,
     "metadata": {},
     "output_type": "execute_result"
    }
   ],
   "source": [
    "manifest_gz_answer"
   ]
  },
  {
   "cell_type": "code",
   "execution_count": 10,
   "metadata": {},
   "outputs": [],
   "source": [
    "manifest_gz_merg = manifest_gz.merge(manifest_gz_answer, on='zooniverse_id',how='left')"
   ]
  },
  {
   "cell_type": "code",
   "execution_count": 11,
   "metadata": {},
   "outputs": [
    {
     "data": {
      "text/html": [
       "<div>\n",
       "<style scoped>\n",
       "    .dataframe tbody tr th:only-of-type {\n",
       "        vertical-align: middle;\n",
       "    }\n",
       "\n",
       "    .dataframe tbody tr th {\n",
       "        vertical-align: top;\n",
       "    }\n",
       "\n",
       "    .dataframe thead th {\n",
       "        text-align: right;\n",
       "    }\n",
       "</style>\n",
       "<table border=\"1\" class=\"dataframe\">\n",
       "  <thead>\n",
       "    <tr style=\"text-align: right;\">\n",
       "      <th></th>\n",
       "      <th>zooniverse_id</th>\n",
       "      <th>thumbnail_path</th>\n",
       "      <th>interacting</th>\n",
       "    </tr>\n",
       "  </thead>\n",
       "  <tbody>\n",
       "    <tr>\n",
       "      <th>0</th>\n",
       "      <td>AHZ10004js</td>\n",
       "      <td>/mmfs1/scratch/hpc/60/oryan/fromMAST/thumbnail...</td>\n",
       "      <td>1</td>\n",
       "    </tr>\n",
       "    <tr>\n",
       "      <th>1</th>\n",
       "      <td>AHZ20000ak</td>\n",
       "      <td>/mmfs1/scratch/hpc/60/oryan/fromMAST/thumbnail...</td>\n",
       "      <td>1</td>\n",
       "    </tr>\n",
       "    <tr>\n",
       "      <th>2</th>\n",
       "      <td>AHZ20000f7</td>\n",
       "      <td>/mmfs1/scratch/hpc/60/oryan/fromMAST/thumbnail...</td>\n",
       "      <td>1</td>\n",
       "    </tr>\n",
       "    <tr>\n",
       "      <th>3</th>\n",
       "      <td>AHZ20000gx</td>\n",
       "      <td>/mmfs1/scratch/hpc/60/oryan/fromMAST/thumbnail...</td>\n",
       "      <td>1</td>\n",
       "    </tr>\n",
       "    <tr>\n",
       "      <th>4</th>\n",
       "      <td>AHZ20000hj</td>\n",
       "      <td>/mmfs1/scratch/hpc/60/oryan/fromMAST/thumbnail...</td>\n",
       "      <td>1</td>\n",
       "    </tr>\n",
       "    <tr>\n",
       "      <th>...</th>\n",
       "      <td>...</td>\n",
       "      <td>...</td>\n",
       "      <td>...</td>\n",
       "    </tr>\n",
       "    <tr>\n",
       "      <th>545</th>\n",
       "      <td>AHZ2001l95</td>\n",
       "      <td>/mmfs1/scratch/hpc/60/oryan/fromMAST/thumbnail...</td>\n",
       "      <td>0</td>\n",
       "    </tr>\n",
       "    <tr>\n",
       "      <th>546</th>\n",
       "      <td>AHZ2000q2x</td>\n",
       "      <td>/mmfs1/scratch/hpc/60/oryan/fromMAST/thumbnail...</td>\n",
       "      <td>0</td>\n",
       "    </tr>\n",
       "    <tr>\n",
       "      <th>547</th>\n",
       "      <td>AHZ2000a8x</td>\n",
       "      <td>/mmfs1/scratch/hpc/60/oryan/fromMAST/thumbnail...</td>\n",
       "      <td>0</td>\n",
       "    </tr>\n",
       "    <tr>\n",
       "      <th>548</th>\n",
       "      <td>AHZ2000e76</td>\n",
       "      <td>/mmfs1/scratch/hpc/60/oryan/fromMAST/thumbnail...</td>\n",
       "      <td>0</td>\n",
       "    </tr>\n",
       "    <tr>\n",
       "      <th>549</th>\n",
       "      <td>AHZ20016ia</td>\n",
       "      <td>/mmfs1/scratch/hpc/60/oryan/fromMAST/thumbnail...</td>\n",
       "      <td>0</td>\n",
       "    </tr>\n",
       "  </tbody>\n",
       "</table>\n",
       "<p>550 rows × 3 columns</p>\n",
       "</div>"
      ],
      "text/plain": [
       "    zooniverse_id                                     thumbnail_path  \\\n",
       "0      AHZ10004js  /mmfs1/scratch/hpc/60/oryan/fromMAST/thumbnail...   \n",
       "1      AHZ20000ak  /mmfs1/scratch/hpc/60/oryan/fromMAST/thumbnail...   \n",
       "2      AHZ20000f7  /mmfs1/scratch/hpc/60/oryan/fromMAST/thumbnail...   \n",
       "3      AHZ20000gx  /mmfs1/scratch/hpc/60/oryan/fromMAST/thumbnail...   \n",
       "4      AHZ20000hj  /mmfs1/scratch/hpc/60/oryan/fromMAST/thumbnail...   \n",
       "..            ...                                                ...   \n",
       "545    AHZ2001l95  /mmfs1/scratch/hpc/60/oryan/fromMAST/thumbnail...   \n",
       "546    AHZ2000q2x  /mmfs1/scratch/hpc/60/oryan/fromMAST/thumbnail...   \n",
       "547    AHZ2000a8x  /mmfs1/scratch/hpc/60/oryan/fromMAST/thumbnail...   \n",
       "548    AHZ2000e76  /mmfs1/scratch/hpc/60/oryan/fromMAST/thumbnail...   \n",
       "549    AHZ20016ia  /mmfs1/scratch/hpc/60/oryan/fromMAST/thumbnail...   \n",
       "\n",
       "     interacting  \n",
       "0              1  \n",
       "1              1  \n",
       "2              1  \n",
       "3              1  \n",
       "4              1  \n",
       "..           ...  \n",
       "545            0  \n",
       "546            0  \n",
       "547            0  \n",
       "548            0  \n",
       "549            0  \n",
       "\n",
       "[550 rows x 3 columns]"
      ]
     },
     "execution_count": 11,
     "metadata": {},
     "output_type": "execute_result"
    }
   ],
   "source": [
    "manifest_gz_merg"
   ]
  },
  {
   "cell_type": "code",
   "execution_count": 12,
   "metadata": {},
   "outputs": [],
   "source": [
    "manifest_gzm_ans = manifest_gzm.assign(interacting = 1)"
   ]
  },
  {
   "cell_type": "code",
   "execution_count": 13,
   "metadata": {},
   "outputs": [],
   "source": [
    "manifest_all = pd.concat([manifest_gz_merg, manifest_gzm_ans])"
   ]
  },
  {
   "cell_type": "code",
   "execution_count": 14,
   "metadata": {},
   "outputs": [
    {
     "data": {
      "text/html": [
       "<div>\n",
       "<style scoped>\n",
       "    .dataframe tbody tr th:only-of-type {\n",
       "        vertical-align: middle;\n",
       "    }\n",
       "\n",
       "    .dataframe tbody tr th {\n",
       "        vertical-align: top;\n",
       "    }\n",
       "\n",
       "    .dataframe thead th {\n",
       "        text-align: right;\n",
       "    }\n",
       "</style>\n",
       "<table border=\"1\" class=\"dataframe\">\n",
       "  <thead>\n",
       "    <tr style=\"text-align: right;\">\n",
       "      <th></th>\n",
       "      <th>zooniverse_id</th>\n",
       "      <th>thumbnail_path</th>\n",
       "      <th>interacting</th>\n",
       "    </tr>\n",
       "  </thead>\n",
       "  <tbody>\n",
       "    <tr>\n",
       "      <th>0</th>\n",
       "      <td>AHZ10004js</td>\n",
       "      <td>/mmfs1/scratch/hpc/60/oryan/fromMAST/thumbnail...</td>\n",
       "      <td>1</td>\n",
       "    </tr>\n",
       "    <tr>\n",
       "      <th>1</th>\n",
       "      <td>AHZ20000ak</td>\n",
       "      <td>/mmfs1/scratch/hpc/60/oryan/fromMAST/thumbnail...</td>\n",
       "      <td>1</td>\n",
       "    </tr>\n",
       "    <tr>\n",
       "      <th>2</th>\n",
       "      <td>AHZ20000f7</td>\n",
       "      <td>/mmfs1/scratch/hpc/60/oryan/fromMAST/thumbnail...</td>\n",
       "      <td>1</td>\n",
       "    </tr>\n",
       "    <tr>\n",
       "      <th>3</th>\n",
       "      <td>AHZ20000gx</td>\n",
       "      <td>/mmfs1/scratch/hpc/60/oryan/fromMAST/thumbnail...</td>\n",
       "      <td>1</td>\n",
       "    </tr>\n",
       "    <tr>\n",
       "      <th>4</th>\n",
       "      <td>AHZ20000hj</td>\n",
       "      <td>/mmfs1/scratch/hpc/60/oryan/fromMAST/thumbnail...</td>\n",
       "      <td>1</td>\n",
       "    </tr>\n",
       "    <tr>\n",
       "      <th>...</th>\n",
       "      <td>...</td>\n",
       "      <td>...</td>\n",
       "      <td>...</td>\n",
       "    </tr>\n",
       "    <tr>\n",
       "      <th>10</th>\n",
       "      <td>Arp256_Sec</td>\n",
       "      <td>/mmfs1/scratch/hpc/60/oryan/fromMAST/thumbnail...</td>\n",
       "      <td>1</td>\n",
       "    </tr>\n",
       "    <tr>\n",
       "      <th>11</th>\n",
       "      <td>Arp214_Sec</td>\n",
       "      <td>/mmfs1/scratch/hpc/60/oryan/fromMAST/thumbnail...</td>\n",
       "      <td>1</td>\n",
       "    </tr>\n",
       "    <tr>\n",
       "      <th>12</th>\n",
       "      <td>Arp239_Sec</td>\n",
       "      <td>/mmfs1/scratch/hpc/60/oryan/fromMAST/thumbnail...</td>\n",
       "      <td>1</td>\n",
       "    </tr>\n",
       "    <tr>\n",
       "      <th>13</th>\n",
       "      <td>Arp302_Sec</td>\n",
       "      <td>/mmfs1/scratch/hpc/60/oryan/fromMAST/thumbnail...</td>\n",
       "      <td>1</td>\n",
       "    </tr>\n",
       "    <tr>\n",
       "      <th>14</th>\n",
       "      <td>Arp238_Sec</td>\n",
       "      <td>/mmfs1/scratch/hpc/60/oryan/fromMAST/thumbnail...</td>\n",
       "      <td>1</td>\n",
       "    </tr>\n",
       "  </tbody>\n",
       "</table>\n",
       "<p>565 rows × 3 columns</p>\n",
       "</div>"
      ],
      "text/plain": [
       "   zooniverse_id                                     thumbnail_path  \\\n",
       "0     AHZ10004js  /mmfs1/scratch/hpc/60/oryan/fromMAST/thumbnail...   \n",
       "1     AHZ20000ak  /mmfs1/scratch/hpc/60/oryan/fromMAST/thumbnail...   \n",
       "2     AHZ20000f7  /mmfs1/scratch/hpc/60/oryan/fromMAST/thumbnail...   \n",
       "3     AHZ20000gx  /mmfs1/scratch/hpc/60/oryan/fromMAST/thumbnail...   \n",
       "4     AHZ20000hj  /mmfs1/scratch/hpc/60/oryan/fromMAST/thumbnail...   \n",
       "..           ...                                                ...   \n",
       "10    Arp256_Sec  /mmfs1/scratch/hpc/60/oryan/fromMAST/thumbnail...   \n",
       "11    Arp214_Sec  /mmfs1/scratch/hpc/60/oryan/fromMAST/thumbnail...   \n",
       "12    Arp239_Sec  /mmfs1/scratch/hpc/60/oryan/fromMAST/thumbnail...   \n",
       "13    Arp302_Sec  /mmfs1/scratch/hpc/60/oryan/fromMAST/thumbnail...   \n",
       "14    Arp238_Sec  /mmfs1/scratch/hpc/60/oryan/fromMAST/thumbnail...   \n",
       "\n",
       "    interacting  \n",
       "0             1  \n",
       "1             1  \n",
       "2             1  \n",
       "3             1  \n",
       "4             1  \n",
       "..          ...  \n",
       "10            1  \n",
       "11            1  \n",
       "12            1  \n",
       "13            1  \n",
       "14            1  \n",
       "\n",
       "[565 rows x 3 columns]"
      ]
     },
     "execution_count": 14,
     "metadata": {},
     "output_type": "execute_result"
    }
   ],
   "source": [
    "manifest_all"
   ]
  },
  {
   "cell_type": "code",
   "execution_count": 15,
   "metadata": {},
   "outputs": [],
   "source": [
    "manifest_all_local = (\n",
    "    manifest_all\n",
    "    .assign(local_path = manifest_all.thumbnail_path.apply(lambda x: f'{folder}/{os.path.basename(x)}'))\n",
    ")"
   ]
  },
  {
   "cell_type": "code",
   "execution_count": 19,
   "metadata": {},
   "outputs": [],
   "source": [
    "manifest_all_local.to_csv(f'{save_folder}/hubble-loc-manifest.csv')"
   ]
  },
  {
   "cell_type": "markdown",
   "metadata": {},
   "source": [
    "### Loop Through Manifest"
   ]
  },
  {
   "cell_type": "code",
   "execution_count": 20,
   "metadata": {},
   "outputs": [],
   "source": [
    "manifest_all_local[\"my_interacting\"] = \"\""
   ]
  },
  {
   "cell_type": "code",
   "execution_count": 21,
   "metadata": {},
   "outputs": [],
   "source": [
    "counter = 0"
   ]
  },
  {
   "cell_type": "code",
   "execution_count": 1200,
   "metadata": {},
   "outputs": [
    {
     "ename": "IndexError",
     "evalue": "single positional indexer is out-of-bounds",
     "output_type": "error",
     "traceback": [
      "\u001b[1;31m---------------------------------------------------------------------------\u001b[0m",
      "\u001b[1;31mIndexError\u001b[0m                                Traceback (most recent call last)",
      "\u001b[1;32m<ipython-input-1200-9fb3fe66cef1>\u001b[0m in \u001b[0;36m<module>\u001b[1;34m\u001b[0m\n\u001b[1;32m----> 1\u001b[1;33m \u001b[0mpath\u001b[0m \u001b[1;33m=\u001b[0m \u001b[0mmanifest_all_local\u001b[0m\u001b[1;33m.\u001b[0m\u001b[0mlocal_path\u001b[0m\u001b[1;33m.\u001b[0m\u001b[0miloc\u001b[0m\u001b[1;33m[\u001b[0m\u001b[0mcounter\u001b[0m\u001b[1;33m]\u001b[0m\u001b[1;33m\u001b[0m\u001b[1;33m\u001b[0m\u001b[0m\n\u001b[0m\u001b[0;32m      2\u001b[0m \u001b[0mim\u001b[0m \u001b[1;33m=\u001b[0m \u001b[0mImage\u001b[0m\u001b[1;33m.\u001b[0m\u001b[0mopen\u001b[0m\u001b[1;33m(\u001b[0m\u001b[0mpath\u001b[0m\u001b[1;33m)\u001b[0m\u001b[1;33m\u001b[0m\u001b[1;33m\u001b[0m\u001b[0m\n\u001b[0;32m      3\u001b[0m \u001b[0mim\u001b[0m\u001b[1;33m\u001b[0m\u001b[1;33m\u001b[0m\u001b[0m\n",
      "\u001b[1;32m~\\AppData\\Local\\Continuum\\anaconda3\\lib\\site-packages\\pandas\\core\\indexing.py\u001b[0m in \u001b[0;36m__getitem__\u001b[1;34m(self, key)\u001b[0m\n\u001b[0;32m    877\u001b[0m \u001b[1;33m\u001b[0m\u001b[0m\n\u001b[0;32m    878\u001b[0m             \u001b[0mmaybe_callable\u001b[0m \u001b[1;33m=\u001b[0m \u001b[0mcom\u001b[0m\u001b[1;33m.\u001b[0m\u001b[0mapply_if_callable\u001b[0m\u001b[1;33m(\u001b[0m\u001b[0mkey\u001b[0m\u001b[1;33m,\u001b[0m \u001b[0mself\u001b[0m\u001b[1;33m.\u001b[0m\u001b[0mobj\u001b[0m\u001b[1;33m)\u001b[0m\u001b[1;33m\u001b[0m\u001b[1;33m\u001b[0m\u001b[0m\n\u001b[1;32m--> 879\u001b[1;33m             \u001b[1;32mreturn\u001b[0m \u001b[0mself\u001b[0m\u001b[1;33m.\u001b[0m\u001b[0m_getitem_axis\u001b[0m\u001b[1;33m(\u001b[0m\u001b[0mmaybe_callable\u001b[0m\u001b[1;33m,\u001b[0m \u001b[0maxis\u001b[0m\u001b[1;33m=\u001b[0m\u001b[0maxis\u001b[0m\u001b[1;33m)\u001b[0m\u001b[1;33m\u001b[0m\u001b[1;33m\u001b[0m\u001b[0m\n\u001b[0m\u001b[0;32m    880\u001b[0m \u001b[1;33m\u001b[0m\u001b[0m\n\u001b[0;32m    881\u001b[0m     \u001b[1;32mdef\u001b[0m \u001b[0m_is_scalar_access\u001b[0m\u001b[1;33m(\u001b[0m\u001b[0mself\u001b[0m\u001b[1;33m,\u001b[0m \u001b[0mkey\u001b[0m\u001b[1;33m:\u001b[0m \u001b[0mTuple\u001b[0m\u001b[1;33m)\u001b[0m\u001b[1;33m:\u001b[0m\u001b[1;33m\u001b[0m\u001b[1;33m\u001b[0m\u001b[0m\n",
      "\u001b[1;32m~\\AppData\\Local\\Continuum\\anaconda3\\lib\\site-packages\\pandas\\core\\indexing.py\u001b[0m in \u001b[0;36m_getitem_axis\u001b[1;34m(self, key, axis)\u001b[0m\n\u001b[0;32m   1494\u001b[0m \u001b[1;33m\u001b[0m\u001b[0m\n\u001b[0;32m   1495\u001b[0m             \u001b[1;31m# validate the location\u001b[0m\u001b[1;33m\u001b[0m\u001b[1;33m\u001b[0m\u001b[1;33m\u001b[0m\u001b[0m\n\u001b[1;32m-> 1496\u001b[1;33m             \u001b[0mself\u001b[0m\u001b[1;33m.\u001b[0m\u001b[0m_validate_integer\u001b[0m\u001b[1;33m(\u001b[0m\u001b[0mkey\u001b[0m\u001b[1;33m,\u001b[0m \u001b[0maxis\u001b[0m\u001b[1;33m)\u001b[0m\u001b[1;33m\u001b[0m\u001b[1;33m\u001b[0m\u001b[0m\n\u001b[0m\u001b[0;32m   1497\u001b[0m \u001b[1;33m\u001b[0m\u001b[0m\n\u001b[0;32m   1498\u001b[0m             \u001b[1;32mreturn\u001b[0m \u001b[0mself\u001b[0m\u001b[1;33m.\u001b[0m\u001b[0mobj\u001b[0m\u001b[1;33m.\u001b[0m\u001b[0m_ixs\u001b[0m\u001b[1;33m(\u001b[0m\u001b[0mkey\u001b[0m\u001b[1;33m,\u001b[0m \u001b[0maxis\u001b[0m\u001b[1;33m=\u001b[0m\u001b[0maxis\u001b[0m\u001b[1;33m)\u001b[0m\u001b[1;33m\u001b[0m\u001b[1;33m\u001b[0m\u001b[0m\n",
      "\u001b[1;32m~\\AppData\\Local\\Continuum\\anaconda3\\lib\\site-packages\\pandas\\core\\indexing.py\u001b[0m in \u001b[0;36m_validate_integer\u001b[1;34m(self, key, axis)\u001b[0m\n\u001b[0;32m   1435\u001b[0m         \u001b[0mlen_axis\u001b[0m \u001b[1;33m=\u001b[0m \u001b[0mlen\u001b[0m\u001b[1;33m(\u001b[0m\u001b[0mself\u001b[0m\u001b[1;33m.\u001b[0m\u001b[0mobj\u001b[0m\u001b[1;33m.\u001b[0m\u001b[0m_get_axis\u001b[0m\u001b[1;33m(\u001b[0m\u001b[0maxis\u001b[0m\u001b[1;33m)\u001b[0m\u001b[1;33m)\u001b[0m\u001b[1;33m\u001b[0m\u001b[1;33m\u001b[0m\u001b[0m\n\u001b[0;32m   1436\u001b[0m         \u001b[1;32mif\u001b[0m \u001b[0mkey\u001b[0m \u001b[1;33m>=\u001b[0m \u001b[0mlen_axis\u001b[0m \u001b[1;32mor\u001b[0m \u001b[0mkey\u001b[0m \u001b[1;33m<\u001b[0m \u001b[1;33m-\u001b[0m\u001b[0mlen_axis\u001b[0m\u001b[1;33m:\u001b[0m\u001b[1;33m\u001b[0m\u001b[1;33m\u001b[0m\u001b[0m\n\u001b[1;32m-> 1437\u001b[1;33m             \u001b[1;32mraise\u001b[0m \u001b[0mIndexError\u001b[0m\u001b[1;33m(\u001b[0m\u001b[1;34m\"single positional indexer is out-of-bounds\"\u001b[0m\u001b[1;33m)\u001b[0m\u001b[1;33m\u001b[0m\u001b[1;33m\u001b[0m\u001b[0m\n\u001b[0m\u001b[0;32m   1438\u001b[0m \u001b[1;33m\u001b[0m\u001b[0m\n\u001b[0;32m   1439\u001b[0m     \u001b[1;31m# -------------------------------------------------------------------\u001b[0m\u001b[1;33m\u001b[0m\u001b[1;33m\u001b[0m\u001b[1;33m\u001b[0m\u001b[0m\n",
      "\u001b[1;31mIndexError\u001b[0m: single positional indexer is out-of-bounds"
     ]
    }
   ],
   "source": [
    "path = manifest_all_local.local_path.iloc[counter]\n",
    "im = Image.open(path)\n",
    "im"
   ]
  },
  {
   "cell_type": "code",
   "execution_count": 1199,
   "metadata": {},
   "outputs": [
    {
     "name": "stdout",
     "output_type": "stream",
     "text": [
      "99.82300884955752\n"
     ]
    }
   ],
   "source": [
    "manifest_all_local[\"my_interacting\"].iloc[counter] = 1\n",
    "print(100*(counter/len(manifest_all_local)))\n",
    "counter += 1"
   ]
  },
  {
   "cell_type": "code",
   "execution_count": 1045,
   "metadata": {},
   "outputs": [
    {
     "data": {
      "text/html": [
       "<div>\n",
       "<style scoped>\n",
       "    .dataframe tbody tr th:only-of-type {\n",
       "        vertical-align: middle;\n",
       "    }\n",
       "\n",
       "    .dataframe tbody tr th {\n",
       "        vertical-align: top;\n",
       "    }\n",
       "\n",
       "    .dataframe thead th {\n",
       "        text-align: right;\n",
       "    }\n",
       "</style>\n",
       "<table border=\"1\" class=\"dataframe\">\n",
       "  <thead>\n",
       "    <tr style=\"text-align: right;\">\n",
       "      <th></th>\n",
       "      <th>zooniverse_id</th>\n",
       "      <th>thumbnail_path</th>\n",
       "      <th>interacting</th>\n",
       "      <th>local_path</th>\n",
       "      <th>my_interacting</th>\n",
       "    </tr>\n",
       "  </thead>\n",
       "  <tbody>\n",
       "    <tr>\n",
       "      <th>0</th>\n",
       "      <td>AHZ10004js</td>\n",
       "      <td>/mmfs1/scratch/hpc/60/oryan/fromMAST/thumbnail...</td>\n",
       "      <td>1</td>\n",
       "      <td>C:/Users/oryan/Documents/esac-project/cutouts/...</td>\n",
       "      <td>1</td>\n",
       "    </tr>\n",
       "    <tr>\n",
       "      <th>1</th>\n",
       "      <td>AHZ20000ak</td>\n",
       "      <td>/mmfs1/scratch/hpc/60/oryan/fromMAST/thumbnail...</td>\n",
       "      <td>1</td>\n",
       "      <td>C:/Users/oryan/Documents/esac-project/cutouts/...</td>\n",
       "      <td>1</td>\n",
       "    </tr>\n",
       "    <tr>\n",
       "      <th>2</th>\n",
       "      <td>AHZ20000f7</td>\n",
       "      <td>/mmfs1/scratch/hpc/60/oryan/fromMAST/thumbnail...</td>\n",
       "      <td>1</td>\n",
       "      <td>C:/Users/oryan/Documents/esac-project/cutouts/...</td>\n",
       "      <td>1</td>\n",
       "    </tr>\n",
       "    <tr>\n",
       "      <th>3</th>\n",
       "      <td>AHZ20000gx</td>\n",
       "      <td>/mmfs1/scratch/hpc/60/oryan/fromMAST/thumbnail...</td>\n",
       "      <td>1</td>\n",
       "      <td>C:/Users/oryan/Documents/esac-project/cutouts/...</td>\n",
       "      <td>1</td>\n",
       "    </tr>\n",
       "    <tr>\n",
       "      <th>4</th>\n",
       "      <td>AHZ20000hj</td>\n",
       "      <td>/mmfs1/scratch/hpc/60/oryan/fromMAST/thumbnail...</td>\n",
       "      <td>1</td>\n",
       "      <td>C:/Users/oryan/Documents/esac-project/cutouts/...</td>\n",
       "      <td>NaN</td>\n",
       "    </tr>\n",
       "    <tr>\n",
       "      <th>...</th>\n",
       "      <td>...</td>\n",
       "      <td>...</td>\n",
       "      <td>...</td>\n",
       "      <td>...</td>\n",
       "      <td>...</td>\n",
       "    </tr>\n",
       "    <tr>\n",
       "      <th>10</th>\n",
       "      <td>Arp256_Sec</td>\n",
       "      <td>/mmfs1/scratch/hpc/60/oryan/fromMAST/thumbnail...</td>\n",
       "      <td>1</td>\n",
       "      <td>C:/Users/oryan/Documents/esac-project/cutouts/...</td>\n",
       "      <td></td>\n",
       "    </tr>\n",
       "    <tr>\n",
       "      <th>11</th>\n",
       "      <td>Arp214_Sec</td>\n",
       "      <td>/mmfs1/scratch/hpc/60/oryan/fromMAST/thumbnail...</td>\n",
       "      <td>1</td>\n",
       "      <td>C:/Users/oryan/Documents/esac-project/cutouts/...</td>\n",
       "      <td></td>\n",
       "    </tr>\n",
       "    <tr>\n",
       "      <th>12</th>\n",
       "      <td>Arp239_Sec</td>\n",
       "      <td>/mmfs1/scratch/hpc/60/oryan/fromMAST/thumbnail...</td>\n",
       "      <td>1</td>\n",
       "      <td>C:/Users/oryan/Documents/esac-project/cutouts/...</td>\n",
       "      <td></td>\n",
       "    </tr>\n",
       "    <tr>\n",
       "      <th>13</th>\n",
       "      <td>Arp302_Sec</td>\n",
       "      <td>/mmfs1/scratch/hpc/60/oryan/fromMAST/thumbnail...</td>\n",
       "      <td>1</td>\n",
       "      <td>C:/Users/oryan/Documents/esac-project/cutouts/...</td>\n",
       "      <td></td>\n",
       "    </tr>\n",
       "    <tr>\n",
       "      <th>14</th>\n",
       "      <td>Arp238_Sec</td>\n",
       "      <td>/mmfs1/scratch/hpc/60/oryan/fromMAST/thumbnail...</td>\n",
       "      <td>1</td>\n",
       "      <td>C:/Users/oryan/Documents/esac-project/cutouts/...</td>\n",
       "      <td></td>\n",
       "    </tr>\n",
       "  </tbody>\n",
       "</table>\n",
       "<p>565 rows × 5 columns</p>\n",
       "</div>"
      ],
      "text/plain": [
       "   zooniverse_id                                     thumbnail_path  \\\n",
       "0     AHZ10004js  /mmfs1/scratch/hpc/60/oryan/fromMAST/thumbnail...   \n",
       "1     AHZ20000ak  /mmfs1/scratch/hpc/60/oryan/fromMAST/thumbnail...   \n",
       "2     AHZ20000f7  /mmfs1/scratch/hpc/60/oryan/fromMAST/thumbnail...   \n",
       "3     AHZ20000gx  /mmfs1/scratch/hpc/60/oryan/fromMAST/thumbnail...   \n",
       "4     AHZ20000hj  /mmfs1/scratch/hpc/60/oryan/fromMAST/thumbnail...   \n",
       "..           ...                                                ...   \n",
       "10    Arp256_Sec  /mmfs1/scratch/hpc/60/oryan/fromMAST/thumbnail...   \n",
       "11    Arp214_Sec  /mmfs1/scratch/hpc/60/oryan/fromMAST/thumbnail...   \n",
       "12    Arp239_Sec  /mmfs1/scratch/hpc/60/oryan/fromMAST/thumbnail...   \n",
       "13    Arp302_Sec  /mmfs1/scratch/hpc/60/oryan/fromMAST/thumbnail...   \n",
       "14    Arp238_Sec  /mmfs1/scratch/hpc/60/oryan/fromMAST/thumbnail...   \n",
       "\n",
       "    interacting                                         local_path  \\\n",
       "0             1  C:/Users/oryan/Documents/esac-project/cutouts/...   \n",
       "1             1  C:/Users/oryan/Documents/esac-project/cutouts/...   \n",
       "2             1  C:/Users/oryan/Documents/esac-project/cutouts/...   \n",
       "3             1  C:/Users/oryan/Documents/esac-project/cutouts/...   \n",
       "4             1  C:/Users/oryan/Documents/esac-project/cutouts/...   \n",
       "..          ...                                                ...   \n",
       "10            1  C:/Users/oryan/Documents/esac-project/cutouts/...   \n",
       "11            1  C:/Users/oryan/Documents/esac-project/cutouts/...   \n",
       "12            1  C:/Users/oryan/Documents/esac-project/cutouts/...   \n",
       "13            1  C:/Users/oryan/Documents/esac-project/cutouts/...   \n",
       "14            1  C:/Users/oryan/Documents/esac-project/cutouts/...   \n",
       "\n",
       "   my_interacting  \n",
       "0               1  \n",
       "1               1  \n",
       "2               1  \n",
       "3               1  \n",
       "4             NaN  \n",
       "..            ...  \n",
       "10                 \n",
       "11                 \n",
       "12                 \n",
       "13                 \n",
       "14                 \n",
       "\n",
       "[565 rows x 5 columns]"
      ]
     },
     "execution_count": 1045,
     "metadata": {},
     "output_type": "execute_result"
    }
   ],
   "source": [
    "manifest_all_local"
   ]
  },
  {
   "cell_type": "code",
   "execution_count": 1189,
   "metadata": {},
   "outputs": [],
   "source": [
    "manifest_all_local[\"my_interacting\"].iloc[counter-1] = 0"
   ]
  },
  {
   "cell_type": "code",
   "execution_count": 1188,
   "metadata": {},
   "outputs": [
    {
     "data": {
      "image/png": "[encoded data removed]",
      "text/plain": [
       "<PIL.PngImagePlugin.PngImageFile image mode=L size=300x300 at 0x1F173FA2E48>"
      ]
     },
     "execution_count": 1188,
     "metadata": {},
     "output_type": "execute_result"
    }
   ],
   "source": [
    "path = manifest_all_local.local_path.iloc[counter-1]\n",
    "im = Image.open(path)\n",
    "im"
   ]
  },
  {
   "cell_type": "code",
   "execution_count": 1202,
   "metadata": {},
   "outputs": [],
   "source": [
    "manifest_all_local.to_csv(f'{save_folder}/hubble-loc-manifest-unchecked.csv')"
   ]
  },
  {
   "cell_type": "code",
   "execution_count": 1388,
   "metadata": {},
   "outputs": [],
   "source": [
    "dis_manifest = manifest_all_local.query('interacting != my_interacting')"
   ]
  },
  {
   "cell_type": "code",
   "execution_count": 1389,
   "metadata": {},
   "outputs": [
    {
     "data": {
      "text/html": [
       "<div>\n",
       "<style scoped>\n",
       "    .dataframe tbody tr th:only-of-type {\n",
       "        vertical-align: middle;\n",
       "    }\n",
       "\n",
       "    .dataframe tbody tr th {\n",
       "        vertical-align: top;\n",
       "    }\n",
       "\n",
       "    .dataframe thead th {\n",
       "        text-align: right;\n",
       "    }\n",
       "</style>\n",
       "<table border=\"1\" class=\"dataframe\">\n",
       "  <thead>\n",
       "    <tr style=\"text-align: right;\">\n",
       "      <th></th>\n",
       "      <th>zooniverse_id</th>\n",
       "      <th>thumbnail_path</th>\n",
       "      <th>interacting</th>\n",
       "      <th>local_path</th>\n",
       "      <th>my_interacting</th>\n",
       "    </tr>\n",
       "  </thead>\n",
       "  <tbody>\n",
       "    <tr>\n",
       "      <th>4</th>\n",
       "      <td>AHZ20000hj</td>\n",
       "      <td>/mmfs1/scratch/hpc/60/oryan/fromMAST/thumbnail...</td>\n",
       "      <td>1</td>\n",
       "      <td>C:/Users/oryan/Documents/esac-project/cutouts/...</td>\n",
       "      <td>NaN</td>\n",
       "    </tr>\n",
       "    <tr>\n",
       "      <th>6</th>\n",
       "      <td>AHZ20001y6</td>\n",
       "      <td>/mmfs1/scratch/hpc/60/oryan/fromMAST/thumbnail...</td>\n",
       "      <td>1</td>\n",
       "      <td>C:/Users/oryan/Documents/esac-project/cutouts/...</td>\n",
       "      <td>0</td>\n",
       "    </tr>\n",
       "    <tr>\n",
       "      <th>8</th>\n",
       "      <td>AHZ2000251</td>\n",
       "      <td>/mmfs1/scratch/hpc/60/oryan/fromMAST/thumbnail...</td>\n",
       "      <td>1</td>\n",
       "      <td>C:/Users/oryan/Documents/esac-project/cutouts/...</td>\n",
       "      <td>0</td>\n",
       "    </tr>\n",
       "    <tr>\n",
       "      <th>13</th>\n",
       "      <td>AHZ20002ta</td>\n",
       "      <td>/mmfs1/scratch/hpc/60/oryan/fromMAST/thumbnail...</td>\n",
       "      <td>1</td>\n",
       "      <td>C:/Users/oryan/Documents/esac-project/cutouts/...</td>\n",
       "      <td>0</td>\n",
       "    </tr>\n",
       "    <tr>\n",
       "      <th>16</th>\n",
       "      <td>AHZ20003s1</td>\n",
       "      <td>/mmfs1/scratch/hpc/60/oryan/fromMAST/thumbnail...</td>\n",
       "      <td>1</td>\n",
       "      <td>C:/Users/oryan/Documents/esac-project/cutouts/...</td>\n",
       "      <td>0</td>\n",
       "    </tr>\n",
       "    <tr>\n",
       "      <th>...</th>\n",
       "      <td>...</td>\n",
       "      <td>...</td>\n",
       "      <td>...</td>\n",
       "      <td>...</td>\n",
       "      <td>...</td>\n",
       "    </tr>\n",
       "    <tr>\n",
       "      <th>512</th>\n",
       "      <td>AHZ20000ek</td>\n",
       "      <td>/mmfs1/scratch/hpc/60/oryan/fromMAST/thumbnail...</td>\n",
       "      <td>0</td>\n",
       "      <td>C:/Users/oryan/Documents/esac-project/cutouts/...</td>\n",
       "      <td>1</td>\n",
       "    </tr>\n",
       "    <tr>\n",
       "      <th>514</th>\n",
       "      <td>AHZ2001jsf</td>\n",
       "      <td>/mmfs1/scratch/hpc/60/oryan/fromMAST/thumbnail...</td>\n",
       "      <td>0</td>\n",
       "      <td>C:/Users/oryan/Documents/esac-project/cutouts/...</td>\n",
       "      <td>1</td>\n",
       "    </tr>\n",
       "    <tr>\n",
       "      <th>540</th>\n",
       "      <td>AHZ2001ifb</td>\n",
       "      <td>/mmfs1/scratch/hpc/60/oryan/fromMAST/thumbnail...</td>\n",
       "      <td>0</td>\n",
       "      <td>C:/Users/oryan/Documents/esac-project/cutouts/...</td>\n",
       "      <td>1</td>\n",
       "    </tr>\n",
       "    <tr>\n",
       "      <th>2</th>\n",
       "      <td>Arp214_Prim</td>\n",
       "      <td>/mmfs1/scratch/hpc/60/oryan/fromMAST/thumbnail...</td>\n",
       "      <td>1</td>\n",
       "      <td>C:/Users/oryan/Documents/esac-project/cutouts/...</td>\n",
       "      <td>0</td>\n",
       "    </tr>\n",
       "    <tr>\n",
       "      <th>9</th>\n",
       "      <td>Arp142_Sec</td>\n",
       "      <td>/mmfs1/scratch/hpc/60/oryan/fromMAST/thumbnail...</td>\n",
       "      <td>1</td>\n",
       "      <td>C:/Users/oryan/Documents/esac-project/cutouts/...</td>\n",
       "      <td>0</td>\n",
       "    </tr>\n",
       "  </tbody>\n",
       "</table>\n",
       "<p>146 rows × 5 columns</p>\n",
       "</div>"
      ],
      "text/plain": [
       "    zooniverse_id                                     thumbnail_path  \\\n",
       "4      AHZ20000hj  /mmfs1/scratch/hpc/60/oryan/fromMAST/thumbnail...   \n",
       "6      AHZ20001y6  /mmfs1/scratch/hpc/60/oryan/fromMAST/thumbnail...   \n",
       "8      AHZ2000251  /mmfs1/scratch/hpc/60/oryan/fromMAST/thumbnail...   \n",
       "13     AHZ20002ta  /mmfs1/scratch/hpc/60/oryan/fromMAST/thumbnail...   \n",
       "16     AHZ20003s1  /mmfs1/scratch/hpc/60/oryan/fromMAST/thumbnail...   \n",
       "..            ...                                                ...   \n",
       "512    AHZ20000ek  /mmfs1/scratch/hpc/60/oryan/fromMAST/thumbnail...   \n",
       "514    AHZ2001jsf  /mmfs1/scratch/hpc/60/oryan/fromMAST/thumbnail...   \n",
       "540    AHZ2001ifb  /mmfs1/scratch/hpc/60/oryan/fromMAST/thumbnail...   \n",
       "2     Arp214_Prim  /mmfs1/scratch/hpc/60/oryan/fromMAST/thumbnail...   \n",
       "9      Arp142_Sec  /mmfs1/scratch/hpc/60/oryan/fromMAST/thumbnail...   \n",
       "\n",
       "     interacting                                         local_path  \\\n",
       "4              1  C:/Users/oryan/Documents/esac-project/cutouts/...   \n",
       "6              1  C:/Users/oryan/Documents/esac-project/cutouts/...   \n",
       "8              1  C:/Users/oryan/Documents/esac-project/cutouts/...   \n",
       "13             1  C:/Users/oryan/Documents/esac-project/cutouts/...   \n",
       "16             1  C:/Users/oryan/Documents/esac-project/cutouts/...   \n",
       "..           ...                                                ...   \n",
       "512            0  C:/Users/oryan/Documents/esac-project/cutouts/...   \n",
       "514            0  C:/Users/oryan/Documents/esac-project/cutouts/...   \n",
       "540            0  C:/Users/oryan/Documents/esac-project/cutouts/...   \n",
       "2              1  C:/Users/oryan/Documents/esac-project/cutouts/...   \n",
       "9              1  C:/Users/oryan/Documents/esac-project/cutouts/...   \n",
       "\n",
       "    my_interacting  \n",
       "4              NaN  \n",
       "6                0  \n",
       "8                0  \n",
       "13               0  \n",
       "16               0  \n",
       "..             ...  \n",
       "512              1  \n",
       "514              1  \n",
       "540              1  \n",
       "2                0  \n",
       "9                0  \n",
       "\n",
       "[146 rows x 5 columns]"
      ]
     },
     "execution_count": 1389,
     "metadata": {},
     "output_type": "execute_result"
    }
   ],
   "source": [
    "dis_manifest"
   ]
  },
  {
   "cell_type": "code",
   "execution_count": 1391,
   "metadata": {},
   "outputs": [
    {
     "data": {
      "text/plain": [
       "0    310\n",
       "1    255\n",
       "Name: interacting, dtype: int64"
      ]
     },
     "execution_count": 1391,
     "metadata": {},
     "output_type": "execute_result"
    }
   ],
   "source": [
    "manifest_all_local.interacting.value_counts()"
   ]
  },
  {
   "cell_type": "code",
   "execution_count": 1207,
   "metadata": {},
   "outputs": [],
   "source": [
    "counter = 0"
   ]
  },
  {
   "cell_type": "code",
   "execution_count": 1383,
   "metadata": {},
   "outputs": [
    {
     "name": "stdout",
     "output_type": "stream",
     "text": [
      "0\n"
     ]
    },
    {
     "data": {
      "image/png": "[encoded data removed]",
      "text/plain": [
       "<PIL.PngImagePlugin.PngImageFile image mode=L size=300x300 at 0x1F1751A6E48>"
      ]
     },
     "execution_count": 1383,
     "metadata": {},
     "output_type": "execute_result"
    }
   ],
   "source": [
    "path = dis_manifest.local_path.iloc[counter]\n",
    "im = Image.open(path)\n",
    "print(dis_manifest.my_interacting.iloc[counter])\n",
    "counter += 1\n",
    "im"
   ]
  },
  {
   "cell_type": "code",
   "execution_count": 1384,
   "metadata": {},
   "outputs": [
    {
     "data": {
      "text/plain": [
       "zooniverse_id                                            AHZ2001fpq\n",
       "thumbnail_path    /mmfs1/scratch/hpc/60/oryan/fromMAST/thumbnail...\n",
       "interacting                                                       1\n",
       "local_path        C:/Users/oryan/Documents/esac-project/cutouts/...\n",
       "my_interacting                                                    0\n",
       "Name: 207, dtype: object"
      ]
     },
     "execution_count": 1384,
     "metadata": {},
     "output_type": "execute_result"
    }
   ],
   "source": [
    "dis_manifest.iloc[counter-1]"
   ]
  },
  {
   "cell_type": "code",
   "execution_count": 1385,
   "metadata": {},
   "outputs": [
    {
     "name": "stderr",
     "output_type": "stream",
     "text": [
      "C:\\Users\\oryan\\AppData\\Local\\Continuum\\anaconda3\\lib\\site-packages\\pandas\\core\\generic.py:5168: SettingWithCopyWarning: \n",
      "A value is trying to be set on a copy of a slice from a DataFrame\n",
      "\n",
      "See the caveats in the documentation: https://pandas.pydata.org/pandas-docs/stable/user_guide/indexing.html#returning-a-view-versus-a-copy\n",
      "  self[name] = value\n"
     ]
    }
   ],
   "source": [
    "manifest_all_local.loc[207].my_interacting = 1"
   ]
  },
  {
   "cell_type": "code",
   "execution_count": null,
   "metadata": {},
   "outputs": [],
   "source": []
  }
 ],
 "metadata": {
  "kernelspec": {
   "display_name": "Python 3",
   "language": "python",
   "name": "python3"
  },
  "language_info": {
   "codemirror_mode": {
    "name": "ipython",
    "version": 3
   },
   "file_extension": ".py",
   "mimetype": "text/x-python",
   "name": "python",
   "nbconvert_exporter": "python",
   "pygments_lexer": "ipython3",
   "version": "3.7.4"
  }
 },
 "nbformat": 4,
 "nbformat_minor": 4
}
